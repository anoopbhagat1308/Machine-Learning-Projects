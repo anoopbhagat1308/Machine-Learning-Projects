{
 "cells": [
  {
   "cell_type": "markdown",
   "metadata": {},
   "source": [
    "# Problem Statement:\n",
    "\n",
    "Why are our best and most experienced employees leaving prematurely? Use this database and try to predict which valuable employees will leave next.\n",
    "\n",
    "# Data Dictionary:\n",
    "\n",
    "* satisfaction_level: satisfaction rating on scale of 0 to 1\n",
    "* last_evaluation: Evaluation rating on scale of 0 to 1\n",
    "* number_project: Number of projects employee is involved with\n",
    "* average_montly_hours: Average monthly hrs clocked in last quarte\n",
    "* time_spend_company: Time spent in the company ( in years)\n",
    "* Work_accident: Work Accident flag\n",
    "* promotion_last_5years: Whether the employee was promoted in last 5 years (1=Yes, 0=No)\n",
    "* sales: Which sales category was his role in, the category sales represents generic sales profile\n",
    "* salary: Category of the salary\n",
    "\n",
    "**Target Variable** :\n",
    "\n",
    "* left: Whether that employee has quit or not ( 1= Yes , 0 = No). This is the target variable"
   ]
  },
  {
   "cell_type": "markdown",
   "metadata": {},
   "source": [
    "# 1. Import Libraries"
   ]
  },
  {
   "cell_type": "code",
   "execution_count": 1,
   "metadata": {},
   "outputs": [],
   "source": [
    "import pandas as pd\n",
    "import numpy as np\n",
    "import math\n",
    "import matplotlib.pyplot as plt\n",
    "import seaborn as sns\n",
    "sns.set()\n",
    "import warnings\n",
    "warnings.filterwarnings('ignore')\n",
    "\n",
    "from sklearn.linear_model import LogisticRegression\n",
    "from sklearn.linear_model import RidgeClassifier\n",
    "from sklearn.linear_model import Lasso\n",
    "from sklearn.tree import DecisionTreeClassifier\n",
    "from sklearn.ensemble import RandomForestClassifier\n",
    "from sklearn.svm import SVC\n",
    "from sklearn.neighbors import KNeighborsClassifier\n",
    "from sklearn.naive_bayes import GaussianNB\n",
    "from sklearn.linear_model import SGDClassifier\n",
    "from sklearn.ensemble import AdaBoostClassifier\n",
    "from sklearn.ensemble import GradientBoostingClassifier\n",
    "from xgboost import XGBClassifier\n",
    "import lightgbm as lgb\n",
    "from catboost import CatBoostClassifier\n",
    "\n",
    "from sklearn.model_selection import KFold, StratifiedKFold\n",
    "from sklearn.model_selection import cross_val_score\n",
    "\n",
    "from sklearn.metrics import confusion_matrix\n",
    "from sklearn.metrics import precision_recall_curve\n",
    "from sklearn.metrics import roc_curve\n",
    "from sklearn.metrics import roc_auc_score\n",
    "from sklearn.metrics import accuracy_score, classification_report, precision_score, recall_score"
   ]
  },
  {
   "cell_type": "markdown",
   "metadata": {},
   "source": [
    "# 2. Import Datasets"
   ]
  },
  {
   "cell_type": "code",
   "execution_count": 2,
   "metadata": {},
   "outputs": [],
   "source": [
    "# loading train & test data\n",
    "train = pd.read_csv('hr_train.csv')\n",
    "test =  pd.read_csv('hr_test.csv')"
   ]
  },
  {
   "cell_type": "markdown",
   "metadata": {},
   "source": [
    "# 3. Data Exploration"
   ]
  },
  {
   "cell_type": "code",
   "execution_count": 3,
   "metadata": {},
   "outputs": [
    {
     "data": {
      "text/html": [
       "<div>\n",
       "<style scoped>\n",
       "    .dataframe tbody tr th:only-of-type {\n",
       "        vertical-align: middle;\n",
       "    }\n",
       "\n",
       "    .dataframe tbody tr th {\n",
       "        vertical-align: top;\n",
       "    }\n",
       "\n",
       "    .dataframe thead th {\n",
       "        text-align: right;\n",
       "    }\n",
       "</style>\n",
       "<table border=\"1\" class=\"dataframe\">\n",
       "  <thead>\n",
       "    <tr style=\"text-align: right;\">\n",
       "      <th></th>\n",
       "      <th>satisfaction_level</th>\n",
       "      <th>last_evaluation</th>\n",
       "      <th>number_project</th>\n",
       "      <th>average_montly_hours</th>\n",
       "      <th>time_spend_company</th>\n",
       "      <th>Work_accident</th>\n",
       "      <th>left</th>\n",
       "      <th>promotion_last_5years</th>\n",
       "      <th>sales</th>\n",
       "      <th>salary</th>\n",
       "    </tr>\n",
       "  </thead>\n",
       "  <tbody>\n",
       "    <tr>\n",
       "      <th>0</th>\n",
       "      <td>0.42</td>\n",
       "      <td>0.46</td>\n",
       "      <td>2</td>\n",
       "      <td>150</td>\n",
       "      <td>3</td>\n",
       "      <td>0</td>\n",
       "      <td>1</td>\n",
       "      <td>0</td>\n",
       "      <td>sales</td>\n",
       "      <td>medium</td>\n",
       "    </tr>\n",
       "    <tr>\n",
       "      <th>1</th>\n",
       "      <td>0.66</td>\n",
       "      <td>0.77</td>\n",
       "      <td>2</td>\n",
       "      <td>171</td>\n",
       "      <td>2</td>\n",
       "      <td>0</td>\n",
       "      <td>0</td>\n",
       "      <td>0</td>\n",
       "      <td>technical</td>\n",
       "      <td>medium</td>\n",
       "    </tr>\n",
       "    <tr>\n",
       "      <th>2</th>\n",
       "      <td>0.55</td>\n",
       "      <td>0.49</td>\n",
       "      <td>5</td>\n",
       "      <td>240</td>\n",
       "      <td>3</td>\n",
       "      <td>0</td>\n",
       "      <td>0</td>\n",
       "      <td>0</td>\n",
       "      <td>technical</td>\n",
       "      <td>high</td>\n",
       "    </tr>\n",
       "    <tr>\n",
       "      <th>3</th>\n",
       "      <td>0.22</td>\n",
       "      <td>0.88</td>\n",
       "      <td>4</td>\n",
       "      <td>213</td>\n",
       "      <td>3</td>\n",
       "      <td>1</td>\n",
       "      <td>0</td>\n",
       "      <td>0</td>\n",
       "      <td>technical</td>\n",
       "      <td>medium</td>\n",
       "    </tr>\n",
       "    <tr>\n",
       "      <th>4</th>\n",
       "      <td>0.20</td>\n",
       "      <td>0.72</td>\n",
       "      <td>6</td>\n",
       "      <td>224</td>\n",
       "      <td>4</td>\n",
       "      <td>0</td>\n",
       "      <td>1</td>\n",
       "      <td>0</td>\n",
       "      <td>technical</td>\n",
       "      <td>medium</td>\n",
       "    </tr>\n",
       "  </tbody>\n",
       "</table>\n",
       "</div>"
      ],
      "text/plain": [
       "   satisfaction_level  last_evaluation  number_project  average_montly_hours  \\\n",
       "0                0.42             0.46               2                   150   \n",
       "1                0.66             0.77               2                   171   \n",
       "2                0.55             0.49               5                   240   \n",
       "3                0.22             0.88               4                   213   \n",
       "4                0.20             0.72               6                   224   \n",
       "\n",
       "   time_spend_company  Work_accident  left  promotion_last_5years      sales  \\\n",
       "0                   3              0     1                      0      sales   \n",
       "1                   2              0     0                      0  technical   \n",
       "2                   3              0     0                      0  technical   \n",
       "3                   3              1     0                      0  technical   \n",
       "4                   4              0     1                      0  technical   \n",
       "\n",
       "   salary  \n",
       "0  medium  \n",
       "1  medium  \n",
       "2    high  \n",
       "3  medium  \n",
       "4  medium  "
      ]
     },
     "execution_count": 3,
     "metadata": {},
     "output_type": "execute_result"
    }
   ],
   "source": [
    "# display the top 5 rows of the data \n",
    "train.head()"
   ]
  },
  {
   "cell_type": "code",
   "execution_count": 4,
   "metadata": {},
   "outputs": [
    {
     "data": {
      "text/html": [
       "<div>\n",
       "<style scoped>\n",
       "    .dataframe tbody tr th:only-of-type {\n",
       "        vertical-align: middle;\n",
       "    }\n",
       "\n",
       "    .dataframe tbody tr th {\n",
       "        vertical-align: top;\n",
       "    }\n",
       "\n",
       "    .dataframe thead th {\n",
       "        text-align: right;\n",
       "    }\n",
       "</style>\n",
       "<table border=\"1\" class=\"dataframe\">\n",
       "  <thead>\n",
       "    <tr style=\"text-align: right;\">\n",
       "      <th></th>\n",
       "      <th>satisfaction_level</th>\n",
       "      <th>last_evaluation</th>\n",
       "      <th>number_project</th>\n",
       "      <th>average_montly_hours</th>\n",
       "      <th>time_spend_company</th>\n",
       "      <th>Work_accident</th>\n",
       "      <th>left</th>\n",
       "      <th>promotion_last_5years</th>\n",
       "      <th>sales</th>\n",
       "      <th>salary</th>\n",
       "    </tr>\n",
       "  </thead>\n",
       "  <tbody>\n",
       "    <tr>\n",
       "      <th>10494</th>\n",
       "      <td>0.82</td>\n",
       "      <td>0.84</td>\n",
       "      <td>3</td>\n",
       "      <td>237</td>\n",
       "      <td>2</td>\n",
       "      <td>0</td>\n",
       "      <td>0</td>\n",
       "      <td>0</td>\n",
       "      <td>technical</td>\n",
       "      <td>low</td>\n",
       "    </tr>\n",
       "    <tr>\n",
       "      <th>10495</th>\n",
       "      <td>0.85</td>\n",
       "      <td>0.81</td>\n",
       "      <td>3</td>\n",
       "      <td>205</td>\n",
       "      <td>3</td>\n",
       "      <td>0</td>\n",
       "      <td>0</td>\n",
       "      <td>0</td>\n",
       "      <td>marketing</td>\n",
       "      <td>high</td>\n",
       "    </tr>\n",
       "    <tr>\n",
       "      <th>10496</th>\n",
       "      <td>0.32</td>\n",
       "      <td>0.95</td>\n",
       "      <td>5</td>\n",
       "      <td>172</td>\n",
       "      <td>2</td>\n",
       "      <td>0</td>\n",
       "      <td>1</td>\n",
       "      <td>0</td>\n",
       "      <td>sales</td>\n",
       "      <td>low</td>\n",
       "    </tr>\n",
       "    <tr>\n",
       "      <th>10497</th>\n",
       "      <td>0.51</td>\n",
       "      <td>0.76</td>\n",
       "      <td>4</td>\n",
       "      <td>140</td>\n",
       "      <td>3</td>\n",
       "      <td>0</td>\n",
       "      <td>1</td>\n",
       "      <td>0</td>\n",
       "      <td>support</td>\n",
       "      <td>low</td>\n",
       "    </tr>\n",
       "    <tr>\n",
       "      <th>10498</th>\n",
       "      <td>0.80</td>\n",
       "      <td>0.68</td>\n",
       "      <td>4</td>\n",
       "      <td>199</td>\n",
       "      <td>2</td>\n",
       "      <td>0</td>\n",
       "      <td>0</td>\n",
       "      <td>0</td>\n",
       "      <td>IT</td>\n",
       "      <td>medium</td>\n",
       "    </tr>\n",
       "  </tbody>\n",
       "</table>\n",
       "</div>"
      ],
      "text/plain": [
       "       satisfaction_level  last_evaluation  number_project  \\\n",
       "10494                0.82             0.84               3   \n",
       "10495                0.85             0.81               3   \n",
       "10496                0.32             0.95               5   \n",
       "10497                0.51             0.76               4   \n",
       "10498                0.80             0.68               4   \n",
       "\n",
       "       average_montly_hours  time_spend_company  Work_accident  left  \\\n",
       "10494                   237                   2              0     0   \n",
       "10495                   205                   3              0     0   \n",
       "10496                   172                   2              0     1   \n",
       "10497                   140                   3              0     1   \n",
       "10498                   199                   2              0     0   \n",
       "\n",
       "       promotion_last_5years      sales  salary  \n",
       "10494                      0  technical     low  \n",
       "10495                      0  marketing    high  \n",
       "10496                      0      sales     low  \n",
       "10497                      0    support     low  \n",
       "10498                      0         IT  medium  "
      ]
     },
     "execution_count": 4,
     "metadata": {},
     "output_type": "execute_result"
    }
   ],
   "source": [
    "# display the last 5 rows of the data \n",
    "train.tail()"
   ]
  },
  {
   "cell_type": "code",
   "execution_count": 5,
   "metadata": {},
   "outputs": [
    {
     "data": {
      "text/html": [
       "<div>\n",
       "<style scoped>\n",
       "    .dataframe tbody tr th:only-of-type {\n",
       "        vertical-align: middle;\n",
       "    }\n",
       "\n",
       "    .dataframe tbody tr th {\n",
       "        vertical-align: top;\n",
       "    }\n",
       "\n",
       "    .dataframe thead th {\n",
       "        text-align: right;\n",
       "    }\n",
       "</style>\n",
       "<table border=\"1\" class=\"dataframe\">\n",
       "  <thead>\n",
       "    <tr style=\"text-align: right;\">\n",
       "      <th></th>\n",
       "      <th>satisfaction_level</th>\n",
       "      <th>last_evaluation</th>\n",
       "      <th>number_project</th>\n",
       "      <th>average_montly_hours</th>\n",
       "      <th>time_spend_company</th>\n",
       "      <th>Work_accident</th>\n",
       "      <th>promotion_last_5years</th>\n",
       "      <th>sales</th>\n",
       "      <th>salary</th>\n",
       "    </tr>\n",
       "  </thead>\n",
       "  <tbody>\n",
       "    <tr>\n",
       "      <th>0</th>\n",
       "      <td>0.38</td>\n",
       "      <td>0.53</td>\n",
       "      <td>2</td>\n",
       "      <td>157</td>\n",
       "      <td>3</td>\n",
       "      <td>0</td>\n",
       "      <td>0</td>\n",
       "      <td>sales</td>\n",
       "      <td>low</td>\n",
       "    </tr>\n",
       "    <tr>\n",
       "      <th>1</th>\n",
       "      <td>0.80</td>\n",
       "      <td>0.86</td>\n",
       "      <td>5</td>\n",
       "      <td>262</td>\n",
       "      <td>6</td>\n",
       "      <td>0</td>\n",
       "      <td>0</td>\n",
       "      <td>sales</td>\n",
       "      <td>medium</td>\n",
       "    </tr>\n",
       "    <tr>\n",
       "      <th>2</th>\n",
       "      <td>0.10</td>\n",
       "      <td>0.77</td>\n",
       "      <td>6</td>\n",
       "      <td>247</td>\n",
       "      <td>4</td>\n",
       "      <td>0</td>\n",
       "      <td>0</td>\n",
       "      <td>sales</td>\n",
       "      <td>low</td>\n",
       "    </tr>\n",
       "    <tr>\n",
       "      <th>3</th>\n",
       "      <td>0.45</td>\n",
       "      <td>0.54</td>\n",
       "      <td>2</td>\n",
       "      <td>135</td>\n",
       "      <td>3</td>\n",
       "      <td>0</td>\n",
       "      <td>0</td>\n",
       "      <td>sales</td>\n",
       "      <td>low</td>\n",
       "    </tr>\n",
       "    <tr>\n",
       "      <th>4</th>\n",
       "      <td>0.11</td>\n",
       "      <td>0.81</td>\n",
       "      <td>6</td>\n",
       "      <td>305</td>\n",
       "      <td>4</td>\n",
       "      <td>0</td>\n",
       "      <td>0</td>\n",
       "      <td>sales</td>\n",
       "      <td>low</td>\n",
       "    </tr>\n",
       "  </tbody>\n",
       "</table>\n",
       "</div>"
      ],
      "text/plain": [
       "   satisfaction_level  last_evaluation  number_project  average_montly_hours  \\\n",
       "0                0.38             0.53               2                   157   \n",
       "1                0.80             0.86               5                   262   \n",
       "2                0.10             0.77               6                   247   \n",
       "3                0.45             0.54               2                   135   \n",
       "4                0.11             0.81               6                   305   \n",
       "\n",
       "   time_spend_company  Work_accident  promotion_last_5years  sales  salary  \n",
       "0                   3              0                      0  sales     low  \n",
       "1                   6              0                      0  sales  medium  \n",
       "2                   4              0                      0  sales     low  \n",
       "3                   3              0                      0  sales     low  \n",
       "4                   4              0                      0  sales     low  "
      ]
     },
     "execution_count": 5,
     "metadata": {},
     "output_type": "execute_result"
    }
   ],
   "source": [
    "# display the top 5 rows of the test data\n",
    "test.head()"
   ]
  },
  {
   "cell_type": "code",
   "execution_count": 6,
   "metadata": {},
   "outputs": [
    {
     "data": {
      "text/html": [
       "<div>\n",
       "<style scoped>\n",
       "    .dataframe tbody tr th:only-of-type {\n",
       "        vertical-align: middle;\n",
       "    }\n",
       "\n",
       "    .dataframe tbody tr th {\n",
       "        vertical-align: top;\n",
       "    }\n",
       "\n",
       "    .dataframe thead th {\n",
       "        text-align: right;\n",
       "    }\n",
       "</style>\n",
       "<table border=\"1\" class=\"dataframe\">\n",
       "  <thead>\n",
       "    <tr style=\"text-align: right;\">\n",
       "      <th></th>\n",
       "      <th>satisfaction_level</th>\n",
       "      <th>last_evaluation</th>\n",
       "      <th>number_project</th>\n",
       "      <th>average_montly_hours</th>\n",
       "      <th>time_spend_company</th>\n",
       "      <th>Work_accident</th>\n",
       "      <th>promotion_last_5years</th>\n",
       "      <th>sales</th>\n",
       "      <th>salary</th>\n",
       "    </tr>\n",
       "  </thead>\n",
       "  <tbody>\n",
       "    <tr>\n",
       "      <th>4495</th>\n",
       "      <td>0.88</td>\n",
       "      <td>0.61</td>\n",
       "      <td>4</td>\n",
       "      <td>177</td>\n",
       "      <td>4</td>\n",
       "      <td>1</td>\n",
       "      <td>0</td>\n",
       "      <td>support</td>\n",
       "      <td>low</td>\n",
       "    </tr>\n",
       "    <tr>\n",
       "      <th>4496</th>\n",
       "      <td>0.11</td>\n",
       "      <td>0.85</td>\n",
       "      <td>7</td>\n",
       "      <td>302</td>\n",
       "      <td>4</td>\n",
       "      <td>0</td>\n",
       "      <td>0</td>\n",
       "      <td>sales</td>\n",
       "      <td>low</td>\n",
       "    </tr>\n",
       "    <tr>\n",
       "      <th>4497</th>\n",
       "      <td>1.00</td>\n",
       "      <td>0.88</td>\n",
       "      <td>4</td>\n",
       "      <td>191</td>\n",
       "      <td>4</td>\n",
       "      <td>0</td>\n",
       "      <td>0</td>\n",
       "      <td>technical</td>\n",
       "      <td>low</td>\n",
       "    </tr>\n",
       "    <tr>\n",
       "      <th>4498</th>\n",
       "      <td>0.92</td>\n",
       "      <td>0.98</td>\n",
       "      <td>3</td>\n",
       "      <td>257</td>\n",
       "      <td>3</td>\n",
       "      <td>0</td>\n",
       "      <td>1</td>\n",
       "      <td>sales</td>\n",
       "      <td>medium</td>\n",
       "    </tr>\n",
       "    <tr>\n",
       "      <th>4499</th>\n",
       "      <td>0.37</td>\n",
       "      <td>0.52</td>\n",
       "      <td>2</td>\n",
       "      <td>155</td>\n",
       "      <td>3</td>\n",
       "      <td>0</td>\n",
       "      <td>0</td>\n",
       "      <td>technical</td>\n",
       "      <td>medium</td>\n",
       "    </tr>\n",
       "  </tbody>\n",
       "</table>\n",
       "</div>"
      ],
      "text/plain": [
       "      satisfaction_level  last_evaluation  number_project  \\\n",
       "4495                0.88             0.61               4   \n",
       "4496                0.11             0.85               7   \n",
       "4497                1.00             0.88               4   \n",
       "4498                0.92             0.98               3   \n",
       "4499                0.37             0.52               2   \n",
       "\n",
       "      average_montly_hours  time_spend_company  Work_accident  \\\n",
       "4495                   177                   4              1   \n",
       "4496                   302                   4              0   \n",
       "4497                   191                   4              0   \n",
       "4498                   257                   3              0   \n",
       "4499                   155                   3              0   \n",
       "\n",
       "      promotion_last_5years      sales  salary  \n",
       "4495                      0    support     low  \n",
       "4496                      0      sales     low  \n",
       "4497                      0  technical     low  \n",
       "4498                      1      sales  medium  \n",
       "4499                      0  technical  medium  "
      ]
     },
     "execution_count": 6,
     "metadata": {},
     "output_type": "execute_result"
    }
   ],
   "source": [
    "# display the last 5 rows of the test data \n",
    "test.tail()"
   ]
  },
  {
   "cell_type": "code",
   "execution_count": 7,
   "metadata": {},
   "outputs": [
    {
     "name": "stdout",
     "output_type": "stream",
     "text": [
      "shape of train data: (10499, 10)\n",
      "shape of test data: (4500, 9)\n"
     ]
    }
   ],
   "source": [
    "# check the dimensions of the data \n",
    "print(\"shape of train data:\", train.shape)\n",
    "print(\"shape of test data:\", test.shape)"
   ]
  },
  {
   "cell_type": "markdown",
   "metadata": {},
   "source": [
    "### Observation :\n",
    "\n",
    "* train data has response/target variable as \"left\", whereas we doesn't have target variable in test set.\n",
    "* there are 9 input/predictor variables in train & test set."
   ]
  },
  {
   "cell_type": "code",
   "execution_count": 8,
   "metadata": {},
   "outputs": [
    {
     "data": {
      "text/plain": [
       "Index(['satisfaction_level', 'last_evaluation', 'number_project',\n",
       "       'average_montly_hours', 'time_spend_company', 'Work_accident', 'left',\n",
       "       'promotion_last_5years', 'sales', 'salary'],\n",
       "      dtype='object')"
      ]
     },
     "execution_count": 8,
     "metadata": {},
     "output_type": "execute_result"
    }
   ],
   "source": [
    "# list of features in train data \n",
    "train.columns"
   ]
  },
  {
   "cell_type": "code",
   "execution_count": 9,
   "metadata": {},
   "outputs": [
    {
     "data": {
      "text/plain": [
       "Index(['satisfaction_level', 'last_evaluation', 'number_project',\n",
       "       'average_montly_hours', 'time_spend_company', 'Work_accident',\n",
       "       'promotion_last_5years', 'sales', 'salary'],\n",
       "      dtype='object')"
      ]
     },
     "execution_count": 9,
     "metadata": {},
     "output_type": "execute_result"
    }
   ],
   "source": [
    "# list of features in test data \n",
    "test.columns"
   ]
  },
  {
   "cell_type": "code",
   "execution_count": 10,
   "metadata": {},
   "outputs": [
    {
     "data": {
      "text/plain": [
       "satisfaction_level       float64\n",
       "last_evaluation          float64\n",
       "number_project             int64\n",
       "average_montly_hours       int64\n",
       "time_spend_company         int64\n",
       "Work_accident              int64\n",
       "left                       int64\n",
       "promotion_last_5years      int64\n",
       "sales                     object\n",
       "salary                    object\n",
       "dtype: object"
      ]
     },
     "execution_count": 10,
     "metadata": {},
     "output_type": "execute_result"
    }
   ],
   "source": [
    "# check features & their datatypes in train data \n",
    "train.dtypes"
   ]
  },
  {
   "cell_type": "code",
   "execution_count": 11,
   "metadata": {},
   "outputs": [
    {
     "data": {
      "text/plain": [
       "satisfaction_level       float64\n",
       "last_evaluation          float64\n",
       "number_project             int64\n",
       "average_montly_hours       int64\n",
       "time_spend_company         int64\n",
       "Work_accident              int64\n",
       "promotion_last_5years      int64\n",
       "sales                     object\n",
       "salary                    object\n",
       "dtype: object"
      ]
     },
     "execution_count": 11,
     "metadata": {},
     "output_type": "execute_result"
    }
   ],
   "source": [
    "# check features & their datatypes in test data\n",
    "test.dtypes"
   ]
  },
  {
   "cell_type": "markdown",
   "metadata": {},
   "source": [
    "### Observations:\n",
    "\n",
    "* train & test contains both numeric & categorical variables."
   ]
  },
  {
   "cell_type": "code",
   "execution_count": 12,
   "metadata": {},
   "outputs": [
    {
     "data": {
      "text/plain": [
       "satisfaction_level       0\n",
       "last_evaluation          0\n",
       "number_project           0\n",
       "average_montly_hours     0\n",
       "time_spend_company       0\n",
       "Work_accident            0\n",
       "left                     0\n",
       "promotion_last_5years    0\n",
       "sales                    0\n",
       "salary                   0\n",
       "dtype: int64"
      ]
     },
     "execution_count": 12,
     "metadata": {},
     "output_type": "execute_result"
    }
   ],
   "source": [
    "# checking presence of missing values in train data \n",
    "train.isnull().sum()"
   ]
  },
  {
   "cell_type": "code",
   "execution_count": 13,
   "metadata": {},
   "outputs": [
    {
     "data": {
      "text/plain": [
       "satisfaction_level       0\n",
       "last_evaluation          0\n",
       "number_project           0\n",
       "average_montly_hours     0\n",
       "time_spend_company       0\n",
       "Work_accident            0\n",
       "promotion_last_5years    0\n",
       "sales                    0\n",
       "salary                   0\n",
       "dtype: int64"
      ]
     },
     "execution_count": 13,
     "metadata": {},
     "output_type": "execute_result"
    }
   ],
   "source": [
    "# checking presence of missing values in test data \n",
    "test.isnull().sum()"
   ]
  },
  {
   "cell_type": "markdown",
   "metadata": {},
   "source": [
    "### Observations:\n",
    "\n",
    "* Data is clean & no missing values found in both train & test set."
   ]
  },
  {
   "cell_type": "code",
   "execution_count": 14,
   "metadata": {},
   "outputs": [
    {
     "name": "stdout",
     "output_type": "stream",
     "text": [
      "<class 'pandas.core.frame.DataFrame'>\n",
      "RangeIndex: 10499 entries, 0 to 10498\n",
      "Data columns (total 10 columns):\n",
      " #   Column                 Non-Null Count  Dtype  \n",
      "---  ------                 --------------  -----  \n",
      " 0   satisfaction_level     10499 non-null  float64\n",
      " 1   last_evaluation        10499 non-null  float64\n",
      " 2   number_project         10499 non-null  int64  \n",
      " 3   average_montly_hours   10499 non-null  int64  \n",
      " 4   time_spend_company     10499 non-null  int64  \n",
      " 5   Work_accident          10499 non-null  int64  \n",
      " 6   left                   10499 non-null  int64  \n",
      " 7   promotion_last_5years  10499 non-null  int64  \n",
      " 8   sales                  10499 non-null  object \n",
      " 9   salary                 10499 non-null  object \n",
      "dtypes: float64(2), int64(6), object(2)\n",
      "memory usage: 820.4+ KB\n"
     ]
    }
   ],
   "source": [
    "# checking basic information of variables in train data \n",
    "train.info()"
   ]
  },
  {
   "cell_type": "code",
   "execution_count": 15,
   "metadata": {},
   "outputs": [
    {
     "name": "stdout",
     "output_type": "stream",
     "text": [
      "<class 'pandas.core.frame.DataFrame'>\n",
      "RangeIndex: 4500 entries, 0 to 4499\n",
      "Data columns (total 9 columns):\n",
      " #   Column                 Non-Null Count  Dtype  \n",
      "---  ------                 --------------  -----  \n",
      " 0   satisfaction_level     4500 non-null   float64\n",
      " 1   last_evaluation        4500 non-null   float64\n",
      " 2   number_project         4500 non-null   int64  \n",
      " 3   average_montly_hours   4500 non-null   int64  \n",
      " 4   time_spend_company     4500 non-null   int64  \n",
      " 5   Work_accident          4500 non-null   int64  \n",
      " 6   promotion_last_5years  4500 non-null   int64  \n",
      " 7   sales                  4500 non-null   object \n",
      " 8   salary                 4500 non-null   object \n",
      "dtypes: float64(2), int64(5), object(2)\n",
      "memory usage: 316.5+ KB\n"
     ]
    }
   ],
   "source": [
    "# checking basic information of variables in test data \n",
    "test.info()"
   ]
  },
  {
   "cell_type": "code",
   "execution_count": 16,
   "metadata": {},
   "outputs": [
    {
     "data": {
      "text/plain": [
       "satisfaction_level        92\n",
       "last_evaluation           65\n",
       "number_project             6\n",
       "average_montly_hours     215\n",
       "time_spend_company         8\n",
       "Work_accident              2\n",
       "left                       2\n",
       "promotion_last_5years      2\n",
       "sales                     10\n",
       "salary                     3\n",
       "dtype: int64"
      ]
     },
     "execution_count": 16,
     "metadata": {},
     "output_type": "execute_result"
    }
   ],
   "source": [
    "# checking the no. of unique categories of variables in train data\n",
    "train.nunique()"
   ]
  },
  {
   "cell_type": "code",
   "execution_count": 17,
   "metadata": {},
   "outputs": [
    {
     "data": {
      "text/plain": [
       "satisfaction_level        92\n",
       "last_evaluation           65\n",
       "number_project             6\n",
       "average_montly_hours     215\n",
       "time_spend_company         8\n",
       "Work_accident              2\n",
       "promotion_last_5years      2\n",
       "sales                     10\n",
       "salary                     3\n",
       "dtype: int64"
      ]
     },
     "execution_count": 17,
     "metadata": {},
     "output_type": "execute_result"
    }
   ],
   "source": [
    "# checking the no. of unique categories of variables in test data \n",
    "test.nunique()"
   ]
  },
  {
   "cell_type": "code",
   "execution_count": 18,
   "metadata": {},
   "outputs": [],
   "source": [
    "# Let's rename some columns appropriately\n",
    "train = train.rename(columns={'sales': 'departments', 'Work_accident': 'work_accident'})\n",
    "test = test.rename(columns={'sales': 'departments', 'Work_accident': 'work_accident'})"
   ]
  },
  {
   "cell_type": "code",
   "execution_count": 19,
   "metadata": {},
   "outputs": [
    {
     "data": {
      "text/html": [
       "<div>\n",
       "<style scoped>\n",
       "    .dataframe tbody tr th:only-of-type {\n",
       "        vertical-align: middle;\n",
       "    }\n",
       "\n",
       "    .dataframe tbody tr th {\n",
       "        vertical-align: top;\n",
       "    }\n",
       "\n",
       "    .dataframe thead th {\n",
       "        text-align: right;\n",
       "    }\n",
       "</style>\n",
       "<table border=\"1\" class=\"dataframe\">\n",
       "  <thead>\n",
       "    <tr style=\"text-align: right;\">\n",
       "      <th></th>\n",
       "      <th>count</th>\n",
       "      <th>mean</th>\n",
       "      <th>std</th>\n",
       "      <th>min</th>\n",
       "      <th>25%</th>\n",
       "      <th>50%</th>\n",
       "      <th>75%</th>\n",
       "      <th>max</th>\n",
       "    </tr>\n",
       "  </thead>\n",
       "  <tbody>\n",
       "    <tr>\n",
       "      <th>satisfaction_level</th>\n",
       "      <td>10499.0</td>\n",
       "      <td>0.612683</td>\n",
       "      <td>0.248578</td>\n",
       "      <td>0.09</td>\n",
       "      <td>0.44</td>\n",
       "      <td>0.64</td>\n",
       "      <td>0.82</td>\n",
       "      <td>1.0</td>\n",
       "    </tr>\n",
       "    <tr>\n",
       "      <th>last_evaluation</th>\n",
       "      <td>10499.0</td>\n",
       "      <td>0.717131</td>\n",
       "      <td>0.171483</td>\n",
       "      <td>0.36</td>\n",
       "      <td>0.56</td>\n",
       "      <td>0.72</td>\n",
       "      <td>0.87</td>\n",
       "      <td>1.0</td>\n",
       "    </tr>\n",
       "    <tr>\n",
       "      <th>number_project</th>\n",
       "      <td>10499.0</td>\n",
       "      <td>3.808553</td>\n",
       "      <td>1.230572</td>\n",
       "      <td>2.00</td>\n",
       "      <td>3.00</td>\n",
       "      <td>4.00</td>\n",
       "      <td>5.00</td>\n",
       "      <td>7.0</td>\n",
       "    </tr>\n",
       "    <tr>\n",
       "      <th>average_montly_hours</th>\n",
       "      <td>10499.0</td>\n",
       "      <td>201.059815</td>\n",
       "      <td>49.959332</td>\n",
       "      <td>96.00</td>\n",
       "      <td>156.00</td>\n",
       "      <td>200.00</td>\n",
       "      <td>245.00</td>\n",
       "      <td>310.0</td>\n",
       "    </tr>\n",
       "    <tr>\n",
       "      <th>time_spend_company</th>\n",
       "      <td>10499.0</td>\n",
       "      <td>3.494238</td>\n",
       "      <td>1.453227</td>\n",
       "      <td>2.00</td>\n",
       "      <td>3.00</td>\n",
       "      <td>3.00</td>\n",
       "      <td>4.00</td>\n",
       "      <td>10.0</td>\n",
       "    </tr>\n",
       "    <tr>\n",
       "      <th>work_accident</th>\n",
       "      <td>10499.0</td>\n",
       "      <td>0.144299</td>\n",
       "      <td>0.351410</td>\n",
       "      <td>0.00</td>\n",
       "      <td>0.00</td>\n",
       "      <td>0.00</td>\n",
       "      <td>0.00</td>\n",
       "      <td>1.0</td>\n",
       "    </tr>\n",
       "    <tr>\n",
       "      <th>left</th>\n",
       "      <td>10499.0</td>\n",
       "      <td>0.292885</td>\n",
       "      <td>0.455108</td>\n",
       "      <td>0.00</td>\n",
       "      <td>0.00</td>\n",
       "      <td>0.00</td>\n",
       "      <td>1.00</td>\n",
       "      <td>1.0</td>\n",
       "    </tr>\n",
       "    <tr>\n",
       "      <th>promotion_last_5years</th>\n",
       "      <td>10499.0</td>\n",
       "      <td>0.021716</td>\n",
       "      <td>0.145763</td>\n",
       "      <td>0.00</td>\n",
       "      <td>0.00</td>\n",
       "      <td>0.00</td>\n",
       "      <td>0.00</td>\n",
       "      <td>1.0</td>\n",
       "    </tr>\n",
       "  </tbody>\n",
       "</table>\n",
       "</div>"
      ],
      "text/plain": [
       "                         count        mean        std    min     25%     50%  \\\n",
       "satisfaction_level     10499.0    0.612683   0.248578   0.09    0.44    0.64   \n",
       "last_evaluation        10499.0    0.717131   0.171483   0.36    0.56    0.72   \n",
       "number_project         10499.0    3.808553   1.230572   2.00    3.00    4.00   \n",
       "average_montly_hours   10499.0  201.059815  49.959332  96.00  156.00  200.00   \n",
       "time_spend_company     10499.0    3.494238   1.453227   2.00    3.00    3.00   \n",
       "work_accident          10499.0    0.144299   0.351410   0.00    0.00    0.00   \n",
       "left                   10499.0    0.292885   0.455108   0.00    0.00    0.00   \n",
       "promotion_last_5years  10499.0    0.021716   0.145763   0.00    0.00    0.00   \n",
       "\n",
       "                          75%    max  \n",
       "satisfaction_level       0.82    1.0  \n",
       "last_evaluation          0.87    1.0  \n",
       "number_project           5.00    7.0  \n",
       "average_montly_hours   245.00  310.0  \n",
       "time_spend_company       4.00   10.0  \n",
       "work_accident            0.00    1.0  \n",
       "left                     1.00    1.0  \n",
       "promotion_last_5years    0.00    1.0  "
      ]
     },
     "execution_count": 19,
     "metadata": {},
     "output_type": "execute_result"
    }
   ],
   "source": [
    "# check summary statistics of train (numeric) data \n",
    "train.describe().T"
   ]
  },
  {
   "cell_type": "code",
   "execution_count": 20,
   "metadata": {},
   "outputs": [
    {
     "data": {
      "text/html": [
       "<div>\n",
       "<style scoped>\n",
       "    .dataframe tbody tr th:only-of-type {\n",
       "        vertical-align: middle;\n",
       "    }\n",
       "\n",
       "    .dataframe tbody tr th {\n",
       "        vertical-align: top;\n",
       "    }\n",
       "\n",
       "    .dataframe thead th {\n",
       "        text-align: right;\n",
       "    }\n",
       "</style>\n",
       "<table border=\"1\" class=\"dataframe\">\n",
       "  <thead>\n",
       "    <tr style=\"text-align: right;\">\n",
       "      <th></th>\n",
       "      <th>departments</th>\n",
       "      <th>salary</th>\n",
       "    </tr>\n",
       "  </thead>\n",
       "  <tbody>\n",
       "    <tr>\n",
       "      <th>count</th>\n",
       "      <td>10499</td>\n",
       "      <td>10499</td>\n",
       "    </tr>\n",
       "    <tr>\n",
       "      <th>unique</th>\n",
       "      <td>10</td>\n",
       "      <td>3</td>\n",
       "    </tr>\n",
       "    <tr>\n",
       "      <th>top</th>\n",
       "      <td>sales</td>\n",
       "      <td>low</td>\n",
       "    </tr>\n",
       "    <tr>\n",
       "      <th>freq</th>\n",
       "      <td>2935</td>\n",
       "      <td>5104</td>\n",
       "    </tr>\n",
       "  </tbody>\n",
       "</table>\n",
       "</div>"
      ],
      "text/plain": [
       "       departments salary\n",
       "count        10499  10499\n",
       "unique          10      3\n",
       "top          sales    low\n",
       "freq          2935   5104"
      ]
     },
     "execution_count": 20,
     "metadata": {},
     "output_type": "execute_result"
    }
   ],
   "source": [
    "# check summary statistics of train (categorical) data\n",
    "train.describe(include=['object'])"
   ]
  },
  {
   "cell_type": "code",
   "execution_count": 21,
   "metadata": {},
   "outputs": [
    {
     "data": {
      "text/plain": [
       "0    7424\n",
       "1    3075\n",
       "Name: left, dtype: int64"
      ]
     },
     "execution_count": 21,
     "metadata": {},
     "output_type": "execute_result"
    }
   ],
   "source": [
    "# checking class distribution of target variable - 'left\n",
    "train['left'].value_counts()"
   ]
  },
  {
   "cell_type": "code",
   "execution_count": 22,
   "metadata": {},
   "outputs": [
    {
     "data": {
      "text/plain": [
       "0    70.711496\n",
       "1    29.288504\n",
       "Name: left, dtype: float64"
      ]
     },
     "execution_count": 22,
     "metadata": {},
     "output_type": "execute_result"
    }
   ],
   "source": [
    "# checking  proportions of  class distribution \n",
    "train['left'].value_counts(normalize=True)*100"
   ]
  },
  {
   "cell_type": "code",
   "execution_count": 23,
   "metadata": {},
   "outputs": [
    {
     "data": {
      "image/png": "[encoded data removed]",
      "text/plain": [
       "<Figure size 432x288 with 1 Axes>"
      ]
     },
     "metadata": {},
     "output_type": "display_data"
    }
   ],
   "source": [
    "# visual representation of class distribution in target variable\n",
    "sns.countplot(train['left'])\n",
    "plt.title(\"Distribution of Employee churn\", fontsize = 15 )\n",
    "plt.xlabel('Employees left or not ', fontsize = 12)\n",
    "plt.ylabel('count', fontsize = 12)\n",
    "plt.show()"
   ]
  },
  {
   "cell_type": "markdown",
   "metadata": {},
   "source": [
    "### Observation:\n",
    "\n",
    "* It's an imbalance data set as the ratio of class distribution in target is around 70:30.\n",
    "* 70% of employees has left the organisation."
   ]
  },
  {
   "cell_type": "markdown",
   "metadata": {},
   "source": [
    "# 4. Analysis"
   ]
  },
  {
   "cell_type": "code",
   "execution_count": 24,
   "metadata": {},
   "outputs": [
    {
     "data": {
      "text/plain": [
       "Index(['satisfaction_level', 'last_evaluation', 'number_project',\n",
       "       'average_montly_hours', 'time_spend_company', 'work_accident', 'left',\n",
       "       'promotion_last_5years'],\n",
       "      dtype='object')"
      ]
     },
     "execution_count": 24,
     "metadata": {},
     "output_type": "execute_result"
    }
   ],
   "source": [
    "# extracting list of numerical variables\n",
    "num_variables = train.select_dtypes(\"number\")\n",
    "num_variables.columns"
   ]
  },
  {
   "cell_type": "code",
   "execution_count": 25,
   "metadata": {},
   "outputs": [
    {
     "data": {
      "text/plain": [
       "Index(['departments', 'salary'], dtype='object')"
      ]
     },
     "execution_count": 25,
     "metadata": {},
     "output_type": "execute_result"
    }
   ],
   "source": [
    "# extracting list of categorical variables\n",
    "cat_variables = train.select_dtypes(\"object\")\n",
    "cat_variables.columns"
   ]
  },
  {
   "cell_type": "markdown",
   "metadata": {},
   "source": [
    "## 4.1 satisfaction_level"
   ]
  },
  {
   "cell_type": "code",
   "execution_count": 27,
   "metadata": {},
   "outputs": [
    {
     "data": {
      "text/plain": [
       "<matplotlib.axes._subplots.AxesSubplot at 0x18985b28b38>"
      ]
     },
     "execution_count": 27,
     "metadata": {},
     "output_type": "execute_result"
    },
    {
     "data": {
      "image/png": "[encoded data removed]",
      "text/plain": [
       "<Figure size 432x288 with 1 Axes>"
      ]
     },
     "metadata": {},
     "output_type": "display_data"
    }
   ],
   "source": [
    "# check distribution of satisfaction_level\n",
    "sns.distplot(train['satisfaction_level'],  kde=False)"
   ]
  },
  {
   "cell_type": "markdown",
   "metadata": {},
   "source": [
    "### Observations:\n",
    "\n",
    "* Satisfation level ranges between 0.09 & 1 .\n",
    "* satisfaction level of most of the employees lies between 0.4 to 1"
   ]
  },
  {
   "cell_type": "code",
   "execution_count": 28,
   "metadata": {},
   "outputs": [],
   "source": [
    "# define a function to convert satisfaction_level into 2 categories\n",
    "def sat_level(satisfaction_level):\n",
    "    if satisfaction_level < 0.50 :\n",
    "        return 0\n",
    "    else:\n",
    "        return 1"
   ]
  },
  {
   "cell_type": "code",
   "execution_count": 29,
   "metadata": {},
   "outputs": [],
   "source": [
    "# apply function to change the categories in - satisfaction_level\n",
    "train['satisfaction_level'] = train['satisfaction_level'].apply(sat_level)\n",
    "test['satisfaction_level'] = test['satisfaction_level'].apply(sat_level)"
   ]
  },
  {
   "cell_type": "code",
   "execution_count": 30,
   "metadata": {},
   "outputs": [
    {
     "data": {
      "text/plain": [
       "1    7315\n",
       "0    3184\n",
       "Name: satisfaction_level, dtype: int64"
      ]
     },
     "execution_count": 30,
     "metadata": {},
     "output_type": "execute_result"
    }
   ],
   "source": [
    "# check the count of categories \n",
    "train['satisfaction_level'].value_counts()"
   ]
  },
  {
   "cell_type": "markdown",
   "metadata": {},
   "source": [
    "## 4.2 last_evaluation"
   ]
  },
  {
   "cell_type": "code",
   "execution_count": 31,
   "metadata": {},
   "outputs": [
    {
     "data": {
      "text/plain": [
       "<matplotlib.axes._subplots.AxesSubplot at 0x18987df86a0>"
      ]
     },
     "execution_count": 31,
     "metadata": {},
     "output_type": "execute_result"
    },
    {
     "data": {
      "image/png": "[encoded data removed]",
      "text/plain": [
       "<Figure size 432x288 with 1 Axes>"
      ]
     },
     "metadata": {},
     "output_type": "display_data"
    }
   ],
   "source": [
    "#  check distribution of last_evaluation\n",
    "sns.distplot(train['last_evaluation'], kde = False)"
   ]
  },
  {
   "cell_type": "markdown",
   "metadata": {},
   "source": [
    "### Observations:\n",
    "\n",
    "* last evaluation for employees ranges between 0.3 to 1"
   ]
  },
  {
   "cell_type": "code",
   "execution_count": 32,
   "metadata": {},
   "outputs": [],
   "source": [
    "# define a function to convert 'last_evaluation' into 2 categories( ie 0 & 1 )\n",
    "def eval_rating(last_evaluation):\n",
    "    if last_evaluation < 0.50 :\n",
    "        return 0\n",
    "    else:\n",
    "        return 1"
   ]
  },
  {
   "cell_type": "code",
   "execution_count": 33,
   "metadata": {},
   "outputs": [],
   "source": [
    "# # apply function to change the categories in - last_evaluation\n",
    "train['last_evaluation'] = train['last_evaluation'].apply(eval_rating)\n",
    "test['last_evaluation'] = test['last_evaluation'].apply(eval_rating)"
   ]
  },
  {
   "cell_type": "code",
   "execution_count": 34,
   "metadata": {},
   "outputs": [
    {
     "data": {
      "text/plain": [
       "1    9419\n",
       "0    1080\n",
       "Name: last_evaluation, dtype: int64"
      ]
     },
     "execution_count": 34,
     "metadata": {},
     "output_type": "execute_result"
    }
   ],
   "source": [
    "# check the count of categories \n",
    "train['last_evaluation'].value_counts()"
   ]
  },
  {
   "cell_type": "markdown",
   "metadata": {},
   "source": [
    "## 4.3  number_project"
   ]
  },
  {
   "cell_type": "code",
   "execution_count": 35,
   "metadata": {},
   "outputs": [
    {
     "data": {
      "text/plain": [
       "<matplotlib.axes._subplots.AxesSubplot at 0x18987ea8438>"
      ]
     },
     "execution_count": 35,
     "metadata": {},
     "output_type": "execute_result"
    },
    {
     "data": {
      "image/png": "[encoded data removed]",
      "text/plain": [
       "<Figure size 432x288 with 1 Axes>"
      ]
     },
     "metadata": {},
     "output_type": "display_data"
    }
   ],
   "source": [
    "#  check distribution of 'number_project'\n",
    "sns.countplot(train['number_project'])"
   ]
  },
  {
   "cell_type": "code",
   "execution_count": 36,
   "metadata": {},
   "outputs": [
    {
     "data": {
      "text/plain": [
       "4    29.212306\n",
       "3    26.802553\n",
       "5    18.744642\n",
       "2    15.820554\n",
       "6     7.705496\n",
       "7     1.714449\n",
       "Name: number_project, dtype: float64"
      ]
     },
     "execution_count": 36,
     "metadata": {},
     "output_type": "execute_result"
    }
   ],
   "source": [
    "# check the proportional distribution of number of projects taken by employees\n",
    "train['number_project'].value_counts(normalize = True)*100"
   ]
  },
  {
   "cell_type": "markdown",
   "metadata": {},
   "source": [
    "### Observations:\n",
    "\n",
    "* Most of the employees(around 29%) have involved in at least 4 projects.\n",
    "* Very less employees have taken more than 5 projects. ie is around 8%"
   ]
  },
  {
   "cell_type": "markdown",
   "metadata": {},
   "source": [
    "## 4.4 average_montly_hours"
   ]
  },
  {
   "cell_type": "code",
   "execution_count": 37,
   "metadata": {},
   "outputs": [
    {
     "data": {
      "text/plain": [
       "<matplotlib.axes._subplots.AxesSubplot at 0x18987f0bcf8>"
      ]
     },
     "execution_count": 37,
     "metadata": {},
     "output_type": "execute_result"
    },
    {
     "data": {
      "image/png": "[encoded data removed]",
      "text/plain": [
       "<Figure size 432x288 with 1 Axes>"
      ]
     },
     "metadata": {},
     "output_type": "display_data"
    }
   ],
   "source": [
    "#  check distribution of 'average_montly_hours'\n",
    "sns.distplot(train['average_montly_hours'], kde = False)"
   ]
  },
  {
   "cell_type": "markdown",
   "metadata": {},
   "source": [
    "### Observations:\n",
    "\n",
    "* At least 50% of employees have given avg 200 hour in a month.\n",
    "* Maximum avg monthly hour given by any employee is 310."
   ]
  },
  {
   "cell_type": "markdown",
   "metadata": {},
   "source": [
    "## 4.5 time_spend_company"
   ]
  },
  {
   "cell_type": "code",
   "execution_count": 38,
   "metadata": {},
   "outputs": [
    {
     "data": {
      "text/plain": [
       "<matplotlib.axes._subplots.AxesSubplot at 0x18987fca3c8>"
      ]
     },
     "execution_count": 38,
     "metadata": {},
     "output_type": "execute_result"
    },
    {
     "data": {
      "image/png": "[encoded data removed]",
      "text/plain": [
       "<Figure size 432x288 with 1 Axes>"
      ]
     },
     "metadata": {},
     "output_type": "display_data"
    }
   ],
   "source": [
    "#  check distribution of 'time_spend_company'\n",
    "sns.countplot(train['time_spend_company'])"
   ]
  },
  {
   "cell_type": "code",
   "execution_count": 39,
   "metadata": {},
   "outputs": [
    {
     "data": {
      "text/plain": [
       "3     42.699305\n",
       "2     21.802076\n",
       "4     17.163539\n",
       "5      9.819983\n",
       "6      4.809982\n",
       "10     1.371559\n",
       "7      1.276312\n",
       "8      1.057244\n",
       "Name: time_spend_company, dtype: float64"
      ]
     },
     "execution_count": 39,
     "metadata": {},
     "output_type": "execute_result"
    }
   ],
   "source": [
    "# check the proportional distribution of time spend in the company\n",
    "train['time_spend_company'].value_counts(normalize = True)*100"
   ]
  },
  {
   "cell_type": "markdown",
   "metadata": {},
   "source": [
    "### Observations :\n",
    "\n",
    "* Most of the employees(42%) have spent at least 3 years in the company.\n",
    "* The number of employees who have spent more than 6 years in the organisation are very rare. ie around 1%."
   ]
  },
  {
   "cell_type": "markdown",
   "metadata": {},
   "source": [
    "## 4.6 departments"
   ]
  },
  {
   "cell_type": "code",
   "execution_count": 40,
   "metadata": {},
   "outputs": [
    {
     "data": {
      "text/plain": [
       "(array([0, 1, 2, 3, 4, 5, 6, 7, 8, 9]),\n",
       " <a list of 10 Text major ticklabel objects>)"
      ]
     },
     "execution_count": 40,
     "metadata": {},
     "output_type": "execute_result"
    },
    {
     "data": {
      "image/png": "[encoded data removed]",
      "text/plain": [
       "<Figure size 576x432 with 1 Axes>"
      ]
     },
     "metadata": {},
     "output_type": "display_data"
    }
   ],
   "source": [
    "#  check distribution of 'departments'\n",
    "plt.figure(figsize=(8,6))\n",
    "sns.countplot(train['departments'])\n",
    "plt.xlabel('departments', fontsize = 14)\n",
    "plt.ylabel('count', fontsize = 14)\n",
    "plt.xticks(rotation= 45)"
   ]
  },
  {
   "cell_type": "code",
   "execution_count": 41,
   "metadata": {},
   "outputs": [
    {
     "data": {
      "text/plain": [
       "sales          27.955043\n",
       "technical      18.001714\n",
       "support        14.820459\n",
       "IT              7.857891\n",
       "product_mng     6.086294\n",
       "marketing       5.848176\n",
       "hr              5.067149\n",
       "RandD           5.048100\n",
       "accounting      5.019526\n",
       "management      4.295647\n",
       "Name: departments, dtype: float64"
      ]
     },
     "execution_count": 41,
     "metadata": {},
     "output_type": "execute_result"
    }
   ],
   "source": [
    "# check the proportional distribution of departments\n",
    "train['departments'].value_counts(normalize = True)*100"
   ]
  },
  {
   "cell_type": "markdown",
   "metadata": {},
   "source": [
    "### Observations :\n",
    "\n",
    "* Maximum employees (around 28%) works in sales department.\n",
    "* Management department has the least number (around 4%) of employees."
   ]
  },
  {
   "cell_type": "markdown",
   "metadata": {},
   "source": [
    "## 4.7 salary"
   ]
  },
  {
   "cell_type": "code",
   "execution_count": 42,
   "metadata": {},
   "outputs": [
    {
     "data": {
      "text/plain": [
       "(array([0, 1, 2]), <a list of 3 Text major ticklabel objects>)"
      ]
     },
     "execution_count": 42,
     "metadata": {},
     "output_type": "execute_result"
    },
    {
     "data": {
      "image/png": "[encoded data removed]",
      "text/plain": [
       "<Figure size 576x432 with 1 Axes>"
      ]
     },
     "metadata": {},
     "output_type": "display_data"
    }
   ],
   "source": [
    "#  check distribution of 'salary'\n",
    "plt.figure(figsize=(8,6))\n",
    "sns.countplot(train['salary'])\n",
    "plt.xlabel('salary', fontsize = 14)\n",
    "plt.ylabel('count', fontsize = 14)\n",
    "plt.xticks(rotation= 45)"
   ]
  },
  {
   "cell_type": "code",
   "execution_count": 43,
   "metadata": {},
   "outputs": [
    {
     "data": {
      "text/plain": [
       "low       48.614154\n",
       "medium    43.004096\n",
       "high       8.381751\n",
       "Name: salary, dtype: float64"
      ]
     },
     "execution_count": 43,
     "metadata": {},
     "output_type": "execute_result"
    }
   ],
   "source": [
    "# check the proportional distribution of salary\n",
    "train['salary'].value_counts(normalize = True)*100"
   ]
  },
  {
   "cell_type": "markdown",
   "metadata": {},
   "source": [
    "### Observations:\n",
    "\n",
    "* Around 49% of employees get low salary followed by medium salary (43%) and high salary(8%)."
   ]
  },
  {
   "cell_type": "markdown",
   "metadata": {},
   "source": [
    "# 5. Data Pre-processing\n",
    "\n",
    "**5.1 Dummy Variable creation**"
   ]
  },
  {
   "cell_type": "code",
   "execution_count": 44,
   "metadata": {},
   "outputs": [],
   "source": [
    "# let's create dummy variables for categorical features - 'departments' & 'salary'"
   ]
  },
  {
   "cell_type": "code",
   "execution_count": 45,
   "metadata": {},
   "outputs": [],
   "source": [
    "# dummy variable creation in train data\n",
    "for cols in ['departments','salary']:\n",
    "             dummies = pd.get_dummies(train[cols], prefix = cols, drop_first = True)\n",
    "             train = pd.concat([dummies,train], axis = 1)\n",
    "             train.drop([cols], axis = 1,inplace=True)"
   ]
  },
  {
   "cell_type": "code",
   "execution_count": 46,
   "metadata": {},
   "outputs": [],
   "source": [
    "# dummy variable creation in test data\n",
    "for cols in ['departments', 'salary']:\n",
    "             dummies = pd.get_dummies(test[cols], prefix = cols, drop_first = True)\n",
    "             test = pd.concat([dummies,test], axis = 1)\n",
    "             test.drop([cols], axis = 1,inplace=True)"
   ]
  },
  {
   "cell_type": "code",
   "execution_count": 47,
   "metadata": {},
   "outputs": [
    {
     "data": {
      "text/html": [
       "<div>\n",
       "<style scoped>\n",
       "    .dataframe tbody tr th:only-of-type {\n",
       "        vertical-align: middle;\n",
       "    }\n",
       "\n",
       "    .dataframe tbody tr th {\n",
       "        vertical-align: top;\n",
       "    }\n",
       "\n",
       "    .dataframe thead th {\n",
       "        text-align: right;\n",
       "    }\n",
       "</style>\n",
       "<table border=\"1\" class=\"dataframe\">\n",
       "  <thead>\n",
       "    <tr style=\"text-align: right;\">\n",
       "      <th></th>\n",
       "      <th>salary_low</th>\n",
       "      <th>salary_medium</th>\n",
       "      <th>departments_RandD</th>\n",
       "      <th>departments_accounting</th>\n",
       "      <th>departments_hr</th>\n",
       "      <th>departments_management</th>\n",
       "      <th>departments_marketing</th>\n",
       "      <th>departments_product_mng</th>\n",
       "      <th>departments_sales</th>\n",
       "      <th>departments_support</th>\n",
       "      <th>departments_technical</th>\n",
       "      <th>satisfaction_level</th>\n",
       "      <th>last_evaluation</th>\n",
       "      <th>number_project</th>\n",
       "      <th>average_montly_hours</th>\n",
       "      <th>time_spend_company</th>\n",
       "      <th>work_accident</th>\n",
       "      <th>left</th>\n",
       "      <th>promotion_last_5years</th>\n",
       "    </tr>\n",
       "  </thead>\n",
       "  <tbody>\n",
       "    <tr>\n",
       "      <th>0</th>\n",
       "      <td>0</td>\n",
       "      <td>1</td>\n",
       "      <td>0</td>\n",
       "      <td>0</td>\n",
       "      <td>0</td>\n",
       "      <td>0</td>\n",
       "      <td>0</td>\n",
       "      <td>0</td>\n",
       "      <td>1</td>\n",
       "      <td>0</td>\n",
       "      <td>0</td>\n",
       "      <td>0</td>\n",
       "      <td>0</td>\n",
       "      <td>2</td>\n",
       "      <td>150</td>\n",
       "      <td>3</td>\n",
       "      <td>0</td>\n",
       "      <td>1</td>\n",
       "      <td>0</td>\n",
       "    </tr>\n",
       "    <tr>\n",
       "      <th>1</th>\n",
       "      <td>0</td>\n",
       "      <td>1</td>\n",
       "      <td>0</td>\n",
       "      <td>0</td>\n",
       "      <td>0</td>\n",
       "      <td>0</td>\n",
       "      <td>0</td>\n",
       "      <td>0</td>\n",
       "      <td>0</td>\n",
       "      <td>0</td>\n",
       "      <td>1</td>\n",
       "      <td>1</td>\n",
       "      <td>1</td>\n",
       "      <td>2</td>\n",
       "      <td>171</td>\n",
       "      <td>2</td>\n",
       "      <td>0</td>\n",
       "      <td>0</td>\n",
       "      <td>0</td>\n",
       "    </tr>\n",
       "    <tr>\n",
       "      <th>2</th>\n",
       "      <td>0</td>\n",
       "      <td>0</td>\n",
       "      <td>0</td>\n",
       "      <td>0</td>\n",
       "      <td>0</td>\n",
       "      <td>0</td>\n",
       "      <td>0</td>\n",
       "      <td>0</td>\n",
       "      <td>0</td>\n",
       "      <td>0</td>\n",
       "      <td>1</td>\n",
       "      <td>1</td>\n",
       "      <td>0</td>\n",
       "      <td>5</td>\n",
       "      <td>240</td>\n",
       "      <td>3</td>\n",
       "      <td>0</td>\n",
       "      <td>0</td>\n",
       "      <td>0</td>\n",
       "    </tr>\n",
       "    <tr>\n",
       "      <th>3</th>\n",
       "      <td>0</td>\n",
       "      <td>1</td>\n",
       "      <td>0</td>\n",
       "      <td>0</td>\n",
       "      <td>0</td>\n",
       "      <td>0</td>\n",
       "      <td>0</td>\n",
       "      <td>0</td>\n",
       "      <td>0</td>\n",
       "      <td>0</td>\n",
       "      <td>1</td>\n",
       "      <td>0</td>\n",
       "      <td>1</td>\n",
       "      <td>4</td>\n",
       "      <td>213</td>\n",
       "      <td>3</td>\n",
       "      <td>1</td>\n",
       "      <td>0</td>\n",
       "      <td>0</td>\n",
       "    </tr>\n",
       "    <tr>\n",
       "      <th>4</th>\n",
       "      <td>0</td>\n",
       "      <td>1</td>\n",
       "      <td>0</td>\n",
       "      <td>0</td>\n",
       "      <td>0</td>\n",
       "      <td>0</td>\n",
       "      <td>0</td>\n",
       "      <td>0</td>\n",
       "      <td>0</td>\n",
       "      <td>0</td>\n",
       "      <td>1</td>\n",
       "      <td>0</td>\n",
       "      <td>1</td>\n",
       "      <td>6</td>\n",
       "      <td>224</td>\n",
       "      <td>4</td>\n",
       "      <td>0</td>\n",
       "      <td>1</td>\n",
       "      <td>0</td>\n",
       "    </tr>\n",
       "  </tbody>\n",
       "</table>\n",
       "</div>"
      ],
      "text/plain": [
       "   salary_low  salary_medium  departments_RandD  departments_accounting  \\\n",
       "0           0              1                  0                       0   \n",
       "1           0              1                  0                       0   \n",
       "2           0              0                  0                       0   \n",
       "3           0              1                  0                       0   \n",
       "4           0              1                  0                       0   \n",
       "\n",
       "   departments_hr  departments_management  departments_marketing  \\\n",
       "0               0                       0                      0   \n",
       "1               0                       0                      0   \n",
       "2               0                       0                      0   \n",
       "3               0                       0                      0   \n",
       "4               0                       0                      0   \n",
       "\n",
       "   departments_product_mng  departments_sales  departments_support  \\\n",
       "0                        0                  1                    0   \n",
       "1                        0                  0                    0   \n",
       "2                        0                  0                    0   \n",
       "3                        0                  0                    0   \n",
       "4                        0                  0                    0   \n",
       "\n",
       "   departments_technical  satisfaction_level  last_evaluation  number_project  \\\n",
       "0                      0                   0                0               2   \n",
       "1                      1                   1                1               2   \n",
       "2                      1                   1                0               5   \n",
       "3                      1                   0                1               4   \n",
       "4                      1                   0                1               6   \n",
       "\n",
       "   average_montly_hours  time_spend_company  work_accident  left  \\\n",
       "0                   150                   3              0     1   \n",
       "1                   171                   2              0     0   \n",
       "2                   240                   3              0     0   \n",
       "3                   213                   3              1     0   \n",
       "4                   224                   4              0     1   \n",
       "\n",
       "   promotion_last_5years  \n",
       "0                      0  \n",
       "1                      0  \n",
       "2                      0  \n",
       "3                      0  \n",
       "4                      0  "
      ]
     },
     "execution_count": 47,
     "metadata": {},
     "output_type": "execute_result"
    }
   ],
   "source": [
    "# check the top 5 rows of train data \n",
    "train.head()"
   ]
  },
  {
   "cell_type": "code",
   "execution_count": 48,
   "metadata": {},
   "outputs": [
    {
     "data": {
      "text/html": [
       "<div>\n",
       "<style scoped>\n",
       "    .dataframe tbody tr th:only-of-type {\n",
       "        vertical-align: middle;\n",
       "    }\n",
       "\n",
       "    .dataframe tbody tr th {\n",
       "        vertical-align: top;\n",
       "    }\n",
       "\n",
       "    .dataframe thead th {\n",
       "        text-align: right;\n",
       "    }\n",
       "</style>\n",
       "<table border=\"1\" class=\"dataframe\">\n",
       "  <thead>\n",
       "    <tr style=\"text-align: right;\">\n",
       "      <th></th>\n",
       "      <th>salary_low</th>\n",
       "      <th>salary_medium</th>\n",
       "      <th>departments_RandD</th>\n",
       "      <th>departments_accounting</th>\n",
       "      <th>departments_hr</th>\n",
       "      <th>departments_management</th>\n",
       "      <th>departments_marketing</th>\n",
       "      <th>departments_product_mng</th>\n",
       "      <th>departments_sales</th>\n",
       "      <th>departments_support</th>\n",
       "      <th>departments_technical</th>\n",
       "      <th>satisfaction_level</th>\n",
       "      <th>last_evaluation</th>\n",
       "      <th>number_project</th>\n",
       "      <th>average_montly_hours</th>\n",
       "      <th>time_spend_company</th>\n",
       "      <th>work_accident</th>\n",
       "      <th>promotion_last_5years</th>\n",
       "    </tr>\n",
       "  </thead>\n",
       "  <tbody>\n",
       "    <tr>\n",
       "      <th>0</th>\n",
       "      <td>1</td>\n",
       "      <td>0</td>\n",
       "      <td>0</td>\n",
       "      <td>0</td>\n",
       "      <td>0</td>\n",
       "      <td>0</td>\n",
       "      <td>0</td>\n",
       "      <td>0</td>\n",
       "      <td>1</td>\n",
       "      <td>0</td>\n",
       "      <td>0</td>\n",
       "      <td>0</td>\n",
       "      <td>1</td>\n",
       "      <td>2</td>\n",
       "      <td>157</td>\n",
       "      <td>3</td>\n",
       "      <td>0</td>\n",
       "      <td>0</td>\n",
       "    </tr>\n",
       "    <tr>\n",
       "      <th>1</th>\n",
       "      <td>0</td>\n",
       "      <td>1</td>\n",
       "      <td>0</td>\n",
       "      <td>0</td>\n",
       "      <td>0</td>\n",
       "      <td>0</td>\n",
       "      <td>0</td>\n",
       "      <td>0</td>\n",
       "      <td>1</td>\n",
       "      <td>0</td>\n",
       "      <td>0</td>\n",
       "      <td>1</td>\n",
       "      <td>1</td>\n",
       "      <td>5</td>\n",
       "      <td>262</td>\n",
       "      <td>6</td>\n",
       "      <td>0</td>\n",
       "      <td>0</td>\n",
       "    </tr>\n",
       "    <tr>\n",
       "      <th>2</th>\n",
       "      <td>1</td>\n",
       "      <td>0</td>\n",
       "      <td>0</td>\n",
       "      <td>0</td>\n",
       "      <td>0</td>\n",
       "      <td>0</td>\n",
       "      <td>0</td>\n",
       "      <td>0</td>\n",
       "      <td>1</td>\n",
       "      <td>0</td>\n",
       "      <td>0</td>\n",
       "      <td>0</td>\n",
       "      <td>1</td>\n",
       "      <td>6</td>\n",
       "      <td>247</td>\n",
       "      <td>4</td>\n",
       "      <td>0</td>\n",
       "      <td>0</td>\n",
       "    </tr>\n",
       "    <tr>\n",
       "      <th>3</th>\n",
       "      <td>1</td>\n",
       "      <td>0</td>\n",
       "      <td>0</td>\n",
       "      <td>0</td>\n",
       "      <td>0</td>\n",
       "      <td>0</td>\n",
       "      <td>0</td>\n",
       "      <td>0</td>\n",
       "      <td>1</td>\n",
       "      <td>0</td>\n",
       "      <td>0</td>\n",
       "      <td>0</td>\n",
       "      <td>1</td>\n",
       "      <td>2</td>\n",
       "      <td>135</td>\n",
       "      <td>3</td>\n",
       "      <td>0</td>\n",
       "      <td>0</td>\n",
       "    </tr>\n",
       "    <tr>\n",
       "      <th>4</th>\n",
       "      <td>1</td>\n",
       "      <td>0</td>\n",
       "      <td>0</td>\n",
       "      <td>0</td>\n",
       "      <td>0</td>\n",
       "      <td>0</td>\n",
       "      <td>0</td>\n",
       "      <td>0</td>\n",
       "      <td>1</td>\n",
       "      <td>0</td>\n",
       "      <td>0</td>\n",
       "      <td>0</td>\n",
       "      <td>1</td>\n",
       "      <td>6</td>\n",
       "      <td>305</td>\n",
       "      <td>4</td>\n",
       "      <td>0</td>\n",
       "      <td>0</td>\n",
       "    </tr>\n",
       "  </tbody>\n",
       "</table>\n",
       "</div>"
      ],
      "text/plain": [
       "   salary_low  salary_medium  departments_RandD  departments_accounting  \\\n",
       "0           1              0                  0                       0   \n",
       "1           0              1                  0                       0   \n",
       "2           1              0                  0                       0   \n",
       "3           1              0                  0                       0   \n",
       "4           1              0                  0                       0   \n",
       "\n",
       "   departments_hr  departments_management  departments_marketing  \\\n",
       "0               0                       0                      0   \n",
       "1               0                       0                      0   \n",
       "2               0                       0                      0   \n",
       "3               0                       0                      0   \n",
       "4               0                       0                      0   \n",
       "\n",
       "   departments_product_mng  departments_sales  departments_support  \\\n",
       "0                        0                  1                    0   \n",
       "1                        0                  1                    0   \n",
       "2                        0                  1                    0   \n",
       "3                        0                  1                    0   \n",
       "4                        0                  1                    0   \n",
       "\n",
       "   departments_technical  satisfaction_level  last_evaluation  number_project  \\\n",
       "0                      0                   0                1               2   \n",
       "1                      0                   1                1               5   \n",
       "2                      0                   0                1               6   \n",
       "3                      0                   0                1               2   \n",
       "4                      0                   0                1               6   \n",
       "\n",
       "   average_montly_hours  time_spend_company  work_accident  \\\n",
       "0                   157                   3              0   \n",
       "1                   262                   6              0   \n",
       "2                   247                   4              0   \n",
       "3                   135                   3              0   \n",
       "4                   305                   4              0   \n",
       "\n",
       "   promotion_last_5years  \n",
       "0                      0  \n",
       "1                      0  \n",
       "2                      0  \n",
       "3                      0  \n",
       "4                      0  "
      ]
     },
     "execution_count": 48,
     "metadata": {},
     "output_type": "execute_result"
    }
   ],
   "source": [
    "# check the top 5 rows of test data \n",
    "test.head()"
   ]
  },
  {
   "cell_type": "code",
   "execution_count": 49,
   "metadata": {},
   "outputs": [
    {
     "name": "stdout",
     "output_type": "stream",
     "text": [
      "shape of train data : (10499, 19)\n",
      "shape of test data : (4500, 18)\n"
     ]
    }
   ],
   "source": [
    "print(\"shape of train data :\", train.shape)\n",
    "print(\"shape of test data :\", test.shape)"
   ]
  },
  {
   "cell_type": "markdown",
   "metadata": {},
   "source": [
    "# 6. Model Building"
   ]
  },
  {
   "cell_type": "code",
   "execution_count": 50,
   "metadata": {},
   "outputs": [],
   "source": [
    "# defining features & target \n",
    "X = train.drop(['left'], axis =1)\n",
    "y = train['left']"
   ]
  },
  {
   "cell_type": "code",
   "execution_count": 51,
   "metadata": {},
   "outputs": [],
   "source": [
    "# spliting the train data into training & validation subset\n",
    "from sklearn.model_selection import train_test_split\n",
    "X_train, X_test, y_train, y_test = train_test_split(X,y, test_size = 0.2,random_state=2, stratify = y)"
   ]
  },
  {
   "cell_type": "code",
   "execution_count": 52,
   "metadata": {},
   "outputs": [
    {
     "name": "stdout",
     "output_type": "stream",
     "text": [
      "(8399, 18) (2100, 18)\n",
      "(8399,) (2100,)\n"
     ]
    }
   ],
   "source": [
    "print(X_train.shape, X_test.shape)\n",
    "print(y_train.shape, y_test.shape)"
   ]
  },
  {
   "cell_type": "markdown",
   "metadata": {},
   "source": [
    "## 6.1 Logistic Regression "
   ]
  },
  {
   "cell_type": "code",
   "execution_count": 53,
   "metadata": {},
   "outputs": [],
   "source": [
    "# initiate and fit the model, then make prediction on validation set\n",
    "lr = LogisticRegression(n_jobs = -1, class_weight = 'balanced')\n",
    "lr.fit(X_train, y_train)\n",
    "lr_preds = lr.predict(X_test)"
   ]
  },
  {
   "cell_type": "code",
   "execution_count": 54,
   "metadata": {},
   "outputs": [],
   "source": [
    "# evaluating the model results\n",
    "Accuracy = accuracy_score(y_test, lr_preds)\n",
    "Precision = precision_score(y_test, lr_preds)\n",
    "Recall = recall_score(y_test, lr_preds)\n",
    "Roc_Auc = roc_auc_score(y_test, lr_preds)"
   ]
  },
  {
   "cell_type": "code",
   "execution_count": 55,
   "metadata": {},
   "outputs": [
    {
     "data": {
      "text/html": [
       "<div>\n",
       "<style scoped>\n",
       "    .dataframe tbody tr th:only-of-type {\n",
       "        vertical-align: middle;\n",
       "    }\n",
       "\n",
       "    .dataframe tbody tr th {\n",
       "        vertical-align: top;\n",
       "    }\n",
       "\n",
       "    .dataframe thead th {\n",
       "        text-align: right;\n",
       "    }\n",
       "</style>\n",
       "<table border=\"1\" class=\"dataframe\">\n",
       "  <thead>\n",
       "    <tr style=\"text-align: right;\">\n",
       "      <th></th>\n",
       "      <th>Model</th>\n",
       "      <th>Accuracy</th>\n",
       "      <th>Precision</th>\n",
       "      <th>Recall</th>\n",
       "      <th>Roc_Auc</th>\n",
       "    </tr>\n",
       "  </thead>\n",
       "  <tbody>\n",
       "    <tr>\n",
       "      <th>0</th>\n",
       "      <td>Logistic Regression</td>\n",
       "      <td>0.738571</td>\n",
       "      <td>0.543421</td>\n",
       "      <td>0.671545</td>\n",
       "      <td>0.718937</td>\n",
       "    </tr>\n",
       "  </tbody>\n",
       "</table>\n",
       "</div>"
      ],
      "text/plain": [
       "                 Model  Accuracy  Precision    Recall   Roc_Auc\n",
       "0  Logistic Regression  0.738571   0.543421  0.671545  0.718937"
      ]
     },
     "execution_count": 55,
     "metadata": {},
     "output_type": "execute_result"
    }
   ],
   "source": [
    "# creating tables with Model names & their scores\n",
    "Results = pd.DataFrame([['Logistic Regression', Accuracy, Precision, Recall, Roc_Auc]],\n",
    "            columns= ['Model','Accuracy','Precision','Recall', 'Roc_Auc'])\n",
    "Results"
   ]
  },
  {
   "cell_type": "markdown",
   "metadata": {},
   "source": [
    "## 6.2 SVM Classifier"
   ]
  },
  {
   "cell_type": "code",
   "execution_count": 56,
   "metadata": {},
   "outputs": [],
   "source": [
    "# initiate and fit the model, then make prediction on validation set\n",
    "svm = SVC(class_weight = 'balanced')\n",
    "svm.fit(X_train, y_train)\n",
    "svm_preds = svm.predict(X_test)"
   ]
  },
  {
   "cell_type": "code",
   "execution_count": 57,
   "metadata": {},
   "outputs": [],
   "source": [
    "# evaluating the model results\n",
    "Accuracy = accuracy_score(y_test, svm_preds)\n",
    "Precision = precision_score(y_test, svm_preds)\n",
    "Recall = recall_score(y_test, svm_preds)\n",
    "Roc_Auc = roc_auc_score(y_test, svm_preds)"
   ]
  },
  {
   "cell_type": "code",
   "execution_count": 58,
   "metadata": {},
   "outputs": [
    {
     "data": {
      "text/html": [
       "<div>\n",
       "<style scoped>\n",
       "    .dataframe tbody tr th:only-of-type {\n",
       "        vertical-align: middle;\n",
       "    }\n",
       "\n",
       "    .dataframe tbody tr th {\n",
       "        vertical-align: top;\n",
       "    }\n",
       "\n",
       "    .dataframe thead th {\n",
       "        text-align: right;\n",
       "    }\n",
       "</style>\n",
       "<table border=\"1\" class=\"dataframe\">\n",
       "  <thead>\n",
       "    <tr style=\"text-align: right;\">\n",
       "      <th></th>\n",
       "      <th>Model</th>\n",
       "      <th>Accuracy</th>\n",
       "      <th>Precision</th>\n",
       "      <th>Recall</th>\n",
       "      <th>Roc_Auc</th>\n",
       "    </tr>\n",
       "  </thead>\n",
       "  <tbody>\n",
       "    <tr>\n",
       "      <th>0</th>\n",
       "      <td>Logistic Regression</td>\n",
       "      <td>0.738571</td>\n",
       "      <td>0.543421</td>\n",
       "      <td>0.671545</td>\n",
       "      <td>0.718937</td>\n",
       "    </tr>\n",
       "    <tr>\n",
       "      <th>1</th>\n",
       "      <td>SVM</td>\n",
       "      <td>0.628095</td>\n",
       "      <td>0.402582</td>\n",
       "      <td>0.557724</td>\n",
       "      <td>0.607481</td>\n",
       "    </tr>\n",
       "  </tbody>\n",
       "</table>\n",
       "</div>"
      ],
      "text/plain": [
       "                 Model  Accuracy  Precision    Recall   Roc_Auc\n",
       "0  Logistic Regression  0.738571   0.543421  0.671545  0.718937\n",
       "1                  SVM  0.628095   0.402582  0.557724  0.607481"
      ]
     },
     "execution_count": 58,
     "metadata": {},
     "output_type": "execute_result"
    }
   ],
   "source": [
    "# creating tables with Model names & their scores\n",
    "SVM_results = pd.DataFrame([['SVM', Accuracy, Precision, Recall, Roc_Auc]],\n",
    "            columns= ['Model','Accuracy','Precision','Recall', 'Roc_Auc'])\n",
    "Results = Results.append(SVM_results, ignore_index = True)\n",
    "Results"
   ]
  },
  {
   "cell_type": "markdown",
   "metadata": {},
   "source": [
    "## 6.3 Decision Tree"
   ]
  },
  {
   "cell_type": "code",
   "execution_count": 59,
   "metadata": {},
   "outputs": [],
   "source": [
    "# initiate and fit the model, then make prediction on validation set\n",
    "dt = DecisionTreeClassifier(class_weight = 'balanced')\n",
    "dt.fit(X_train,y_train)\n",
    "dt_preds = dt.predict(X_test)"
   ]
  },
  {
   "cell_type": "code",
   "execution_count": 60,
   "metadata": {},
   "outputs": [],
   "source": [
    "# evaluating the model results\n",
    "Accuracy = accuracy_score(y_test, dt_preds)\n",
    "Precision = precision_score(y_test, dt_preds)\n",
    "Recall = recall_score(y_test, dt_preds)\n",
    "Roc_Auc = roc_auc_score(y_test, dt_preds)"
   ]
  },
  {
   "cell_type": "code",
   "execution_count": 61,
   "metadata": {},
   "outputs": [
    {
     "data": {
      "text/html": [
       "<div>\n",
       "<style scoped>\n",
       "    .dataframe tbody tr th:only-of-type {\n",
       "        vertical-align: middle;\n",
       "    }\n",
       "\n",
       "    .dataframe tbody tr th {\n",
       "        vertical-align: top;\n",
       "    }\n",
       "\n",
       "    .dataframe thead th {\n",
       "        text-align: right;\n",
       "    }\n",
       "</style>\n",
       "<table border=\"1\" class=\"dataframe\">\n",
       "  <thead>\n",
       "    <tr style=\"text-align: right;\">\n",
       "      <th></th>\n",
       "      <th>Model</th>\n",
       "      <th>Accuracy</th>\n",
       "      <th>Precision</th>\n",
       "      <th>Recall</th>\n",
       "      <th>Roc_Auc</th>\n",
       "    </tr>\n",
       "  </thead>\n",
       "  <tbody>\n",
       "    <tr>\n",
       "      <th>0</th>\n",
       "      <td>Logistic Regression</td>\n",
       "      <td>0.738571</td>\n",
       "      <td>0.543421</td>\n",
       "      <td>0.671545</td>\n",
       "      <td>0.718937</td>\n",
       "    </tr>\n",
       "    <tr>\n",
       "      <th>1</th>\n",
       "      <td>SVM</td>\n",
       "      <td>0.628095</td>\n",
       "      <td>0.402582</td>\n",
       "      <td>0.557724</td>\n",
       "      <td>0.607481</td>\n",
       "    </tr>\n",
       "    <tr>\n",
       "      <th>2</th>\n",
       "      <td>Decision Tree</td>\n",
       "      <td>0.800952</td>\n",
       "      <td>0.652713</td>\n",
       "      <td>0.684553</td>\n",
       "      <td>0.766856</td>\n",
       "    </tr>\n",
       "  </tbody>\n",
       "</table>\n",
       "</div>"
      ],
      "text/plain": [
       "                 Model  Accuracy  Precision    Recall   Roc_Auc\n",
       "0  Logistic Regression  0.738571   0.543421  0.671545  0.718937\n",
       "1                  SVM  0.628095   0.402582  0.557724  0.607481\n",
       "2        Decision Tree  0.800952   0.652713  0.684553  0.766856"
      ]
     },
     "execution_count": 61,
     "metadata": {},
     "output_type": "execute_result"
    }
   ],
   "source": [
    "# creating tables with Model names & their scores\n",
    "DT_results = pd.DataFrame([['Decision Tree', Accuracy, Precision, Recall, Roc_Auc]],\n",
    "            columns= ['Model','Accuracy','Precision','Recall', 'Roc_Auc'])\n",
    "Results = Results.append(DT_results, ignore_index = True)\n",
    "Results"
   ]
  },
  {
   "cell_type": "markdown",
   "metadata": {},
   "source": [
    "## 6.4 Random Forest"
   ]
  },
  {
   "cell_type": "code",
   "execution_count": 62,
   "metadata": {},
   "outputs": [],
   "source": [
    "# initiate and fit the model, then make prediction on validation set\n",
    "rf = RandomForestClassifier(class_weight = 'balanced')\n",
    "rf.fit(X_train, y_train)\n",
    "rf_preds = rf.predict(X_test)"
   ]
  },
  {
   "cell_type": "code",
   "execution_count": 63,
   "metadata": {},
   "outputs": [],
   "source": [
    "# evaluating the model results\n",
    "Accuracy = accuracy_score(y_test, rf_preds)\n",
    "Precision = precision_score(y_test, rf_preds)\n",
    "Recall = recall_score(y_test, rf_preds)\n",
    "Roc_Auc = roc_auc_score(y_test, rf_preds)"
   ]
  },
  {
   "cell_type": "code",
   "execution_count": 64,
   "metadata": {},
   "outputs": [
    {
     "data": {
      "text/html": [
       "<div>\n",
       "<style scoped>\n",
       "    .dataframe tbody tr th:only-of-type {\n",
       "        vertical-align: middle;\n",
       "    }\n",
       "\n",
       "    .dataframe tbody tr th {\n",
       "        vertical-align: top;\n",
       "    }\n",
       "\n",
       "    .dataframe thead th {\n",
       "        text-align: right;\n",
       "    }\n",
       "</style>\n",
       "<table border=\"1\" class=\"dataframe\">\n",
       "  <thead>\n",
       "    <tr style=\"text-align: right;\">\n",
       "      <th></th>\n",
       "      <th>Model</th>\n",
       "      <th>Accuracy</th>\n",
       "      <th>Precision</th>\n",
       "      <th>Recall</th>\n",
       "      <th>Roc_Auc</th>\n",
       "    </tr>\n",
       "  </thead>\n",
       "  <tbody>\n",
       "    <tr>\n",
       "      <th>0</th>\n",
       "      <td>Logistic Regression</td>\n",
       "      <td>0.738571</td>\n",
       "      <td>0.543421</td>\n",
       "      <td>0.671545</td>\n",
       "      <td>0.718937</td>\n",
       "    </tr>\n",
       "    <tr>\n",
       "      <th>1</th>\n",
       "      <td>SVM</td>\n",
       "      <td>0.628095</td>\n",
       "      <td>0.402582</td>\n",
       "      <td>0.557724</td>\n",
       "      <td>0.607481</td>\n",
       "    </tr>\n",
       "    <tr>\n",
       "      <th>2</th>\n",
       "      <td>Decision Tree</td>\n",
       "      <td>0.800952</td>\n",
       "      <td>0.652713</td>\n",
       "      <td>0.684553</td>\n",
       "      <td>0.766856</td>\n",
       "    </tr>\n",
       "    <tr>\n",
       "      <th>3</th>\n",
       "      <td>Random Forest</td>\n",
       "      <td>0.843810</td>\n",
       "      <td>0.783037</td>\n",
       "      <td>0.645528</td>\n",
       "      <td>0.785727</td>\n",
       "    </tr>\n",
       "  </tbody>\n",
       "</table>\n",
       "</div>"
      ],
      "text/plain": [
       "                 Model  Accuracy  Precision    Recall   Roc_Auc\n",
       "0  Logistic Regression  0.738571   0.543421  0.671545  0.718937\n",
       "1                  SVM  0.628095   0.402582  0.557724  0.607481\n",
       "2        Decision Tree  0.800952   0.652713  0.684553  0.766856\n",
       "3        Random Forest  0.843810   0.783037  0.645528  0.785727"
      ]
     },
     "execution_count": 64,
     "metadata": {},
     "output_type": "execute_result"
    }
   ],
   "source": [
    "# creating tables with Model names & their scores\n",
    "RF_results = pd.DataFrame([['Random Forest', Accuracy, Precision, Recall, Roc_Auc]],\n",
    "            columns= ['Model','Accuracy','Precision','Recall', 'Roc_Auc'])\n",
    "Results = Results.append(RF_results, ignore_index = True)\n",
    "Results"
   ]
  },
  {
   "cell_type": "markdown",
   "metadata": {},
   "source": [
    "## 6.5 Gradient Boosting"
   ]
  },
  {
   "cell_type": "code",
   "execution_count": 65,
   "metadata": {},
   "outputs": [],
   "source": [
    "# initiate and fit the model, then make prediction on validation set\n",
    "gb = GradientBoostingClassifier()\n",
    "gb.fit(X_train, y_train)\n",
    "gb_preds = gb.predict(X_test)"
   ]
  },
  {
   "cell_type": "code",
   "execution_count": 66,
   "metadata": {},
   "outputs": [],
   "source": [
    "# evaluating the model results\n",
    "Accuracy = accuracy_score(y_test, gb_preds)\n",
    "Precision = precision_score(y_test, gb_preds)\n",
    "Recall = recall_score(y_test, gb_preds)\n",
    "Roc_Auc = roc_auc_score(y_test, gb_preds)"
   ]
  },
  {
   "cell_type": "code",
   "execution_count": 67,
   "metadata": {},
   "outputs": [
    {
     "data": {
      "text/html": [
       "<div>\n",
       "<style scoped>\n",
       "    .dataframe tbody tr th:only-of-type {\n",
       "        vertical-align: middle;\n",
       "    }\n",
       "\n",
       "    .dataframe tbody tr th {\n",
       "        vertical-align: top;\n",
       "    }\n",
       "\n",
       "    .dataframe thead th {\n",
       "        text-align: right;\n",
       "    }\n",
       "</style>\n",
       "<table border=\"1\" class=\"dataframe\">\n",
       "  <thead>\n",
       "    <tr style=\"text-align: right;\">\n",
       "      <th></th>\n",
       "      <th>Model</th>\n",
       "      <th>Accuracy</th>\n",
       "      <th>Precision</th>\n",
       "      <th>Recall</th>\n",
       "      <th>Roc_Auc</th>\n",
       "    </tr>\n",
       "  </thead>\n",
       "  <tbody>\n",
       "    <tr>\n",
       "      <th>0</th>\n",
       "      <td>Logistic Regression</td>\n",
       "      <td>0.738571</td>\n",
       "      <td>0.543421</td>\n",
       "      <td>0.671545</td>\n",
       "      <td>0.718937</td>\n",
       "    </tr>\n",
       "    <tr>\n",
       "      <th>1</th>\n",
       "      <td>SVM</td>\n",
       "      <td>0.628095</td>\n",
       "      <td>0.402582</td>\n",
       "      <td>0.557724</td>\n",
       "      <td>0.607481</td>\n",
       "    </tr>\n",
       "    <tr>\n",
       "      <th>2</th>\n",
       "      <td>Decision Tree</td>\n",
       "      <td>0.800952</td>\n",
       "      <td>0.652713</td>\n",
       "      <td>0.684553</td>\n",
       "      <td>0.766856</td>\n",
       "    </tr>\n",
       "    <tr>\n",
       "      <th>3</th>\n",
       "      <td>Random Forest</td>\n",
       "      <td>0.843810</td>\n",
       "      <td>0.783037</td>\n",
       "      <td>0.645528</td>\n",
       "      <td>0.785727</td>\n",
       "    </tr>\n",
       "    <tr>\n",
       "      <th>4</th>\n",
       "      <td>Gradient Boosting</td>\n",
       "      <td>0.866667</td>\n",
       "      <td>0.848233</td>\n",
       "      <td>0.663415</td>\n",
       "      <td>0.807128</td>\n",
       "    </tr>\n",
       "  </tbody>\n",
       "</table>\n",
       "</div>"
      ],
      "text/plain": [
       "                 Model  Accuracy  Precision    Recall   Roc_Auc\n",
       "0  Logistic Regression  0.738571   0.543421  0.671545  0.718937\n",
       "1                  SVM  0.628095   0.402582  0.557724  0.607481\n",
       "2        Decision Tree  0.800952   0.652713  0.684553  0.766856\n",
       "3        Random Forest  0.843810   0.783037  0.645528  0.785727\n",
       "4    Gradient Boosting  0.866667   0.848233  0.663415  0.807128"
      ]
     },
     "execution_count": 67,
     "metadata": {},
     "output_type": "execute_result"
    }
   ],
   "source": [
    "# creating tables with Model names & their scores\n",
    "GB_results = pd.DataFrame([['Gradient Boosting', Accuracy, Precision, Recall, Roc_Auc]],\n",
    "            columns= ['Model','Accuracy','Precision','Recall', 'Roc_Auc'])\n",
    "Results = Results.append(GB_results, ignore_index = True)\n",
    "Results"
   ]
  },
  {
   "cell_type": "markdown",
   "metadata": {},
   "source": [
    "## 6.6 XGBoost"
   ]
  },
  {
   "cell_type": "code",
   "execution_count": 68,
   "metadata": {},
   "outputs": [],
   "source": [
    "# initiate and fit the model, then make prediction on validation set\n",
    "xgb = XGBClassifier()\n",
    "xgb.fit(X_train, y_train)\n",
    "xgb_preds = xgb.predict(X_test)"
   ]
  },
  {
   "cell_type": "code",
   "execution_count": 69,
   "metadata": {},
   "outputs": [],
   "source": [
    "# evaluating the model results\n",
    "Accuracy = accuracy_score(y_test, xgb_preds)\n",
    "Precision = precision_score(y_test, xgb_preds)\n",
    "Recall = recall_score(y_test, xgb_preds)\n",
    "Roc_Auc = roc_auc_score(y_test, xgb_preds)"
   ]
  },
  {
   "cell_type": "code",
   "execution_count": 70,
   "metadata": {},
   "outputs": [
    {
     "data": {
      "text/html": [
       "<div>\n",
       "<style scoped>\n",
       "    .dataframe tbody tr th:only-of-type {\n",
       "        vertical-align: middle;\n",
       "    }\n",
       "\n",
       "    .dataframe tbody tr th {\n",
       "        vertical-align: top;\n",
       "    }\n",
       "\n",
       "    .dataframe thead th {\n",
       "        text-align: right;\n",
       "    }\n",
       "</style>\n",
       "<table border=\"1\" class=\"dataframe\">\n",
       "  <thead>\n",
       "    <tr style=\"text-align: right;\">\n",
       "      <th></th>\n",
       "      <th>Model</th>\n",
       "      <th>Accuracy</th>\n",
       "      <th>Precision</th>\n",
       "      <th>Recall</th>\n",
       "      <th>Roc_Auc</th>\n",
       "    </tr>\n",
       "  </thead>\n",
       "  <tbody>\n",
       "    <tr>\n",
       "      <th>0</th>\n",
       "      <td>Logistic Regression</td>\n",
       "      <td>0.738571</td>\n",
       "      <td>0.543421</td>\n",
       "      <td>0.671545</td>\n",
       "      <td>0.718937</td>\n",
       "    </tr>\n",
       "    <tr>\n",
       "      <th>1</th>\n",
       "      <td>SVM</td>\n",
       "      <td>0.628095</td>\n",
       "      <td>0.402582</td>\n",
       "      <td>0.557724</td>\n",
       "      <td>0.607481</td>\n",
       "    </tr>\n",
       "    <tr>\n",
       "      <th>2</th>\n",
       "      <td>Decision Tree</td>\n",
       "      <td>0.800952</td>\n",
       "      <td>0.652713</td>\n",
       "      <td>0.684553</td>\n",
       "      <td>0.766856</td>\n",
       "    </tr>\n",
       "    <tr>\n",
       "      <th>3</th>\n",
       "      <td>Random Forest</td>\n",
       "      <td>0.843810</td>\n",
       "      <td>0.783037</td>\n",
       "      <td>0.645528</td>\n",
       "      <td>0.785727</td>\n",
       "    </tr>\n",
       "    <tr>\n",
       "      <th>4</th>\n",
       "      <td>Gradient Boosting</td>\n",
       "      <td>0.866667</td>\n",
       "      <td>0.848233</td>\n",
       "      <td>0.663415</td>\n",
       "      <td>0.807128</td>\n",
       "    </tr>\n",
       "    <tr>\n",
       "      <th>5</th>\n",
       "      <td>XGBoost</td>\n",
       "      <td>0.865714</td>\n",
       "      <td>0.847599</td>\n",
       "      <td>0.660163</td>\n",
       "      <td>0.805502</td>\n",
       "    </tr>\n",
       "  </tbody>\n",
       "</table>\n",
       "</div>"
      ],
      "text/plain": [
       "                 Model  Accuracy  Precision    Recall   Roc_Auc\n",
       "0  Logistic Regression  0.738571   0.543421  0.671545  0.718937\n",
       "1                  SVM  0.628095   0.402582  0.557724  0.607481\n",
       "2        Decision Tree  0.800952   0.652713  0.684553  0.766856\n",
       "3        Random Forest  0.843810   0.783037  0.645528  0.785727\n",
       "4    Gradient Boosting  0.866667   0.848233  0.663415  0.807128\n",
       "5              XGBoost  0.865714   0.847599  0.660163  0.805502"
      ]
     },
     "execution_count": 70,
     "metadata": {},
     "output_type": "execute_result"
    }
   ],
   "source": [
    "# creating tables with Model names & their scores\n",
    "XGB_results = pd.DataFrame([['XGBoost', Accuracy, Precision, Recall, Roc_Auc]],\n",
    "            columns= ['Model','Accuracy','Precision','Recall', 'Roc_Auc'])\n",
    "Results = Results.append(XGB_results, ignore_index = True)\n",
    "Results"
   ]
  },
  {
   "cell_type": "markdown",
   "metadata": {},
   "source": [
    "## 6.7 Ada Boost"
   ]
  },
  {
   "cell_type": "code",
   "execution_count": 71,
   "metadata": {},
   "outputs": [],
   "source": [
    "# initiate and fit the model, then make prediction on validation set\n",
    "ab = AdaBoostClassifier()\n",
    "ab.fit(X_train, y_train)\n",
    "ab_preds = ab.predict(X_test)"
   ]
  },
  {
   "cell_type": "code",
   "execution_count": 72,
   "metadata": {},
   "outputs": [],
   "source": [
    "# evaluating the model results\n",
    "Accuracy = accuracy_score(y_test, ab_preds)\n",
    "Precision = precision_score(y_test, ab_preds)\n",
    "Recall = recall_score(y_test, ab_preds)\n",
    "Roc_Auc = roc_auc_score(y_test, ab_preds)"
   ]
  },
  {
   "cell_type": "code",
   "execution_count": 73,
   "metadata": {},
   "outputs": [
    {
     "data": {
      "text/html": [
       "<div>\n",
       "<style scoped>\n",
       "    .dataframe tbody tr th:only-of-type {\n",
       "        vertical-align: middle;\n",
       "    }\n",
       "\n",
       "    .dataframe tbody tr th {\n",
       "        vertical-align: top;\n",
       "    }\n",
       "\n",
       "    .dataframe thead th {\n",
       "        text-align: right;\n",
       "    }\n",
       "</style>\n",
       "<table border=\"1\" class=\"dataframe\">\n",
       "  <thead>\n",
       "    <tr style=\"text-align: right;\">\n",
       "      <th></th>\n",
       "      <th>Model</th>\n",
       "      <th>Accuracy</th>\n",
       "      <th>Precision</th>\n",
       "      <th>Recall</th>\n",
       "      <th>Roc_Auc</th>\n",
       "    </tr>\n",
       "  </thead>\n",
       "  <tbody>\n",
       "    <tr>\n",
       "      <th>0</th>\n",
       "      <td>Logistic Regression</td>\n",
       "      <td>0.738571</td>\n",
       "      <td>0.543421</td>\n",
       "      <td>0.671545</td>\n",
       "      <td>0.718937</td>\n",
       "    </tr>\n",
       "    <tr>\n",
       "      <th>1</th>\n",
       "      <td>SVM</td>\n",
       "      <td>0.628095</td>\n",
       "      <td>0.402582</td>\n",
       "      <td>0.557724</td>\n",
       "      <td>0.607481</td>\n",
       "    </tr>\n",
       "    <tr>\n",
       "      <th>2</th>\n",
       "      <td>Decision Tree</td>\n",
       "      <td>0.800952</td>\n",
       "      <td>0.652713</td>\n",
       "      <td>0.684553</td>\n",
       "      <td>0.766856</td>\n",
       "    </tr>\n",
       "    <tr>\n",
       "      <th>3</th>\n",
       "      <td>Random Forest</td>\n",
       "      <td>0.843810</td>\n",
       "      <td>0.783037</td>\n",
       "      <td>0.645528</td>\n",
       "      <td>0.785727</td>\n",
       "    </tr>\n",
       "    <tr>\n",
       "      <th>4</th>\n",
       "      <td>Gradient Boosting</td>\n",
       "      <td>0.866667</td>\n",
       "      <td>0.848233</td>\n",
       "      <td>0.663415</td>\n",
       "      <td>0.807128</td>\n",
       "    </tr>\n",
       "    <tr>\n",
       "      <th>5</th>\n",
       "      <td>XGBoost</td>\n",
       "      <td>0.865714</td>\n",
       "      <td>0.847599</td>\n",
       "      <td>0.660163</td>\n",
       "      <td>0.805502</td>\n",
       "    </tr>\n",
       "    <tr>\n",
       "      <th>6</th>\n",
       "      <td>AdaBoost</td>\n",
       "      <td>0.813810</td>\n",
       "      <td>0.730453</td>\n",
       "      <td>0.577236</td>\n",
       "      <td>0.744510</td>\n",
       "    </tr>\n",
       "  </tbody>\n",
       "</table>\n",
       "</div>"
      ],
      "text/plain": [
       "                 Model  Accuracy  Precision    Recall   Roc_Auc\n",
       "0  Logistic Regression  0.738571   0.543421  0.671545  0.718937\n",
       "1                  SVM  0.628095   0.402582  0.557724  0.607481\n",
       "2        Decision Tree  0.800952   0.652713  0.684553  0.766856\n",
       "3        Random Forest  0.843810   0.783037  0.645528  0.785727\n",
       "4    Gradient Boosting  0.866667   0.848233  0.663415  0.807128\n",
       "5              XGBoost  0.865714   0.847599  0.660163  0.805502\n",
       "6             AdaBoost  0.813810   0.730453  0.577236  0.744510"
      ]
     },
     "execution_count": 73,
     "metadata": {},
     "output_type": "execute_result"
    }
   ],
   "source": [
    "# creating tables with Model names & their scores\n",
    "AB_results = pd.DataFrame([['AdaBoost', Accuracy, Precision, Recall, Roc_Auc]],\n",
    "            columns= ['Model','Accuracy','Precision','Recall', 'Roc_Auc'])\n",
    "Results = Results.append(AB_results, ignore_index = True)\n",
    "Results"
   ]
  },
  {
   "cell_type": "markdown",
   "metadata": {},
   "source": [
    "## 6.8 Light GBM"
   ]
  },
  {
   "cell_type": "code",
   "execution_count": 74,
   "metadata": {},
   "outputs": [],
   "source": [
    "# initiate and fit the model, then make prediction on validation set\n",
    "lgm = lgb.LGBMClassifier()\n",
    "lgm.fit(X_train, y_train)\n",
    "lgm_preds = lgm.predict(X_test)"
   ]
  },
  {
   "cell_type": "code",
   "execution_count": 75,
   "metadata": {},
   "outputs": [],
   "source": [
    "# evaluating the model results\n",
    "Accuracy = accuracy_score(y_test, ab_preds)\n",
    "Precision = precision_score(y_test, ab_preds)\n",
    "Recall = recall_score(y_test, ab_preds)\n",
    "Roc_Auc = roc_auc_score(y_test, ab_preds)"
   ]
  },
  {
   "cell_type": "code",
   "execution_count": 76,
   "metadata": {},
   "outputs": [
    {
     "data": {
      "text/html": [
       "<div>\n",
       "<style scoped>\n",
       "    .dataframe tbody tr th:only-of-type {\n",
       "        vertical-align: middle;\n",
       "    }\n",
       "\n",
       "    .dataframe tbody tr th {\n",
       "        vertical-align: top;\n",
       "    }\n",
       "\n",
       "    .dataframe thead th {\n",
       "        text-align: right;\n",
       "    }\n",
       "</style>\n",
       "<table border=\"1\" class=\"dataframe\">\n",
       "  <thead>\n",
       "    <tr style=\"text-align: right;\">\n",
       "      <th></th>\n",
       "      <th>Model</th>\n",
       "      <th>Accuracy</th>\n",
       "      <th>Precision</th>\n",
       "      <th>Recall</th>\n",
       "      <th>Roc_Auc</th>\n",
       "    </tr>\n",
       "  </thead>\n",
       "  <tbody>\n",
       "    <tr>\n",
       "      <th>0</th>\n",
       "      <td>Logistic Regression</td>\n",
       "      <td>0.738571</td>\n",
       "      <td>0.543421</td>\n",
       "      <td>0.671545</td>\n",
       "      <td>0.718937</td>\n",
       "    </tr>\n",
       "    <tr>\n",
       "      <th>1</th>\n",
       "      <td>SVM</td>\n",
       "      <td>0.628095</td>\n",
       "      <td>0.402582</td>\n",
       "      <td>0.557724</td>\n",
       "      <td>0.607481</td>\n",
       "    </tr>\n",
       "    <tr>\n",
       "      <th>2</th>\n",
       "      <td>Decision Tree</td>\n",
       "      <td>0.800952</td>\n",
       "      <td>0.652713</td>\n",
       "      <td>0.684553</td>\n",
       "      <td>0.766856</td>\n",
       "    </tr>\n",
       "    <tr>\n",
       "      <th>3</th>\n",
       "      <td>Random Forest</td>\n",
       "      <td>0.843810</td>\n",
       "      <td>0.783037</td>\n",
       "      <td>0.645528</td>\n",
       "      <td>0.785727</td>\n",
       "    </tr>\n",
       "    <tr>\n",
       "      <th>4</th>\n",
       "      <td>Gradient Boosting</td>\n",
       "      <td>0.866667</td>\n",
       "      <td>0.848233</td>\n",
       "      <td>0.663415</td>\n",
       "      <td>0.807128</td>\n",
       "    </tr>\n",
       "    <tr>\n",
       "      <th>5</th>\n",
       "      <td>XGBoost</td>\n",
       "      <td>0.865714</td>\n",
       "      <td>0.847599</td>\n",
       "      <td>0.660163</td>\n",
       "      <td>0.805502</td>\n",
       "    </tr>\n",
       "    <tr>\n",
       "      <th>6</th>\n",
       "      <td>AdaBoost</td>\n",
       "      <td>0.813810</td>\n",
       "      <td>0.730453</td>\n",
       "      <td>0.577236</td>\n",
       "      <td>0.744510</td>\n",
       "    </tr>\n",
       "    <tr>\n",
       "      <th>7</th>\n",
       "      <td>Light_GBM</td>\n",
       "      <td>0.813810</td>\n",
       "      <td>0.730453</td>\n",
       "      <td>0.577236</td>\n",
       "      <td>0.744510</td>\n",
       "    </tr>\n",
       "  </tbody>\n",
       "</table>\n",
       "</div>"
      ],
      "text/plain": [
       "                 Model  Accuracy  Precision    Recall   Roc_Auc\n",
       "0  Logistic Regression  0.738571   0.543421  0.671545  0.718937\n",
       "1                  SVM  0.628095   0.402582  0.557724  0.607481\n",
       "2        Decision Tree  0.800952   0.652713  0.684553  0.766856\n",
       "3        Random Forest  0.843810   0.783037  0.645528  0.785727\n",
       "4    Gradient Boosting  0.866667   0.848233  0.663415  0.807128\n",
       "5              XGBoost  0.865714   0.847599  0.660163  0.805502\n",
       "6             AdaBoost  0.813810   0.730453  0.577236  0.744510\n",
       "7            Light_GBM  0.813810   0.730453  0.577236  0.744510"
      ]
     },
     "execution_count": 76,
     "metadata": {},
     "output_type": "execute_result"
    }
   ],
   "source": [
    "# creating tables with Model names & their scores\n",
    "LG_results = pd.DataFrame([['Light_GBM', Accuracy, Precision, Recall, Roc_Auc]],\n",
    "            columns= ['Model','Accuracy','Precision','Recall', 'Roc_Auc'])\n",
    "Results = Results.append(LG_results, ignore_index = True)\n",
    "Results"
   ]
  },
  {
   "cell_type": "markdown",
   "metadata": {},
   "source": [
    "## Resampling techniques to handle Class imbalance problem"
   ]
  },
  {
   "cell_type": "markdown",
   "metadata": {},
   "source": [
    "###  Up-sample Minority Class"
   ]
  },
  {
   "cell_type": "code",
   "execution_count": 77,
   "metadata": {},
   "outputs": [],
   "source": [
    "from sklearn.utils import resample"
   ]
  },
  {
   "cell_type": "code",
   "execution_count": 78,
   "metadata": {},
   "outputs": [],
   "source": [
    "# Separate majority and minority classes\n",
    "df_majority = train[train['left']== 0]\n",
    "df_minority = train[train['left']== 1]\n",
    " \n",
    "# Upsample minority class\n",
    "df_minority_upsampled = resample(df_minority, \n",
    "                                 replace=True,     # sample with replacement\n",
    "                                 n_samples=7424,    # to match majority class\n",
    "                                 random_state=2) # reproducible results"
   ]
  },
  {
   "cell_type": "code",
   "execution_count": 79,
   "metadata": {},
   "outputs": [],
   "source": [
    "# Combine majority class with upsampled minority class\n",
    "df_upsampled = pd.concat([df_majority, df_minority_upsampled])"
   ]
  },
  {
   "cell_type": "code",
   "execution_count": 80,
   "metadata": {},
   "outputs": [
    {
     "data": {
      "text/plain": [
       "1    7424\n",
       "0    7424\n",
       "Name: left, dtype: int64"
      ]
     },
     "execution_count": 80,
     "metadata": {},
     "output_type": "execute_result"
    }
   ],
   "source": [
    "# Display new balance class counts\n",
    "df_upsampled.left.value_counts()"
   ]
  },
  {
   "cell_type": "markdown",
   "metadata": {},
   "source": [
    "### Observation :\n",
    "\n",
    "* Now the class of target variable is balanced ie 50:50"
   ]
  },
  {
   "cell_type": "code",
   "execution_count": 81,
   "metadata": {},
   "outputs": [],
   "source": [
    "# Separate input features (X) and target variable (y)\n",
    "X = df_upsampled.drop('left', axis=1)\n",
    "y = df_upsampled.left"
   ]
  },
  {
   "cell_type": "code",
   "execution_count": 82,
   "metadata": {},
   "outputs": [],
   "source": [
    "# splitting into training and validatin set \n",
    "X_train, X_test, y_train, y_test = train_test_split(X,y, test_size = 0.2,random_state=2, stratify = y)"
   ]
  },
  {
   "cell_type": "markdown",
   "metadata": {},
   "source": [
    "## Random forest"
   ]
  },
  {
   "cell_type": "code",
   "execution_count": 83,
   "metadata": {},
   "outputs": [],
   "source": [
    "# initiate and fit the model, then make prediction on validation set\n",
    "rf_os = RandomForestClassifier()\n",
    "rf_os.fit(X_train, y_train)\n",
    "preds_rfos = rf_os.predict(X_test)"
   ]
  },
  {
   "cell_type": "code",
   "execution_count": 84,
   "metadata": {},
   "outputs": [],
   "source": [
    "# evaluating the model results\n",
    "Accuracy = accuracy_score(y_test, preds_rfos)\n",
    "Precision = precision_score(y_test,  preds_rfos)\n",
    "Recall = recall_score(y_test,  preds_rfos)\n",
    "Roc_Auc = roc_auc_score(y_test, preds_rfos)"
   ]
  },
  {
   "cell_type": "code",
   "execution_count": 85,
   "metadata": {},
   "outputs": [
    {
     "data": {
      "text/html": [
       "<div>\n",
       "<style scoped>\n",
       "    .dataframe tbody tr th:only-of-type {\n",
       "        vertical-align: middle;\n",
       "    }\n",
       "\n",
       "    .dataframe tbody tr th {\n",
       "        vertical-align: top;\n",
       "    }\n",
       "\n",
       "    .dataframe thead th {\n",
       "        text-align: right;\n",
       "    }\n",
       "</style>\n",
       "<table border=\"1\" class=\"dataframe\">\n",
       "  <thead>\n",
       "    <tr style=\"text-align: right;\">\n",
       "      <th></th>\n",
       "      <th>Model</th>\n",
       "      <th>Accuracy</th>\n",
       "      <th>Precision</th>\n",
       "      <th>Recall</th>\n",
       "      <th>Roc_Auc</th>\n",
       "    </tr>\n",
       "  </thead>\n",
       "  <tbody>\n",
       "    <tr>\n",
       "      <th>0</th>\n",
       "      <td>Logistic Regression</td>\n",
       "      <td>0.738571</td>\n",
       "      <td>0.543421</td>\n",
       "      <td>0.671545</td>\n",
       "      <td>0.718937</td>\n",
       "    </tr>\n",
       "    <tr>\n",
       "      <th>1</th>\n",
       "      <td>SVM</td>\n",
       "      <td>0.628095</td>\n",
       "      <td>0.402582</td>\n",
       "      <td>0.557724</td>\n",
       "      <td>0.607481</td>\n",
       "    </tr>\n",
       "    <tr>\n",
       "      <th>2</th>\n",
       "      <td>Decision Tree</td>\n",
       "      <td>0.800952</td>\n",
       "      <td>0.652713</td>\n",
       "      <td>0.684553</td>\n",
       "      <td>0.766856</td>\n",
       "    </tr>\n",
       "    <tr>\n",
       "      <th>3</th>\n",
       "      <td>Random Forest</td>\n",
       "      <td>0.843810</td>\n",
       "      <td>0.783037</td>\n",
       "      <td>0.645528</td>\n",
       "      <td>0.785727</td>\n",
       "    </tr>\n",
       "    <tr>\n",
       "      <th>4</th>\n",
       "      <td>Gradient Boosting</td>\n",
       "      <td>0.866667</td>\n",
       "      <td>0.848233</td>\n",
       "      <td>0.663415</td>\n",
       "      <td>0.807128</td>\n",
       "    </tr>\n",
       "    <tr>\n",
       "      <th>5</th>\n",
       "      <td>XGBoost</td>\n",
       "      <td>0.865714</td>\n",
       "      <td>0.847599</td>\n",
       "      <td>0.660163</td>\n",
       "      <td>0.805502</td>\n",
       "    </tr>\n",
       "    <tr>\n",
       "      <th>6</th>\n",
       "      <td>AdaBoost</td>\n",
       "      <td>0.813810</td>\n",
       "      <td>0.730453</td>\n",
       "      <td>0.577236</td>\n",
       "      <td>0.744510</td>\n",
       "    </tr>\n",
       "    <tr>\n",
       "      <th>7</th>\n",
       "      <td>Light_GBM</td>\n",
       "      <td>0.813810</td>\n",
       "      <td>0.730453</td>\n",
       "      <td>0.577236</td>\n",
       "      <td>0.744510</td>\n",
       "    </tr>\n",
       "    <tr>\n",
       "      <th>8</th>\n",
       "      <td>Oversampling with RF</td>\n",
       "      <td>0.911448</td>\n",
       "      <td>0.895213</td>\n",
       "      <td>0.931987</td>\n",
       "      <td>0.911448</td>\n",
       "    </tr>\n",
       "  </tbody>\n",
       "</table>\n",
       "</div>"
      ],
      "text/plain": [
       "                  Model  Accuracy  Precision    Recall   Roc_Auc\n",
       "0   Logistic Regression  0.738571   0.543421  0.671545  0.718937\n",
       "1                   SVM  0.628095   0.402582  0.557724  0.607481\n",
       "2         Decision Tree  0.800952   0.652713  0.684553  0.766856\n",
       "3         Random Forest  0.843810   0.783037  0.645528  0.785727\n",
       "4     Gradient Boosting  0.866667   0.848233  0.663415  0.807128\n",
       "5               XGBoost  0.865714   0.847599  0.660163  0.805502\n",
       "6              AdaBoost  0.813810   0.730453  0.577236  0.744510\n",
       "7             Light_GBM  0.813810   0.730453  0.577236  0.744510\n",
       "8  Oversampling with RF  0.911448   0.895213  0.931987  0.911448"
      ]
     },
     "execution_count": 85,
     "metadata": {},
     "output_type": "execute_result"
    }
   ],
   "source": [
    "# creating tables with Model names & their scores\n",
    "OS_results = pd.DataFrame([['Oversampling with RF', Accuracy, Precision, Recall, Roc_Auc]],\n",
    "            columns= ['Model','Accuracy','Precision','Recall', 'Roc_Auc'])\n",
    "Results = Results.append(OS_results, ignore_index = True)\n",
    "Results"
   ]
  },
  {
   "cell_type": "markdown",
   "metadata": {},
   "source": [
    "## Prediction on Test data "
   ]
  },
  {
   "cell_type": "code",
   "execution_count": 89,
   "metadata": {},
   "outputs": [],
   "source": [
    "# make predictions for the test dataset with random forest classifier\n",
    "final_pred = rf_os.predict(test)"
   ]
  },
  {
   "cell_type": "code",
   "execution_count": 90,
   "metadata": {},
   "outputs": [
    {
     "data": {
      "text/html": [
       "<div>\n",
       "<style scoped>\n",
       "    .dataframe tbody tr th:only-of-type {\n",
       "        vertical-align: middle;\n",
       "    }\n",
       "\n",
       "    .dataframe tbody tr th {\n",
       "        vertical-align: top;\n",
       "    }\n",
       "\n",
       "    .dataframe thead th {\n",
       "        text-align: right;\n",
       "    }\n",
       "</style>\n",
       "<table border=\"1\" class=\"dataframe\">\n",
       "  <thead>\n",
       "    <tr style=\"text-align: right;\">\n",
       "      <th></th>\n",
       "      <th>left</th>\n",
       "    </tr>\n",
       "  </thead>\n",
       "  <tbody>\n",
       "    <tr>\n",
       "      <th>0</th>\n",
       "      <td>1</td>\n",
       "    </tr>\n",
       "    <tr>\n",
       "      <th>1</th>\n",
       "      <td>0</td>\n",
       "    </tr>\n",
       "    <tr>\n",
       "      <th>2</th>\n",
       "      <td>1</td>\n",
       "    </tr>\n",
       "    <tr>\n",
       "      <th>3</th>\n",
       "      <td>1</td>\n",
       "    </tr>\n",
       "    <tr>\n",
       "      <th>4</th>\n",
       "      <td>1</td>\n",
       "    </tr>\n",
       "  </tbody>\n",
       "</table>\n",
       "</div>"
      ],
      "text/plain": [
       "   left\n",
       "0     1\n",
       "1     0\n",
       "2     1\n",
       "3     1\n",
       "4     1"
      ]
     },
     "execution_count": 90,
     "metadata": {},
     "output_type": "execute_result"
    }
   ],
   "source": [
    "## submission dataframe with churn status \n",
    "submission = pd.DataFrame()\n",
    "submission['left']= final_pred\n",
    "submission.head()"
   ]
  },
  {
   "cell_type": "code",
   "execution_count": 91,
   "metadata": {},
   "outputs": [],
   "source": [
    "submission.to_csv('Hr_churn_prediction.csv', index=False)"
   ]
  }
 ],
 "metadata": {
  "kernelspec": {
   "display_name": "Python 3",
   "language": "python",
   "name": "python3"
  },
  "language_info": {
   "codemirror_mode": {
    "name": "ipython",
    "version": 3
   },
   "file_extension": ".py",
   "mimetype": "text/x-python",
   "name": "python",
   "nbconvert_exporter": "python",
   "pygments_lexer": "ipython3",
   "version": "3.6.4"
  }
 },
 "nbformat": 4,
 "nbformat_minor": 2
}
