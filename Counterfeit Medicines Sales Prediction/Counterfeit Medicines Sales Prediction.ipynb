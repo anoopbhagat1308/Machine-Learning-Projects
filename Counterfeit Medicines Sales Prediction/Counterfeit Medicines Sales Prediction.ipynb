{
 "cells": [
  {
   "cell_type": "markdown",
   "metadata": {},
   "source": [
    "# Project - Counterfeit Medicines Sales Prediction\n",
    "\n",
    "## Problem statement:\n",
    "\n",
    "Counterfeit medicines are fake medicines which are either contaminated or contain wrong or no active\n",
    "ingredient. They could have the right active ingredient but at the wrong dose. Counterfeit drugs are illegal and\n",
    "are harmful to health. 10% of the world's medicine is counterfeit and the problem is even worse in developing\n",
    "countries. Up to 30% of medicines in developing countries are counterfeit.\n",
    "\n",
    "Millions of pills, bottles and sachets of counterfeit and illegal medicines are being traded across the world. The\n",
    "World Health Organization (WHO) is working with International Criminal Police Organization (Interpol) to dislodge\n",
    "the criminal networks raking in billions of dollars from this cynical trade.\n",
    "\n",
    "Despite all these efforts, counterfeit medicine selling rackets don’t seem to stop popping here and there. It has\n",
    "become a challenge to deploy resources to counter these; without spreading them too thin and eventually\n",
    "rendering them ineffective. Government has decided that they should focus on illegal operations of high net\n",
    "worth first instead of trying to control all of them. In order to do that they have collected data which will help them\n",
    "to predict sales figures given an illegal operation's characteristics.\n",
    "\n",
    "\n",
    "## Task:\n",
    "\n",
    "Your task here is to build a predictive model for predicting sales figures given other information related to\n",
    "counterfeit medicine selling operations. You need to build your model on the train dataset. Test dataset does not\n",
    "have a response column; you need to predict those values and submit it in a csv format.\n",
    "\n"
   ]
  },
  {
   "cell_type": "markdown",
   "metadata": {},
   "source": [
    "## Import libraries"
   ]
  },
  {
   "cell_type": "code",
   "execution_count": 1,
   "metadata": {},
   "outputs": [],
   "source": [
    "import warnings\n",
    "warnings.filterwarnings('ignore')\n",
    "import pandas as pd\n",
    "import numpy as np\n",
    "import math\n",
    "import matplotlib.pyplot as plt\n",
    "import seaborn as sns\n",
    "sns.set()"
   ]
  },
  {
   "cell_type": "markdown",
   "metadata": {},
   "source": [
    "# 1. Load Data"
   ]
  },
  {
   "cell_type": "code",
   "execution_count": 2,
   "metadata": {},
   "outputs": [],
   "source": [
    "cf_train = pd.read_csv('counterfeit_train.csv')\n",
    "cf_test = pd.read_csv('counterfeit_test.csv')"
   ]
  },
  {
   "cell_type": "markdown",
   "metadata": {},
   "source": [
    "# 2. Data Explorataion "
   ]
  },
  {
   "cell_type": "code",
   "execution_count": 3,
   "metadata": {},
   "outputs": [
    {
     "name": "stdout",
     "output_type": "stream",
     "text": [
      "(6818, 12) (1705, 11)\n"
     ]
    }
   ],
   "source": [
    "# shape of the datasets\n",
    "print(cf_train.shape,  cf_test.shape)"
   ]
  },
  {
   "cell_type": "code",
   "execution_count": 4,
   "metadata": {},
   "outputs": [
    {
     "data": {
      "text/html": [
       "<div>\n",
       "<style scoped>\n",
       "    .dataframe tbody tr th:only-of-type {\n",
       "        vertical-align: middle;\n",
       "    }\n",
       "\n",
       "    .dataframe tbody tr th {\n",
       "        vertical-align: top;\n",
       "    }\n",
       "\n",
       "    .dataframe thead th {\n",
       "        text-align: right;\n",
       "    }\n",
       "</style>\n",
       "<table border=\"1\" class=\"dataframe\">\n",
       "  <thead>\n",
       "    <tr style=\"text-align: right;\">\n",
       "      <th></th>\n",
       "      <th>Medicine_ID</th>\n",
       "      <th>Counterfeit_Weight</th>\n",
       "      <th>DistArea_ID</th>\n",
       "      <th>Active_Since</th>\n",
       "      <th>Medicine_MRP</th>\n",
       "      <th>Medicine_Type</th>\n",
       "      <th>SidEffect_Level</th>\n",
       "      <th>Availability_rating</th>\n",
       "      <th>Area_Type</th>\n",
       "      <th>Area_City_Type</th>\n",
       "      <th>Area_dist_level</th>\n",
       "      <th>Counterfeit_Sales</th>\n",
       "    </tr>\n",
       "  </thead>\n",
       "  <tbody>\n",
       "    <tr>\n",
       "      <th>0</th>\n",
       "      <td>RRA15</td>\n",
       "      <td>13.100</td>\n",
       "      <td>Area046</td>\n",
       "      <td>1995</td>\n",
       "      <td>160.2366</td>\n",
       "      <td>Antimalarial</td>\n",
       "      <td>critical</td>\n",
       "      <td>0.070422</td>\n",
       "      <td>DownTown</td>\n",
       "      <td>Tier 1</td>\n",
       "      <td>Small</td>\n",
       "      <td>1775.5026</td>\n",
       "    </tr>\n",
       "    <tr>\n",
       "      <th>1</th>\n",
       "      <td>YVV26</td>\n",
       "      <td>NaN</td>\n",
       "      <td>Area027</td>\n",
       "      <td>1983</td>\n",
       "      <td>110.4384</td>\n",
       "      <td>Mstablizers</td>\n",
       "      <td>mild</td>\n",
       "      <td>0.013000</td>\n",
       "      <td>CityLimits</td>\n",
       "      <td>Tier 3</td>\n",
       "      <td>Medium</td>\n",
       "      <td>3069.1520</td>\n",
       "    </tr>\n",
       "    <tr>\n",
       "      <th>2</th>\n",
       "      <td>LJC15</td>\n",
       "      <td>9.025</td>\n",
       "      <td>Area046</td>\n",
       "      <td>1995</td>\n",
       "      <td>259.4092</td>\n",
       "      <td>Cardiac</td>\n",
       "      <td>mild</td>\n",
       "      <td>0.060783</td>\n",
       "      <td>DownTown</td>\n",
       "      <td>Tier 1</td>\n",
       "      <td>Small</td>\n",
       "      <td>2603.0920</td>\n",
       "    </tr>\n",
       "    <tr>\n",
       "      <th>3</th>\n",
       "      <td>GWC40</td>\n",
       "      <td>11.800</td>\n",
       "      <td>Area046</td>\n",
       "      <td>1995</td>\n",
       "      <td>99.9830</td>\n",
       "      <td>OralContraceptives</td>\n",
       "      <td>mild</td>\n",
       "      <td>0.065555</td>\n",
       "      <td>DownTown</td>\n",
       "      <td>Tier 1</td>\n",
       "      <td>Small</td>\n",
       "      <td>1101.7130</td>\n",
       "    </tr>\n",
       "    <tr>\n",
       "      <th>4</th>\n",
       "      <td>QMN13</td>\n",
       "      <td>NaN</td>\n",
       "      <td>Area019</td>\n",
       "      <td>1983</td>\n",
       "      <td>56.4402</td>\n",
       "      <td>Hreplacements</td>\n",
       "      <td>critical</td>\n",
       "      <td>0.248859</td>\n",
       "      <td>MidTownResidential</td>\n",
       "      <td>Tier 1</td>\n",
       "      <td>Small</td>\n",
       "      <td>158.9402</td>\n",
       "    </tr>\n",
       "  </tbody>\n",
       "</table>\n",
       "</div>"
      ],
      "text/plain": [
       "  Medicine_ID  Counterfeit_Weight DistArea_ID  Active_Since  Medicine_MRP  \\\n",
       "0       RRA15              13.100     Area046          1995      160.2366   \n",
       "1       YVV26                 NaN     Area027          1983      110.4384   \n",
       "2       LJC15               9.025     Area046          1995      259.4092   \n",
       "3       GWC40              11.800     Area046          1995       99.9830   \n",
       "4       QMN13                 NaN     Area019          1983       56.4402   \n",
       "\n",
       "        Medicine_Type SidEffect_Level  Availability_rating  \\\n",
       "0        Antimalarial        critical             0.070422   \n",
       "1         Mstablizers            mild             0.013000   \n",
       "2             Cardiac            mild             0.060783   \n",
       "3  OralContraceptives            mild             0.065555   \n",
       "4       Hreplacements        critical             0.248859   \n",
       "\n",
       "            Area_Type Area_City_Type Area_dist_level  Counterfeit_Sales  \n",
       "0            DownTown         Tier 1           Small          1775.5026  \n",
       "1          CityLimits         Tier 3          Medium          3069.1520  \n",
       "2            DownTown         Tier 1           Small          2603.0920  \n",
       "3            DownTown         Tier 1           Small          1101.7130  \n",
       "4  MidTownResidential         Tier 1           Small           158.9402  "
      ]
     },
     "execution_count": 4,
     "metadata": {},
     "output_type": "execute_result"
    }
   ],
   "source": [
    "# Display first 5 rows of the train data \n",
    "cf_train.head()"
   ]
  },
  {
   "cell_type": "code",
   "execution_count": 5,
   "metadata": {},
   "outputs": [
    {
     "data": {
      "text/html": [
       "<div>\n",
       "<style scoped>\n",
       "    .dataframe tbody tr th:only-of-type {\n",
       "        vertical-align: middle;\n",
       "    }\n",
       "\n",
       "    .dataframe tbody tr th {\n",
       "        vertical-align: top;\n",
       "    }\n",
       "\n",
       "    .dataframe thead th {\n",
       "        text-align: right;\n",
       "    }\n",
       "</style>\n",
       "<table border=\"1\" class=\"dataframe\">\n",
       "  <thead>\n",
       "    <tr style=\"text-align: right;\">\n",
       "      <th></th>\n",
       "      <th>Medicine_ID</th>\n",
       "      <th>Counterfeit_Weight</th>\n",
       "      <th>DistArea_ID</th>\n",
       "      <th>Active_Since</th>\n",
       "      <th>Medicine_MRP</th>\n",
       "      <th>Medicine_Type</th>\n",
       "      <th>SidEffect_Level</th>\n",
       "      <th>Availability_rating</th>\n",
       "      <th>Area_Type</th>\n",
       "      <th>Area_City_Type</th>\n",
       "      <th>Area_dist_level</th>\n",
       "      <th>Counterfeit_Sales</th>\n",
       "    </tr>\n",
       "  </thead>\n",
       "  <tbody>\n",
       "    <tr>\n",
       "      <th>6813</th>\n",
       "      <td>OYN80</td>\n",
       "      <td>8.535</td>\n",
       "      <td>Area046</td>\n",
       "      <td>1995</td>\n",
       "      <td>204.1452</td>\n",
       "      <td>Hreplacements</td>\n",
       "      <td>mild</td>\n",
       "      <td>0.112963</td>\n",
       "      <td>DownTown</td>\n",
       "      <td>Tier 1</td>\n",
       "      <td>Small</td>\n",
       "      <td>2070.4520</td>\n",
       "    </tr>\n",
       "    <tr>\n",
       "      <th>6814</th>\n",
       "      <td>ACW12</td>\n",
       "      <td>20.650</td>\n",
       "      <td>Area046</td>\n",
       "      <td>1995</td>\n",
       "      <td>235.1088</td>\n",
       "      <td>Hreplacements</td>\n",
       "      <td>mild</td>\n",
       "      <td>0.131103</td>\n",
       "      <td>DownTown</td>\n",
       "      <td>Tier 1</td>\n",
       "      <td>Small</td>\n",
       "      <td>2126.3792</td>\n",
       "    </tr>\n",
       "    <tr>\n",
       "      <th>6815</th>\n",
       "      <td>OPM10</td>\n",
       "      <td>20.000</td>\n",
       "      <td>Area017</td>\n",
       "      <td>2005</td>\n",
       "      <td>193.6292</td>\n",
       "      <td>Antimalarial</td>\n",
       "      <td>critical</td>\n",
       "      <td>0.105096</td>\n",
       "      <td>DownTown</td>\n",
       "      <td>Tier 2</td>\n",
       "      <td>Unknown</td>\n",
       "      <td>2119.7212</td>\n",
       "    </tr>\n",
       "    <tr>\n",
       "      <th>6816</th>\n",
       "      <td>SLY12</td>\n",
       "      <td>10.180</td>\n",
       "      <td>Area045</td>\n",
       "      <td>2000</td>\n",
       "      <td>162.8682</td>\n",
       "      <td>Statins</td>\n",
       "      <td>mild</td>\n",
       "      <td>0.099957</td>\n",
       "      <td>DownTown</td>\n",
       "      <td>Tier 2</td>\n",
       "      <td>Unknown</td>\n",
       "      <td>1485.2138</td>\n",
       "    </tr>\n",
       "    <tr>\n",
       "      <th>6817</th>\n",
       "      <td>ATT10</td>\n",
       "      <td>7.930</td>\n",
       "      <td>Area018</td>\n",
       "      <td>2007</td>\n",
       "      <td>177.5500</td>\n",
       "      <td>Mstablizers</td>\n",
       "      <td>critical</td>\n",
       "      <td>0.117445</td>\n",
       "      <td>Industrial</td>\n",
       "      <td>Tier 3</td>\n",
       "      <td>Medium</td>\n",
       "      <td>1943.9500</td>\n",
       "    </tr>\n",
       "  </tbody>\n",
       "</table>\n",
       "</div>"
      ],
      "text/plain": [
       "     Medicine_ID  Counterfeit_Weight DistArea_ID  Active_Since  Medicine_MRP  \\\n",
       "6813       OYN80               8.535     Area046          1995      204.1452   \n",
       "6814       ACW12              20.650     Area046          1995      235.1088   \n",
       "6815       OPM10              20.000     Area017          2005      193.6292   \n",
       "6816       SLY12              10.180     Area045          2000      162.8682   \n",
       "6817       ATT10               7.930     Area018          2007      177.5500   \n",
       "\n",
       "      Medicine_Type SidEffect_Level  Availability_rating   Area_Type  \\\n",
       "6813  Hreplacements            mild             0.112963    DownTown   \n",
       "6814  Hreplacements            mild             0.131103    DownTown   \n",
       "6815   Antimalarial        critical             0.105096    DownTown   \n",
       "6816        Statins            mild             0.099957    DownTown   \n",
       "6817    Mstablizers        critical             0.117445  Industrial   \n",
       "\n",
       "     Area_City_Type Area_dist_level  Counterfeit_Sales  \n",
       "6813         Tier 1           Small          2070.4520  \n",
       "6814         Tier 1           Small          2126.3792  \n",
       "6815         Tier 2         Unknown          2119.7212  \n",
       "6816         Tier 2         Unknown          1485.2138  \n",
       "6817         Tier 3          Medium          1943.9500  "
      ]
     },
     "execution_count": 5,
     "metadata": {},
     "output_type": "execute_result"
    }
   ],
   "source": [
    "# Display last 5 rows of the train data \n",
    "cf_train.tail()"
   ]
  },
  {
   "cell_type": "code",
   "execution_count": 6,
   "metadata": {},
   "outputs": [
    {
     "data": {
      "text/html": [
       "<div>\n",
       "<style scoped>\n",
       "    .dataframe tbody tr th:only-of-type {\n",
       "        vertical-align: middle;\n",
       "    }\n",
       "\n",
       "    .dataframe tbody tr th {\n",
       "        vertical-align: top;\n",
       "    }\n",
       "\n",
       "    .dataframe thead th {\n",
       "        text-align: right;\n",
       "    }\n",
       "</style>\n",
       "<table border=\"1\" class=\"dataframe\">\n",
       "  <thead>\n",
       "    <tr style=\"text-align: right;\">\n",
       "      <th></th>\n",
       "      <th>Medicine_ID</th>\n",
       "      <th>Counterfeit_Weight</th>\n",
       "      <th>DistArea_ID</th>\n",
       "      <th>Active_Since</th>\n",
       "      <th>Medicine_MRP</th>\n",
       "      <th>Medicine_Type</th>\n",
       "      <th>SidEffect_Level</th>\n",
       "      <th>Availability_rating</th>\n",
       "      <th>Area_Type</th>\n",
       "      <th>Area_City_Type</th>\n",
       "      <th>Area_dist_level</th>\n",
       "    </tr>\n",
       "  </thead>\n",
       "  <tbody>\n",
       "    <tr>\n",
       "      <th>0</th>\n",
       "      <td>HLZ81</td>\n",
       "      <td>NaN</td>\n",
       "      <td>Area027</td>\n",
       "      <td>1983</td>\n",
       "      <td>85.5328</td>\n",
       "      <td>Antibiotics</td>\n",
       "      <td>mild</td>\n",
       "      <td>0.112747</td>\n",
       "      <td>CityLimits</td>\n",
       "      <td>Tier 3</td>\n",
       "      <td>Medium</td>\n",
       "    </tr>\n",
       "    <tr>\n",
       "      <th>1</th>\n",
       "      <td>ECE94</td>\n",
       "      <td>13.45</td>\n",
       "      <td>Area045</td>\n",
       "      <td>2000</td>\n",
       "      <td>257.1460</td>\n",
       "      <td>OralContraceptives</td>\n",
       "      <td>mild</td>\n",
       "      <td>0.144446</td>\n",
       "      <td>DownTown</td>\n",
       "      <td>Tier 2</td>\n",
       "      <td>Unknown</td>\n",
       "    </tr>\n",
       "    <tr>\n",
       "      <th>2</th>\n",
       "      <td>SAD14</td>\n",
       "      <td>7.10</td>\n",
       "      <td>Area045</td>\n",
       "      <td>2000</td>\n",
       "      <td>98.1172</td>\n",
       "      <td>Antipyretics</td>\n",
       "      <td>mild</td>\n",
       "      <td>0.144221</td>\n",
       "      <td>DownTown</td>\n",
       "      <td>Tier 2</td>\n",
       "      <td>Unknown</td>\n",
       "    </tr>\n",
       "    <tr>\n",
       "      <th>3</th>\n",
       "      <td>EQV63</td>\n",
       "      <td>18.30</td>\n",
       "      <td>Area010</td>\n",
       "      <td>1996</td>\n",
       "      <td>135.3730</td>\n",
       "      <td>Tranquilizers</td>\n",
       "      <td>mild</td>\n",
       "      <td>0.100388</td>\n",
       "      <td>MidTownResidential</td>\n",
       "      <td>Tier 3</td>\n",
       "      <td>Unknown</td>\n",
       "    </tr>\n",
       "    <tr>\n",
       "      <th>4</th>\n",
       "      <td>AIR10</td>\n",
       "      <td>NaN</td>\n",
       "      <td>Area019</td>\n",
       "      <td>1983</td>\n",
       "      <td>112.8016</td>\n",
       "      <td>OralContraceptives</td>\n",
       "      <td>mild</td>\n",
       "      <td>0.022585</td>\n",
       "      <td>MidTownResidential</td>\n",
       "      <td>Tier 1</td>\n",
       "      <td>Small</td>\n",
       "    </tr>\n",
       "  </tbody>\n",
       "</table>\n",
       "</div>"
      ],
      "text/plain": [
       "  Medicine_ID  Counterfeit_Weight DistArea_ID  Active_Since  Medicine_MRP  \\\n",
       "0       HLZ81                 NaN     Area027          1983       85.5328   \n",
       "1       ECE94               13.45     Area045          2000      257.1460   \n",
       "2       SAD14                7.10     Area045          2000       98.1172   \n",
       "3       EQV63               18.30     Area010          1996      135.3730   \n",
       "4       AIR10                 NaN     Area019          1983      112.8016   \n",
       "\n",
       "        Medicine_Type SidEffect_Level  Availability_rating  \\\n",
       "0         Antibiotics            mild             0.112747   \n",
       "1  OralContraceptives            mild             0.144446   \n",
       "2        Antipyretics            mild             0.144221   \n",
       "3       Tranquilizers            mild             0.100388   \n",
       "4  OralContraceptives            mild             0.022585   \n",
       "\n",
       "            Area_Type Area_City_Type Area_dist_level  \n",
       "0          CityLimits         Tier 3          Medium  \n",
       "1            DownTown         Tier 2         Unknown  \n",
       "2            DownTown         Tier 2         Unknown  \n",
       "3  MidTownResidential         Tier 3         Unknown  \n",
       "4  MidTownResidential         Tier 1           Small  "
      ]
     },
     "execution_count": 6,
     "metadata": {},
     "output_type": "execute_result"
    }
   ],
   "source": [
    "# Display first 5 rows of the test data \n",
    "cf_test.head()"
   ]
  },
  {
   "cell_type": "code",
   "execution_count": 7,
   "metadata": {},
   "outputs": [
    {
     "data": {
      "text/html": [
       "<div>\n",
       "<style scoped>\n",
       "    .dataframe tbody tr th:only-of-type {\n",
       "        vertical-align: middle;\n",
       "    }\n",
       "\n",
       "    .dataframe tbody tr th {\n",
       "        vertical-align: top;\n",
       "    }\n",
       "\n",
       "    .dataframe thead th {\n",
       "        text-align: right;\n",
       "    }\n",
       "</style>\n",
       "<table border=\"1\" class=\"dataframe\">\n",
       "  <thead>\n",
       "    <tr style=\"text-align: right;\">\n",
       "      <th></th>\n",
       "      <th>Medicine_ID</th>\n",
       "      <th>Counterfeit_Weight</th>\n",
       "      <th>DistArea_ID</th>\n",
       "      <th>Active_Since</th>\n",
       "      <th>Medicine_MRP</th>\n",
       "      <th>Medicine_Type</th>\n",
       "      <th>SidEffect_Level</th>\n",
       "      <th>Availability_rating</th>\n",
       "      <th>Area_Type</th>\n",
       "      <th>Area_City_Type</th>\n",
       "      <th>Area_dist_level</th>\n",
       "    </tr>\n",
       "  </thead>\n",
       "  <tbody>\n",
       "    <tr>\n",
       "      <th>1700</th>\n",
       "      <td>KXW10</td>\n",
       "      <td>NaN</td>\n",
       "      <td>Area027</td>\n",
       "      <td>1983</td>\n",
       "      <td>136.5704</td>\n",
       "      <td>Hreplacements</td>\n",
       "      <td>mild</td>\n",
       "      <td>0.050505</td>\n",
       "      <td>CityLimits</td>\n",
       "      <td>Tier 3</td>\n",
       "      <td>Medium</td>\n",
       "    </tr>\n",
       "    <tr>\n",
       "      <th>1701</th>\n",
       "      <td>CKE54</td>\n",
       "      <td>21.30</td>\n",
       "      <td>Area035</td>\n",
       "      <td>2002</td>\n",
       "      <td>57.0744</td>\n",
       "      <td>Antibiotics</td>\n",
       "      <td>critical</td>\n",
       "      <td>0.041118</td>\n",
       "      <td>DownTown</td>\n",
       "      <td>Tier 2</td>\n",
       "      <td>Small</td>\n",
       "    </tr>\n",
       "    <tr>\n",
       "      <th>1702</th>\n",
       "      <td>HAY13</td>\n",
       "      <td>20.40</td>\n",
       "      <td>Area017</td>\n",
       "      <td>2005</td>\n",
       "      <td>182.7422</td>\n",
       "      <td>Antiseptics</td>\n",
       "      <td>mild</td>\n",
       "      <td>0.191273</td>\n",
       "      <td>DownTown</td>\n",
       "      <td>Tier 2</td>\n",
       "      <td>Unknown</td>\n",
       "    </tr>\n",
       "    <tr>\n",
       "      <th>1703</th>\n",
       "      <td>ZEE32</td>\n",
       "      <td>20.00</td>\n",
       "      <td>Area018</td>\n",
       "      <td>2007</td>\n",
       "      <td>266.9672</td>\n",
       "      <td>Hreplacements</td>\n",
       "      <td>mild</td>\n",
       "      <td>0.013000</td>\n",
       "      <td>Industrial</td>\n",
       "      <td>Tier 3</td>\n",
       "      <td>Medium</td>\n",
       "    </tr>\n",
       "    <tr>\n",
       "      <th>1704</th>\n",
       "      <td>NDL93</td>\n",
       "      <td>8.08</td>\n",
       "      <td>Area045</td>\n",
       "      <td>2000</td>\n",
       "      <td>238.7694</td>\n",
       "      <td>Antibiotics</td>\n",
       "      <td>critical</td>\n",
       "      <td>0.098982</td>\n",
       "      <td>DownTown</td>\n",
       "      <td>Tier 2</td>\n",
       "      <td>Unknown</td>\n",
       "    </tr>\n",
       "  </tbody>\n",
       "</table>\n",
       "</div>"
      ],
      "text/plain": [
       "     Medicine_ID  Counterfeit_Weight DistArea_ID  Active_Since  Medicine_MRP  \\\n",
       "1700       KXW10                 NaN     Area027          1983      136.5704   \n",
       "1701       CKE54               21.30     Area035          2002       57.0744   \n",
       "1702       HAY13               20.40     Area017          2005      182.7422   \n",
       "1703       ZEE32               20.00     Area018          2007      266.9672   \n",
       "1704       NDL93                8.08     Area045          2000      238.7694   \n",
       "\n",
       "      Medicine_Type SidEffect_Level  Availability_rating   Area_Type  \\\n",
       "1700  Hreplacements            mild             0.050505  CityLimits   \n",
       "1701    Antibiotics        critical             0.041118    DownTown   \n",
       "1702    Antiseptics            mild             0.191273    DownTown   \n",
       "1703  Hreplacements            mild             0.013000  Industrial   \n",
       "1704    Antibiotics        critical             0.098982    DownTown   \n",
       "\n",
       "     Area_City_Type Area_dist_level  \n",
       "1700         Tier 3          Medium  \n",
       "1701         Tier 2           Small  \n",
       "1702         Tier 2         Unknown  \n",
       "1703         Tier 3          Medium  \n",
       "1704         Tier 2         Unknown  "
      ]
     },
     "execution_count": 7,
     "metadata": {},
     "output_type": "execute_result"
    }
   ],
   "source": [
    "# Display last 5 rows of the test data\n",
    "cf_test.tail()"
   ]
  },
  {
   "cell_type": "code",
   "execution_count": 8,
   "metadata": {},
   "outputs": [],
   "source": [
    "# saving medicine id column for final submission\n",
    "med_id = cf_test['Medicine_ID']"
   ]
  },
  {
   "cell_type": "code",
   "execution_count": 9,
   "metadata": {},
   "outputs": [],
   "source": [
    "# drop feature - 'Medicine_ID'\n",
    "cf_train.drop(['Medicine_ID'], axis = 1 , inplace = True)\n",
    "cf_test.drop(['Medicine_ID'], axis = 1 , inplace = True)"
   ]
  },
  {
   "cell_type": "code",
   "execution_count": 10,
   "metadata": {},
   "outputs": [
    {
     "name": "stdout",
     "output_type": "stream",
     "text": [
      "<class 'pandas.core.frame.DataFrame'>\n",
      "RangeIndex: 6818 entries, 0 to 6817\n",
      "Data columns (total 11 columns):\n",
      " #   Column               Non-Null Count  Dtype  \n",
      "---  ------               --------------  -----  \n",
      " 0   Counterfeit_Weight   5652 non-null   float64\n",
      " 1   DistArea_ID          6818 non-null   object \n",
      " 2   Active_Since         6818 non-null   int64  \n",
      " 3   Medicine_MRP         6818 non-null   float64\n",
      " 4   Medicine_Type        6818 non-null   object \n",
      " 5   SidEffect_Level      6818 non-null   object \n",
      " 6   Availability_rating  6818 non-null   float64\n",
      " 7   Area_Type            6818 non-null   object \n",
      " 8   Area_City_Type       6818 non-null   object \n",
      " 9   Area_dist_level      6818 non-null   object \n",
      " 10  Counterfeit_Sales    6818 non-null   float64\n",
      "dtypes: float64(4), int64(1), object(6)\n",
      "memory usage: 586.0+ KB\n"
     ]
    }
   ],
   "source": [
    "# display concise info of all varibales\n",
    "cf_train.info()"
   ]
  },
  {
   "cell_type": "code",
   "execution_count": 11,
   "metadata": {},
   "outputs": [
    {
     "data": {
      "text/plain": [
       "Index(['Counterfeit_Weight', 'DistArea_ID', 'Active_Since', 'Medicine_MRP',\n",
       "       'Medicine_Type', 'SidEffect_Level', 'Availability_rating', 'Area_Type',\n",
       "       'Area_City_Type', 'Area_dist_level', 'Counterfeit_Sales'],\n",
       "      dtype='object')"
      ]
     },
     "execution_count": 11,
     "metadata": {},
     "output_type": "execute_result"
    }
   ],
   "source": [
    "# Display feature names of data set\n",
    "cf_train.columns"
   ]
  },
  {
   "cell_type": "code",
   "execution_count": 12,
   "metadata": {},
   "outputs": [
    {
     "data": {
      "text/plain": [
       "Counterfeit_Weight     float64\n",
       "Active_Since             int64\n",
       "Medicine_MRP           float64\n",
       "Availability_rating    float64\n",
       "Counterfeit_Sales      float64\n",
       "dtype: object"
      ]
     },
     "execution_count": 12,
     "metadata": {},
     "output_type": "execute_result"
    }
   ],
   "source": [
    "# exploring numeric features\n",
    "numeric_features = cf_train.select_dtypes(\"number\")\n",
    "numeric_features.dtypes"
   ]
  },
  {
   "cell_type": "code",
   "execution_count": 13,
   "metadata": {},
   "outputs": [
    {
     "data": {
      "text/plain": [
       "DistArea_ID        object\n",
       "Medicine_Type      object\n",
       "SidEffect_Level    object\n",
       "Area_Type          object\n",
       "Area_City_Type     object\n",
       "Area_dist_level    object\n",
       "dtype: object"
      ]
     },
     "execution_count": 13,
     "metadata": {},
     "output_type": "execute_result"
    }
   ],
   "source": [
    "# exploring categorical fetaures\n",
    "cat_features = cf_train.select_dtypes(\"object\")\n",
    "cat_features.dtypes"
   ]
  },
  {
   "cell_type": "markdown",
   "metadata": {},
   "source": [
    "## 2.1 Correlation "
   ]
  },
  {
   "cell_type": "code",
   "execution_count": 14,
   "metadata": {},
   "outputs": [
    {
     "data": {
      "text/html": [
       "<div>\n",
       "<style scoped>\n",
       "    .dataframe tbody tr th:only-of-type {\n",
       "        vertical-align: middle;\n",
       "    }\n",
       "\n",
       "    .dataframe tbody tr th {\n",
       "        vertical-align: top;\n",
       "    }\n",
       "\n",
       "    .dataframe thead th {\n",
       "        text-align: right;\n",
       "    }\n",
       "</style>\n",
       "<table border=\"1\" class=\"dataframe\">\n",
       "  <thead>\n",
       "    <tr style=\"text-align: right;\">\n",
       "      <th></th>\n",
       "      <th>Counterfeit_Weight</th>\n",
       "      <th>Active_Since</th>\n",
       "      <th>Medicine_MRP</th>\n",
       "      <th>Availability_rating</th>\n",
       "      <th>Counterfeit_Sales</th>\n",
       "    </tr>\n",
       "  </thead>\n",
       "  <tbody>\n",
       "    <tr>\n",
       "      <th>Counterfeit_Weight</th>\n",
       "      <td>1.00</td>\n",
       "      <td>-0.02</td>\n",
       "      <td>0.03</td>\n",
       "      <td>-0.02</td>\n",
       "      <td>0.01</td>\n",
       "    </tr>\n",
       "    <tr>\n",
       "      <th>Active_Since</th>\n",
       "      <td>-0.02</td>\n",
       "      <td>1.00</td>\n",
       "      <td>0.00</td>\n",
       "      <td>-0.08</td>\n",
       "      <td>-0.04</td>\n",
       "    </tr>\n",
       "    <tr>\n",
       "      <th>Medicine_MRP</th>\n",
       "      <td>0.03</td>\n",
       "      <td>0.00</td>\n",
       "      <td>1.00</td>\n",
       "      <td>-0.00</td>\n",
       "      <td>0.57</td>\n",
       "    </tr>\n",
       "    <tr>\n",
       "      <th>Availability_rating</th>\n",
       "      <td>-0.02</td>\n",
       "      <td>-0.08</td>\n",
       "      <td>-0.00</td>\n",
       "      <td>1.00</td>\n",
       "      <td>-0.12</td>\n",
       "    </tr>\n",
       "    <tr>\n",
       "      <th>Counterfeit_Sales</th>\n",
       "      <td>0.01</td>\n",
       "      <td>-0.04</td>\n",
       "      <td>0.57</td>\n",
       "      <td>-0.12</td>\n",
       "      <td>1.00</td>\n",
       "    </tr>\n",
       "  </tbody>\n",
       "</table>\n",
       "</div>"
      ],
      "text/plain": [
       "                     Counterfeit_Weight  Active_Since  Medicine_MRP  \\\n",
       "Counterfeit_Weight                 1.00         -0.02          0.03   \n",
       "Active_Since                      -0.02          1.00          0.00   \n",
       "Medicine_MRP                       0.03          0.00          1.00   \n",
       "Availability_rating               -0.02         -0.08         -0.00   \n",
       "Counterfeit_Sales                  0.01         -0.04          0.57   \n",
       "\n",
       "                     Availability_rating  Counterfeit_Sales  \n",
       "Counterfeit_Weight                 -0.02               0.01  \n",
       "Active_Since                       -0.08              -0.04  \n",
       "Medicine_MRP                       -0.00               0.57  \n",
       "Availability_rating                 1.00              -0.12  \n",
       "Counterfeit_Sales                  -0.12               1.00  "
      ]
     },
     "execution_count": 14,
     "metadata": {},
     "output_type": "execute_result"
    }
   ],
   "source": [
    "# correlation matrix (ranges from 1 to -1)\n",
    "corr = cf_train.corr().round(2)\n",
    "corr"
   ]
  },
  {
   "cell_type": "code",
   "execution_count": 15,
   "metadata": {},
   "outputs": [
    {
     "name": "stdout",
     "output_type": "stream",
     "text": [
      "Counterfeit_Sales      1.00\n",
      "Medicine_MRP           0.57\n",
      "Counterfeit_Weight     0.01\n",
      "Active_Since          -0.04\n",
      "Availability_rating   -0.12\n",
      "Name: Counterfeit_Sales, dtype: float64\n"
     ]
    }
   ],
   "source": [
    "# display correlation of variables with target in descending order\n",
    "print(corr['Counterfeit_Sales'].round(2).sort_values(ascending=False))"
   ]
  },
  {
   "cell_type": "code",
   "execution_count": 16,
   "metadata": {},
   "outputs": [
    {
     "data": {
      "text/plain": [
       "<matplotlib.axes._subplots.AxesSubplot at 0x1f398725f28>"
      ]
     },
     "execution_count": 16,
     "metadata": {},
     "output_type": "execute_result"
    },
    {
     "data": {
      "image/png": "[encoded data removed]",
      "text/plain": [
       "<Figure size 720x360 with 2 Axes>"
      ]
     },
     "metadata": {},
     "output_type": "display_data"
    }
   ],
   "source": [
    "# visualize correlation matrix in Seaborn using a heatmap\n",
    "plt.figure(figsize = (10,5))\n",
    "sns.heatmap(corr, cmap =\"BuPu\")"
   ]
  },
  {
   "cell_type": "markdown",
   "metadata": {},
   "source": [
    "## Observations:\n",
    "\n",
    "* **Medicine_MRP** is the most correlated variable with response variable."
   ]
  },
  {
   "cell_type": "markdown",
   "metadata": {},
   "source": [
    "# 3. Data Preprocessing "
   ]
  },
  {
   "cell_type": "markdown",
   "metadata": {},
   "source": [
    "## 3.1 Combine Train & Test data"
   ]
  },
  {
   "cell_type": "code",
   "execution_count": 17,
   "metadata": {},
   "outputs": [],
   "source": [
    "##  adding Counterfeit_Sales- column in test File & filing with  nan value\n",
    "cf_test['Counterfeit_Sales']= np.nan\n",
    "\n",
    "# adding identiier column 'data' to combine train & test set then separate later \n",
    "cf_train['data']= 'train'\n",
    "cf_test['data']= 'test'\n",
    "\n",
    "## keep the order of columns same in test data as train data\n",
    "cf_test= cf_test[cf_train.columns]\n",
    "\n",
    "## combining test & train file\n",
    "cf_all= pd.concat([cf_train, cf_test], axis= 0)"
   ]
  },
  {
   "cell_type": "code",
   "execution_count": 18,
   "metadata": {},
   "outputs": [
    {
     "data": {
      "text/html": [
       "<div>\n",
       "<style scoped>\n",
       "    .dataframe tbody tr th:only-of-type {\n",
       "        vertical-align: middle;\n",
       "    }\n",
       "\n",
       "    .dataframe tbody tr th {\n",
       "        vertical-align: top;\n",
       "    }\n",
       "\n",
       "    .dataframe thead th {\n",
       "        text-align: right;\n",
       "    }\n",
       "</style>\n",
       "<table border=\"1\" class=\"dataframe\">\n",
       "  <thead>\n",
       "    <tr style=\"text-align: right;\">\n",
       "      <th></th>\n",
       "      <th>Counterfeit_Weight</th>\n",
       "      <th>DistArea_ID</th>\n",
       "      <th>Active_Since</th>\n",
       "      <th>Medicine_MRP</th>\n",
       "      <th>Medicine_Type</th>\n",
       "      <th>SidEffect_Level</th>\n",
       "      <th>Availability_rating</th>\n",
       "      <th>Area_Type</th>\n",
       "      <th>Area_City_Type</th>\n",
       "      <th>Area_dist_level</th>\n",
       "      <th>Counterfeit_Sales</th>\n",
       "      <th>data</th>\n",
       "    </tr>\n",
       "  </thead>\n",
       "  <tbody>\n",
       "    <tr>\n",
       "      <th>0</th>\n",
       "      <td>13.100</td>\n",
       "      <td>Area046</td>\n",
       "      <td>1995</td>\n",
       "      <td>160.2366</td>\n",
       "      <td>Antimalarial</td>\n",
       "      <td>critical</td>\n",
       "      <td>0.070422</td>\n",
       "      <td>DownTown</td>\n",
       "      <td>Tier 1</td>\n",
       "      <td>Small</td>\n",
       "      <td>1775.5026</td>\n",
       "      <td>train</td>\n",
       "    </tr>\n",
       "    <tr>\n",
       "      <th>1</th>\n",
       "      <td>NaN</td>\n",
       "      <td>Area027</td>\n",
       "      <td>1983</td>\n",
       "      <td>110.4384</td>\n",
       "      <td>Mstablizers</td>\n",
       "      <td>mild</td>\n",
       "      <td>0.013000</td>\n",
       "      <td>CityLimits</td>\n",
       "      <td>Tier 3</td>\n",
       "      <td>Medium</td>\n",
       "      <td>3069.1520</td>\n",
       "      <td>train</td>\n",
       "    </tr>\n",
       "    <tr>\n",
       "      <th>2</th>\n",
       "      <td>9.025</td>\n",
       "      <td>Area046</td>\n",
       "      <td>1995</td>\n",
       "      <td>259.4092</td>\n",
       "      <td>Cardiac</td>\n",
       "      <td>mild</td>\n",
       "      <td>0.060783</td>\n",
       "      <td>DownTown</td>\n",
       "      <td>Tier 1</td>\n",
       "      <td>Small</td>\n",
       "      <td>2603.0920</td>\n",
       "      <td>train</td>\n",
       "    </tr>\n",
       "    <tr>\n",
       "      <th>3</th>\n",
       "      <td>11.800</td>\n",
       "      <td>Area046</td>\n",
       "      <td>1995</td>\n",
       "      <td>99.9830</td>\n",
       "      <td>OralContraceptives</td>\n",
       "      <td>mild</td>\n",
       "      <td>0.065555</td>\n",
       "      <td>DownTown</td>\n",
       "      <td>Tier 1</td>\n",
       "      <td>Small</td>\n",
       "      <td>1101.7130</td>\n",
       "      <td>train</td>\n",
       "    </tr>\n",
       "  </tbody>\n",
       "</table>\n",
       "</div>"
      ],
      "text/plain": [
       "   Counterfeit_Weight DistArea_ID  Active_Since  Medicine_MRP  \\\n",
       "0              13.100     Area046          1995      160.2366   \n",
       "1                 NaN     Area027          1983      110.4384   \n",
       "2               9.025     Area046          1995      259.4092   \n",
       "3              11.800     Area046          1995       99.9830   \n",
       "\n",
       "        Medicine_Type SidEffect_Level  Availability_rating   Area_Type  \\\n",
       "0        Antimalarial        critical             0.070422    DownTown   \n",
       "1         Mstablizers            mild             0.013000  CityLimits   \n",
       "2             Cardiac            mild             0.060783    DownTown   \n",
       "3  OralContraceptives            mild             0.065555    DownTown   \n",
       "\n",
       "  Area_City_Type Area_dist_level  Counterfeit_Sales   data  \n",
       "0         Tier 1           Small          1775.5026  train  \n",
       "1         Tier 3          Medium          3069.1520  train  \n",
       "2         Tier 1           Small          2603.0920  train  \n",
       "3         Tier 1           Small          1101.7130  train  "
      ]
     },
     "execution_count": 18,
     "metadata": {},
     "output_type": "execute_result"
    }
   ],
   "source": [
    "# display the top 4 rows of combined data \n",
    "cf_all.head(4)"
   ]
  },
  {
   "cell_type": "code",
   "execution_count": 19,
   "metadata": {},
   "outputs": [
    {
     "name": "stdout",
     "output_type": "stream",
     "text": [
      "(8523, 12)\n",
      "--------------------\n",
      "Counterfeit_Weight     7060\n",
      "DistArea_ID            8523\n",
      "Active_Since           8523\n",
      "Medicine_MRP           8523\n",
      "Medicine_Type          8523\n",
      "SidEffect_Level        8523\n",
      "Availability_rating    8523\n",
      "Area_Type              8523\n",
      "Area_City_Type         8523\n",
      "Area_dist_level        8523\n",
      "Counterfeit_Sales      6818\n",
      "data                   8523\n",
      "dtype: int64\n"
     ]
    }
   ],
   "source": [
    "# display shapes  & count of rows of combined data\n",
    "print(cf_all.shape)\n",
    "print(\"--------------------\")\n",
    "print(cf_all.count())"
   ]
  },
  {
   "cell_type": "code",
   "execution_count": 20,
   "metadata": {},
   "outputs": [
    {
     "data": {
      "text/plain": [
       "Counterfeit_Weight     float64\n",
       "DistArea_ID             object\n",
       "Active_Since             int64\n",
       "Medicine_MRP           float64\n",
       "Medicine_Type           object\n",
       "SidEffect_Level         object\n",
       "Availability_rating    float64\n",
       "Area_Type               object\n",
       "Area_City_Type          object\n",
       "Area_dist_level         object\n",
       "Counterfeit_Sales      float64\n",
       "data                    object\n",
       "dtype: object"
      ]
     },
     "execution_count": 20,
     "metadata": {},
     "output_type": "execute_result"
    }
   ],
   "source": [
    "# checking datatypes of all variables\n",
    "cf_all.dtypes"
   ]
  },
  {
   "cell_type": "code",
   "execution_count": 21,
   "metadata": {},
   "outputs": [
    {
     "data": {
      "text/plain": [
       "Counterfeit_Weight      415\n",
       "DistArea_ID              10\n",
       "Active_Since              9\n",
       "Medicine_MRP           5970\n",
       "Medicine_Type            16\n",
       "SidEffect_Level           2\n",
       "Availability_rating    7884\n",
       "Area_Type                 4\n",
       "Area_City_Type            3\n",
       "Area_dist_level           4\n",
       "Counterfeit_Sales      3142\n",
       "data                      2\n",
       "dtype: int64"
      ]
     },
     "execution_count": 21,
     "metadata": {},
     "output_type": "execute_result"
    }
   ],
   "source": [
    "## check the no. of unique values in each column\n",
    "cf_all.nunique()"
   ]
  },
  {
   "cell_type": "markdown",
   "metadata": {},
   "source": [
    "## 3.2 Identifying Missing values"
   ]
  },
  {
   "cell_type": "code",
   "execution_count": 22,
   "metadata": {},
   "outputs": [
    {
     "data": {
      "text/plain": [
       "Counterfeit_Weight     1463\n",
       "DistArea_ID               0\n",
       "Active_Since              0\n",
       "Medicine_MRP              0\n",
       "Medicine_Type             0\n",
       "SidEffect_Level           0\n",
       "Availability_rating       0\n",
       "Area_Type                 0\n",
       "Area_City_Type            0\n",
       "Area_dist_level           0\n",
       "Counterfeit_Sales      1705\n",
       "data                      0\n",
       "dtype: int64"
      ]
     },
     "execution_count": 22,
     "metadata": {},
     "output_type": "execute_result"
    }
   ],
   "source": [
    "# check for presence of missing values \n",
    "cf_all.isnull().sum()"
   ]
  },
  {
   "cell_type": "markdown",
   "metadata": {},
   "source": [
    "### Observations:\n",
    "    \n",
    " *  Only **\"Counterfeit_Weight\"** variable has missing values, which needs to be imputed later."
   ]
  },
  {
   "cell_type": "markdown",
   "metadata": {},
   "source": [
    "## 3.3  Missing Value Imputation"
   ]
  },
  {
   "cell_type": "code",
   "execution_count": 23,
   "metadata": {},
   "outputs": [
    {
     "data": {
      "text/plain": [
       "count    7060.000000\n",
       "mean       14.157645\n",
       "std         4.643456\n",
       "min         5.855000\n",
       "25%        10.073750\n",
       "50%        13.900000\n",
       "75%        18.150000\n",
       "max        22.650000\n",
       "Name: Counterfeit_Weight, dtype: float64"
      ]
     },
     "execution_count": 23,
     "metadata": {},
     "output_type": "execute_result"
    }
   ],
   "source": [
    "# check descriptive statistics of 'Counterfeit_Weight'\n",
    "cf_all['Counterfeit_Weight'].describe()"
   ]
  },
  {
   "cell_type": "code",
   "execution_count": 24,
   "metadata": {},
   "outputs": [],
   "source": [
    "# imputing missing values with mean\n",
    "cf_all['Counterfeit_Weight'] = cf_all['Counterfeit_Weight'].fillna(cf_all['Counterfeit_Weight'].mean())"
   ]
  },
  {
   "cell_type": "code",
   "execution_count": 25,
   "metadata": {},
   "outputs": [
    {
     "data": {
      "text/plain": [
       "0"
      ]
     },
     "execution_count": 25,
     "metadata": {},
     "output_type": "execute_result"
    }
   ],
   "source": [
    "# check if missing values got imputed\n",
    "cf_all['Counterfeit_Weight'].isnull().sum()"
   ]
  },
  {
   "cell_type": "markdown",
   "metadata": {},
   "source": [
    "## 3.4 Handling Categorical Data"
   ]
  },
  {
   "cell_type": "code",
   "execution_count": 26,
   "metadata": {},
   "outputs": [
    {
     "name": "stdout",
     "output_type": "stream",
     "text": [
      "DistArea_ID : 10\n",
      "Medicine_Type : 16\n",
      "SidEffect_Level : 2\n",
      "Area_Type : 4\n",
      "Area_City_Type : 3\n",
      "Area_dist_level : 4\n",
      "data : 2\n"
     ]
    }
   ],
   "source": [
    "#check the no. of unique values in categorical variables\n",
    "for col in cf_all.select_dtypes(['object']).columns:\n",
    "    print(col,':',cf_all[col].nunique()) "
   ]
  },
  {
   "cell_type": "markdown",
   "metadata": {},
   "source": [
    "###   Visualization of categorical data & their categories"
   ]
  },
  {
   "cell_type": "code",
   "execution_count": 27,
   "metadata": {},
   "outputs": [
    {
     "data": {
      "text/plain": [
       "(array([0, 1, 2, 3, 4, 5, 6, 7, 8, 9]),\n",
       " <a list of 10 Text major ticklabel objects>)"
      ]
     },
     "execution_count": 27,
     "metadata": {},
     "output_type": "execute_result"
    },
    {
     "data": {
      "image/png": "[encoded data removed]",
      "text/plain": [
       "<Figure size 720x360 with 1 Axes>"
      ]
     },
     "metadata": {},
     "output_type": "display_data"
    }
   ],
   "source": [
    "# DistArea_ID\n",
    "plt.figure(figsize= (10,5))\n",
    "sns.set_style(\"whitegrid\")\n",
    "sns.countplot(cf_all['DistArea_ID'])\n",
    "plt.xlabel('DistArea_ID', size = 20)\n",
    "plt.ylabel('count', size = 20)\n",
    "plt.xticks(rotation= 45)"
   ]
  },
  {
   "cell_type": "code",
   "execution_count": 28,
   "metadata": {},
   "outputs": [
    {
     "data": {
      "text/plain": [
       "(array([ 0,  1,  2,  3,  4,  5,  6,  7,  8,  9, 10, 11, 12, 13, 14, 15]),\n",
       " <a list of 16 Text major ticklabel objects>)"
      ]
     },
     "execution_count": 28,
     "metadata": {},
     "output_type": "execute_result"
    },
    {
     "data": {
      "image/png": "[encoded data removed]",
      "text/plain": [
       "<Figure size 720x576 with 1 Axes>"
      ]
     },
     "metadata": {},
     "output_type": "display_data"
    }
   ],
   "source": [
    "# Medicine_Type\n",
    "plt.figure(figsize= (10,8))\n",
    "sns.countplot(cf_all['Medicine_Type'])\n",
    "plt.xlabel('Medicine_Type', size = 20)\n",
    "plt.ylabel('count', size = 20)\n",
    "plt.xticks(rotation= 90)"
   ]
  },
  {
   "cell_type": "code",
   "execution_count": 29,
   "metadata": {},
   "outputs": [
    {
     "data": {
      "text/plain": [
       "(array([0, 1]), <a list of 2 Text major ticklabel objects>)"
      ]
     },
     "execution_count": 29,
     "metadata": {},
     "output_type": "execute_result"
    },
    {
     "data": {
      "image/png": "[encoded data removed]",
      "text/plain": [
       "<Figure size 360x288 with 1 Axes>"
      ]
     },
     "metadata": {},
     "output_type": "display_data"
    }
   ],
   "source": [
    "# SidEffect_Level\n",
    "fig = plt.figure(figsize= (5,4))\n",
    "sns.countplot(cf_all['SidEffect_Level'])\n",
    "plt.xlabel('SidEffect_Level', size = 20)\n",
    "plt.ylabel('count', size = 20)\n",
    "plt.xticks(rotation= 45)"
   ]
  },
  {
   "cell_type": "code",
   "execution_count": 30,
   "metadata": {},
   "outputs": [
    {
     "data": {
      "text/plain": [
       "(array([0, 1, 2, 3]), <a list of 4 Text major ticklabel objects>)"
      ]
     },
     "execution_count": 30,
     "metadata": {},
     "output_type": "execute_result"
    },
    {
     "data": {
      "image/png": "[encoded data removed]",
      "text/plain": [
       "<Figure size 360x288 with 1 Axes>"
      ]
     },
     "metadata": {},
     "output_type": "display_data"
    }
   ],
   "source": [
    "# Area_Type\n",
    "plt.figure(figsize= (5,4))\n",
    "sns.countplot(cf_all['Area_Type'])\n",
    "plt.xlabel('Area_Type', size = 20)\n",
    "plt.ylabel('count', size = 20)\n",
    "plt.xticks(rotation= 45)"
   ]
  },
  {
   "cell_type": "code",
   "execution_count": 31,
   "metadata": {},
   "outputs": [
    {
     "data": {
      "text/plain": [
       "Text(0, 0.5, 'count')"
      ]
     },
     "execution_count": 31,
     "metadata": {},
     "output_type": "execute_result"
    },
    {
     "data": {
      "image/png": "[encoded data removed]",
      "text/plain": [
       "<Figure size 360x288 with 1 Axes>"
      ]
     },
     "metadata": {},
     "output_type": "display_data"
    }
   ],
   "source": [
    "# Area_City_Type\n",
    "fig = plt.figure(figsize= (5,4))\n",
    "sns.countplot(cf_all['Area_City_Type'])\n",
    "plt.xlabel('Area_City_Type', size = 20)\n",
    "plt.ylabel('count', size = 20)"
   ]
  },
  {
   "cell_type": "code",
   "execution_count": 32,
   "metadata": {},
   "outputs": [
    {
     "data": {
      "text/plain": [
       "Text(0, 0.5, 'count')"
      ]
     },
     "execution_count": 32,
     "metadata": {},
     "output_type": "execute_result"
    },
    {
     "data": {
      "image/png": "[encoded data removed]",
      "text/plain": [
       "<Figure size 360x288 with 1 Axes>"
      ]
     },
     "metadata": {},
     "output_type": "display_data"
    }
   ],
   "source": [
    "# Area_dist_level\n",
    "fig = plt.figure(figsize= (5,4))\n",
    "sns.countplot(cf_all['Area_dist_level'])\n",
    "plt.xlabel('Area_dist_level', size = 20)\n",
    "plt.ylabel('count', size = 20)"
   ]
  },
  {
   "cell_type": "markdown",
   "metadata": {},
   "source": [
    "## 3.5 Feature Engineering"
   ]
  },
  {
   "cell_type": "markdown",
   "metadata": {},
   "source": [
    "### a) Variable Transformation"
   ]
  },
  {
   "cell_type": "code",
   "execution_count": 33,
   "metadata": {},
   "outputs": [],
   "source": [
    "## creating dummies for  categorical variables- #One Hot Coding:\n",
    "for col in ['DistArea_ID','Medicine_Type','SidEffect_Level','Area_Type','Area_City_Type','Area_dist_level']:\n",
    "    \n",
    "    temp = pd.get_dummies(cf_all[col], prefix = col, drop_first = True)\n",
    "    cf_all = pd.concat([temp,cf_all], axis = 1)\n",
    "    cf_all.drop([col], axis = 1, inplace = True)"
   ]
  },
  {
   "cell_type": "markdown",
   "metadata": {},
   "source": [
    "### b) Variable Creation"
   ]
  },
  {
   "cell_type": "code",
   "execution_count": 34,
   "metadata": {},
   "outputs": [],
   "source": [
    "# Create new feature  'total years of operation from  'Active_Since'\n",
    "cf_all['Operation_yrs'] = 2020 - cf_all['Active_Since']"
   ]
  },
  {
   "cell_type": "code",
   "execution_count": 35,
   "metadata": {},
   "outputs": [],
   "source": [
    "# drop original column 'Active_since\n",
    "cf_all.drop(['Active_Since'], axis = 1, inplace = True)"
   ]
  },
  {
   "cell_type": "code",
   "execution_count": 36,
   "metadata": {},
   "outputs": [
    {
     "data": {
      "text/html": [
       "<div>\n",
       "<style scoped>\n",
       "    .dataframe tbody tr th:only-of-type {\n",
       "        vertical-align: middle;\n",
       "    }\n",
       "\n",
       "    .dataframe tbody tr th {\n",
       "        vertical-align: top;\n",
       "    }\n",
       "\n",
       "    .dataframe thead th {\n",
       "        text-align: right;\n",
       "    }\n",
       "</style>\n",
       "<table border=\"1\" class=\"dataframe\">\n",
       "  <thead>\n",
       "    <tr style=\"text-align: right;\">\n",
       "      <th></th>\n",
       "      <th>Area_dist_level_Medium</th>\n",
       "      <th>Area_dist_level_Small</th>\n",
       "      <th>Area_dist_level_Unknown</th>\n",
       "      <th>Area_City_Type_Tier 2</th>\n",
       "      <th>Area_City_Type_Tier 3</th>\n",
       "      <th>Area_Type_DownTown</th>\n",
       "      <th>Area_Type_Industrial</th>\n",
       "      <th>Area_Type_MidTownResidential</th>\n",
       "      <th>SidEffect_Level_mild</th>\n",
       "      <th>Medicine_Type_Antacids</th>\n",
       "      <th>...</th>\n",
       "      <th>DistArea_ID_Area035</th>\n",
       "      <th>DistArea_ID_Area045</th>\n",
       "      <th>DistArea_ID_Area046</th>\n",
       "      <th>DistArea_ID_Area049</th>\n",
       "      <th>Counterfeit_Weight</th>\n",
       "      <th>Medicine_MRP</th>\n",
       "      <th>Availability_rating</th>\n",
       "      <th>Counterfeit_Sales</th>\n",
       "      <th>data</th>\n",
       "      <th>Operation_yrs</th>\n",
       "    </tr>\n",
       "  </thead>\n",
       "  <tbody>\n",
       "    <tr>\n",
       "      <th>0</th>\n",
       "      <td>0</td>\n",
       "      <td>1</td>\n",
       "      <td>0</td>\n",
       "      <td>0</td>\n",
       "      <td>0</td>\n",
       "      <td>1</td>\n",
       "      <td>0</td>\n",
       "      <td>0</td>\n",
       "      <td>0</td>\n",
       "      <td>0</td>\n",
       "      <td>...</td>\n",
       "      <td>0</td>\n",
       "      <td>0</td>\n",
       "      <td>1</td>\n",
       "      <td>0</td>\n",
       "      <td>13.100000</td>\n",
       "      <td>160.2366</td>\n",
       "      <td>0.070422</td>\n",
       "      <td>1775.5026</td>\n",
       "      <td>train</td>\n",
       "      <td>25</td>\n",
       "    </tr>\n",
       "    <tr>\n",
       "      <th>1</th>\n",
       "      <td>1</td>\n",
       "      <td>0</td>\n",
       "      <td>0</td>\n",
       "      <td>0</td>\n",
       "      <td>1</td>\n",
       "      <td>0</td>\n",
       "      <td>0</td>\n",
       "      <td>0</td>\n",
       "      <td>1</td>\n",
       "      <td>0</td>\n",
       "      <td>...</td>\n",
       "      <td>0</td>\n",
       "      <td>0</td>\n",
       "      <td>0</td>\n",
       "      <td>0</td>\n",
       "      <td>14.157645</td>\n",
       "      <td>110.4384</td>\n",
       "      <td>0.013000</td>\n",
       "      <td>3069.1520</td>\n",
       "      <td>train</td>\n",
       "      <td>37</td>\n",
       "    </tr>\n",
       "    <tr>\n",
       "      <th>2</th>\n",
       "      <td>0</td>\n",
       "      <td>1</td>\n",
       "      <td>0</td>\n",
       "      <td>0</td>\n",
       "      <td>0</td>\n",
       "      <td>1</td>\n",
       "      <td>0</td>\n",
       "      <td>0</td>\n",
       "      <td>1</td>\n",
       "      <td>0</td>\n",
       "      <td>...</td>\n",
       "      <td>0</td>\n",
       "      <td>0</td>\n",
       "      <td>1</td>\n",
       "      <td>0</td>\n",
       "      <td>9.025000</td>\n",
       "      <td>259.4092</td>\n",
       "      <td>0.060783</td>\n",
       "      <td>2603.0920</td>\n",
       "      <td>train</td>\n",
       "      <td>25</td>\n",
       "    </tr>\n",
       "    <tr>\n",
       "      <th>3</th>\n",
       "      <td>0</td>\n",
       "      <td>1</td>\n",
       "      <td>0</td>\n",
       "      <td>0</td>\n",
       "      <td>0</td>\n",
       "      <td>1</td>\n",
       "      <td>0</td>\n",
       "      <td>0</td>\n",
       "      <td>1</td>\n",
       "      <td>0</td>\n",
       "      <td>...</td>\n",
       "      <td>0</td>\n",
       "      <td>0</td>\n",
       "      <td>1</td>\n",
       "      <td>0</td>\n",
       "      <td>11.800000</td>\n",
       "      <td>99.9830</td>\n",
       "      <td>0.065555</td>\n",
       "      <td>1101.7130</td>\n",
       "      <td>train</td>\n",
       "      <td>25</td>\n",
       "    </tr>\n",
       "    <tr>\n",
       "      <th>4</th>\n",
       "      <td>0</td>\n",
       "      <td>1</td>\n",
       "      <td>0</td>\n",
       "      <td>0</td>\n",
       "      <td>0</td>\n",
       "      <td>0</td>\n",
       "      <td>0</td>\n",
       "      <td>1</td>\n",
       "      <td>0</td>\n",
       "      <td>0</td>\n",
       "      <td>...</td>\n",
       "      <td>0</td>\n",
       "      <td>0</td>\n",
       "      <td>0</td>\n",
       "      <td>0</td>\n",
       "      <td>14.157645</td>\n",
       "      <td>56.4402</td>\n",
       "      <td>0.248859</td>\n",
       "      <td>158.9402</td>\n",
       "      <td>train</td>\n",
       "      <td>37</td>\n",
       "    </tr>\n",
       "  </tbody>\n",
       "</table>\n",
       "<p>5 rows × 39 columns</p>\n",
       "</div>"
      ],
      "text/plain": [
       "   Area_dist_level_Medium  Area_dist_level_Small  Area_dist_level_Unknown  \\\n",
       "0                       0                      1                        0   \n",
       "1                       1                      0                        0   \n",
       "2                       0                      1                        0   \n",
       "3                       0                      1                        0   \n",
       "4                       0                      1                        0   \n",
       "\n",
       "   Area_City_Type_Tier 2  Area_City_Type_Tier 3  Area_Type_DownTown  \\\n",
       "0                      0                      0                   1   \n",
       "1                      0                      1                   0   \n",
       "2                      0                      0                   1   \n",
       "3                      0                      0                   1   \n",
       "4                      0                      0                   0   \n",
       "\n",
       "   Area_Type_Industrial  Area_Type_MidTownResidential  SidEffect_Level_mild  \\\n",
       "0                     0                             0                     0   \n",
       "1                     0                             0                     1   \n",
       "2                     0                             0                     1   \n",
       "3                     0                             0                     1   \n",
       "4                     0                             1                     0   \n",
       "\n",
       "   Medicine_Type_Antacids  ...  DistArea_ID_Area035  DistArea_ID_Area045  \\\n",
       "0                       0  ...                    0                    0   \n",
       "1                       0  ...                    0                    0   \n",
       "2                       0  ...                    0                    0   \n",
       "3                       0  ...                    0                    0   \n",
       "4                       0  ...                    0                    0   \n",
       "\n",
       "   DistArea_ID_Area046  DistArea_ID_Area049  Counterfeit_Weight  Medicine_MRP  \\\n",
       "0                    1                    0           13.100000      160.2366   \n",
       "1                    0                    0           14.157645      110.4384   \n",
       "2                    1                    0            9.025000      259.4092   \n",
       "3                    1                    0           11.800000       99.9830   \n",
       "4                    0                    0           14.157645       56.4402   \n",
       "\n",
       "   Availability_rating  Counterfeit_Sales   data  Operation_yrs  \n",
       "0             0.070422          1775.5026  train             25  \n",
       "1             0.013000          3069.1520  train             37  \n",
       "2             0.060783          2603.0920  train             25  \n",
       "3             0.065555          1101.7130  train             25  \n",
       "4             0.248859           158.9402  train             37  \n",
       "\n",
       "[5 rows x 39 columns]"
      ]
     },
     "execution_count": 36,
     "metadata": {},
     "output_type": "execute_result"
    }
   ],
   "source": [
    "# display top 5 rows of the data \n",
    "cf_all.head()"
   ]
  },
  {
   "cell_type": "markdown",
   "metadata": {},
   "source": [
    "## 3.6 Feature Scaling"
   ]
  },
  {
   "cell_type": "code",
   "execution_count": 37,
   "metadata": {},
   "outputs": [],
   "source": [
    "from sklearn.preprocessing import MinMaxScaler\n",
    "scaler = MinMaxScaler()\n",
    "columns_to_scale = ['Counterfeit_Weight', 'Medicine_MRP', 'Availability_rating', 'Operation_yrs']\n",
    "cf_all[columns_to_scale] = scaler.fit_transform(cf_all[columns_to_scale])"
   ]
  },
  {
   "cell_type": "code",
   "execution_count": 38,
   "metadata": {},
   "outputs": [
    {
     "data": {
      "text/html": [
       "<div>\n",
       "<style scoped>\n",
       "    .dataframe tbody tr th:only-of-type {\n",
       "        vertical-align: middle;\n",
       "    }\n",
       "\n",
       "    .dataframe tbody tr th {\n",
       "        vertical-align: top;\n",
       "    }\n",
       "\n",
       "    .dataframe thead th {\n",
       "        text-align: right;\n",
       "    }\n",
       "</style>\n",
       "<table border=\"1\" class=\"dataframe\">\n",
       "  <thead>\n",
       "    <tr style=\"text-align: right;\">\n",
       "      <th></th>\n",
       "      <th>Area_dist_level_Medium</th>\n",
       "      <th>Area_dist_level_Small</th>\n",
       "      <th>Area_dist_level_Unknown</th>\n",
       "      <th>Area_City_Type_Tier 2</th>\n",
       "      <th>Area_City_Type_Tier 3</th>\n",
       "      <th>Area_Type_DownTown</th>\n",
       "      <th>Area_Type_Industrial</th>\n",
       "      <th>Area_Type_MidTownResidential</th>\n",
       "      <th>SidEffect_Level_mild</th>\n",
       "      <th>Medicine_Type_Antacids</th>\n",
       "      <th>...</th>\n",
       "      <th>DistArea_ID_Area035</th>\n",
       "      <th>DistArea_ID_Area045</th>\n",
       "      <th>DistArea_ID_Area046</th>\n",
       "      <th>DistArea_ID_Area049</th>\n",
       "      <th>Counterfeit_Weight</th>\n",
       "      <th>Medicine_MRP</th>\n",
       "      <th>Availability_rating</th>\n",
       "      <th>Counterfeit_Sales</th>\n",
       "      <th>data</th>\n",
       "      <th>Operation_yrs</th>\n",
       "    </tr>\n",
       "  </thead>\n",
       "  <tbody>\n",
       "    <tr>\n",
       "      <th>0</th>\n",
       "      <td>0</td>\n",
       "      <td>1</td>\n",
       "      <td>0</td>\n",
       "      <td>0</td>\n",
       "      <td>0</td>\n",
       "      <td>1</td>\n",
       "      <td>0</td>\n",
       "      <td>0</td>\n",
       "      <td>0</td>\n",
       "      <td>0</td>\n",
       "      <td>...</td>\n",
       "      <td>0</td>\n",
       "      <td>0</td>\n",
       "      <td>1</td>\n",
       "      <td>0</td>\n",
       "      <td>0.431378</td>\n",
       "      <td>0.503597</td>\n",
       "      <td>0.174857</td>\n",
       "      <td>1775.5026</td>\n",
       "      <td>train</td>\n",
       "      <td>0.5</td>\n",
       "    </tr>\n",
       "    <tr>\n",
       "      <th>1</th>\n",
       "      <td>1</td>\n",
       "      <td>0</td>\n",
       "      <td>0</td>\n",
       "      <td>0</td>\n",
       "      <td>1</td>\n",
       "      <td>0</td>\n",
       "      <td>0</td>\n",
       "      <td>0</td>\n",
       "      <td>1</td>\n",
       "      <td>0</td>\n",
       "      <td>...</td>\n",
       "      <td>0</td>\n",
       "      <td>0</td>\n",
       "      <td>0</td>\n",
       "      <td>0</td>\n",
       "      <td>0.494352</td>\n",
       "      <td>0.292228</td>\n",
       "      <td>0.000000</td>\n",
       "      <td>3069.1520</td>\n",
       "      <td>train</td>\n",
       "      <td>1.0</td>\n",
       "    </tr>\n",
       "    <tr>\n",
       "      <th>2</th>\n",
       "      <td>0</td>\n",
       "      <td>1</td>\n",
       "      <td>0</td>\n",
       "      <td>0</td>\n",
       "      <td>0</td>\n",
       "      <td>1</td>\n",
       "      <td>0</td>\n",
       "      <td>0</td>\n",
       "      <td>1</td>\n",
       "      <td>0</td>\n",
       "      <td>...</td>\n",
       "      <td>0</td>\n",
       "      <td>0</td>\n",
       "      <td>1</td>\n",
       "      <td>0</td>\n",
       "      <td>0.188747</td>\n",
       "      <td>0.924536</td>\n",
       "      <td>0.145506</td>\n",
       "      <td>2603.0920</td>\n",
       "      <td>train</td>\n",
       "      <td>0.5</td>\n",
       "    </tr>\n",
       "    <tr>\n",
       "      <th>3</th>\n",
       "      <td>0</td>\n",
       "      <td>1</td>\n",
       "      <td>0</td>\n",
       "      <td>0</td>\n",
       "      <td>0</td>\n",
       "      <td>1</td>\n",
       "      <td>0</td>\n",
       "      <td>0</td>\n",
       "      <td>1</td>\n",
       "      <td>0</td>\n",
       "      <td>...</td>\n",
       "      <td>0</td>\n",
       "      <td>0</td>\n",
       "      <td>1</td>\n",
       "      <td>0</td>\n",
       "      <td>0.353974</td>\n",
       "      <td>0.247850</td>\n",
       "      <td>0.160039</td>\n",
       "      <td>1101.7130</td>\n",
       "      <td>train</td>\n",
       "      <td>0.5</td>\n",
       "    </tr>\n",
       "    <tr>\n",
       "      <th>4</th>\n",
       "      <td>0</td>\n",
       "      <td>1</td>\n",
       "      <td>0</td>\n",
       "      <td>0</td>\n",
       "      <td>0</td>\n",
       "      <td>0</td>\n",
       "      <td>0</td>\n",
       "      <td>1</td>\n",
       "      <td>0</td>\n",
       "      <td>0</td>\n",
       "      <td>...</td>\n",
       "      <td>0</td>\n",
       "      <td>0</td>\n",
       "      <td>0</td>\n",
       "      <td>0</td>\n",
       "      <td>0.494352</td>\n",
       "      <td>0.063032</td>\n",
       "      <td>0.718227</td>\n",
       "      <td>158.9402</td>\n",
       "      <td>train</td>\n",
       "      <td>1.0</td>\n",
       "    </tr>\n",
       "  </tbody>\n",
       "</table>\n",
       "<p>5 rows × 39 columns</p>\n",
       "</div>"
      ],
      "text/plain": [
       "   Area_dist_level_Medium  Area_dist_level_Small  Area_dist_level_Unknown  \\\n",
       "0                       0                      1                        0   \n",
       "1                       1                      0                        0   \n",
       "2                       0                      1                        0   \n",
       "3                       0                      1                        0   \n",
       "4                       0                      1                        0   \n",
       "\n",
       "   Area_City_Type_Tier 2  Area_City_Type_Tier 3  Area_Type_DownTown  \\\n",
       "0                      0                      0                   1   \n",
       "1                      0                      1                   0   \n",
       "2                      0                      0                   1   \n",
       "3                      0                      0                   1   \n",
       "4                      0                      0                   0   \n",
       "\n",
       "   Area_Type_Industrial  Area_Type_MidTownResidential  SidEffect_Level_mild  \\\n",
       "0                     0                             0                     0   \n",
       "1                     0                             0                     1   \n",
       "2                     0                             0                     1   \n",
       "3                     0                             0                     1   \n",
       "4                     0                             1                     0   \n",
       "\n",
       "   Medicine_Type_Antacids  ...  DistArea_ID_Area035  DistArea_ID_Area045  \\\n",
       "0                       0  ...                    0                    0   \n",
       "1                       0  ...                    0                    0   \n",
       "2                       0  ...                    0                    0   \n",
       "3                       0  ...                    0                    0   \n",
       "4                       0  ...                    0                    0   \n",
       "\n",
       "   DistArea_ID_Area046  DistArea_ID_Area049  Counterfeit_Weight  Medicine_MRP  \\\n",
       "0                    1                    0            0.431378      0.503597   \n",
       "1                    0                    0            0.494352      0.292228   \n",
       "2                    1                    0            0.188747      0.924536   \n",
       "3                    1                    0            0.353974      0.247850   \n",
       "4                    0                    0            0.494352      0.063032   \n",
       "\n",
       "   Availability_rating  Counterfeit_Sales   data  Operation_yrs  \n",
       "0             0.174857          1775.5026  train            0.5  \n",
       "1             0.000000          3069.1520  train            1.0  \n",
       "2             0.145506          2603.0920  train            0.5  \n",
       "3             0.160039          1101.7130  train            0.5  \n",
       "4             0.718227           158.9402  train            1.0  \n",
       "\n",
       "[5 rows x 39 columns]"
      ]
     },
     "execution_count": 38,
     "metadata": {},
     "output_type": "execute_result"
    }
   ],
   "source": [
    "# check top 5 rows of the data after feature scaling\n",
    "cf_all.head()"
   ]
  },
  {
   "cell_type": "markdown",
   "metadata": {},
   "source": [
    "## 3.7 Separate train & test data "
   ]
  },
  {
   "cell_type": "code",
   "execution_count": 39,
   "metadata": {},
   "outputs": [],
   "source": [
    "# separate train & test data before model building\n",
    "cf_train= cf_all[cf_all['data']== 'train' ]\n",
    "cf_train.drop(['data' ],1, inplace = True)\n",
    "\n",
    "cf_test= cf_all[cf_all['data']== 'test' ]\n",
    "cf_test.drop(['Counterfeit_Sales','data'],1, inplace = True)"
   ]
  },
  {
   "cell_type": "code",
   "execution_count": 40,
   "metadata": {},
   "outputs": [],
   "source": [
    "# delete the combined dataset\n",
    "del cf_all"
   ]
  },
  {
   "cell_type": "code",
   "execution_count": 41,
   "metadata": {},
   "outputs": [
    {
     "name": "stdout",
     "output_type": "stream",
     "text": [
      "(6818, 38) (1705, 37)\n"
     ]
    }
   ],
   "source": [
    "# check the dimesions of train & test set \n",
    "print(cf_train.shape, cf_test.shape) "
   ]
  },
  {
   "cell_type": "markdown",
   "metadata": {},
   "source": [
    "## 3.8 Train - Valdation  Split for cross validation"
   ]
  },
  {
   "cell_type": "code",
   "execution_count": 42,
   "metadata": {},
   "outputs": [],
   "source": [
    "# define features & target\n",
    "X = cf_train.drop(['Counterfeit_Sales'], axis = 1)\n",
    "y = cf_train['Counterfeit_Sales']"
   ]
  },
  {
   "cell_type": "code",
   "execution_count": 43,
   "metadata": {},
   "outputs": [],
   "source": [
    "from sklearn.model_selection import train_test_split\n",
    "# train-validation split in 80-20 ratio\n",
    "X_train, X_test, y_train, y_test = train_test_split(X,y ,test_size = 0.2,random_state = 13) "
   ]
  },
  {
   "cell_type": "code",
   "execution_count": 44,
   "metadata": {},
   "outputs": [
    {
     "name": "stdout",
     "output_type": "stream",
     "text": [
      "(5454, 37) (5454,)\n",
      "(1364, 37) (1364,)\n"
     ]
    }
   ],
   "source": [
    "# check dimesions of train & validation data\n",
    "print(X_train.shape, y_train.shape)\n",
    "print(X_test.shape, y_test.shape)"
   ]
  },
  {
   "cell_type": "markdown",
   "metadata": {},
   "source": [
    "# 4. Model Building"
   ]
  },
  {
   "cell_type": "markdown",
   "metadata": {},
   "source": [
    "## 4.1 Decision Tree"
   ]
  },
  {
   "cell_type": "code",
   "execution_count": 45,
   "metadata": {},
   "outputs": [],
   "source": [
    "from sklearn.tree import DecisionTreeRegressor\n",
    "# initialize the decision tree regressor\n",
    "dtree = DecisionTreeRegressor()"
   ]
  },
  {
   "cell_type": "code",
   "execution_count": 46,
   "metadata": {},
   "outputs": [
    {
     "data": {
      "text/plain": [
       "DecisionTreeRegressor()"
      ]
     },
     "execution_count": 46,
     "metadata": {},
     "output_type": "execute_result"
    }
   ],
   "source": [
    "# train the model \n",
    "dtree.fit(X_train, y_train)"
   ]
  },
  {
   "cell_type": "code",
   "execution_count": 47,
   "metadata": {},
   "outputs": [],
   "source": [
    "# generate predictions on validation  subset\n",
    "dt_pred = dtree.predict(X_test)"
   ]
  },
  {
   "cell_type": "code",
   "execution_count": 48,
   "metadata": {},
   "outputs": [],
   "source": [
    "from sklearn.metrics import mean_absolute_error\n",
    "from sklearn.metrics import mean_squared_error"
   ]
  },
  {
   "cell_type": "code",
   "execution_count": 49,
   "metadata": {},
   "outputs": [],
   "source": [
    "# evaluating the performance of model\n",
    "mae = mean_absolute_error(y_test, dt_pred)\n",
    "mse = mean_squared_error(y_test, dt_pred)\n",
    "rmse= np.sqrt(mean_squared_error(y_test, dt_pred))"
   ]
  },
  {
   "cell_type": "code",
   "execution_count": 50,
   "metadata": {},
   "outputs": [
    {
     "data": {
      "text/html": [
       "<div>\n",
       "<style scoped>\n",
       "    .dataframe tbody tr th:only-of-type {\n",
       "        vertical-align: middle;\n",
       "    }\n",
       "\n",
       "    .dataframe tbody tr th {\n",
       "        vertical-align: top;\n",
       "    }\n",
       "\n",
       "    .dataframe thead th {\n",
       "        text-align: right;\n",
       "    }\n",
       "</style>\n",
       "<table border=\"1\" class=\"dataframe\">\n",
       "  <thead>\n",
       "    <tr style=\"text-align: right;\">\n",
       "      <th></th>\n",
       "      <th>Models</th>\n",
       "      <th>MAE</th>\n",
       "      <th>MSE</th>\n",
       "      <th>RMSE</th>\n",
       "    </tr>\n",
       "  </thead>\n",
       "  <tbody>\n",
       "    <tr>\n",
       "      <th>0</th>\n",
       "      <td>Decision Tree</td>\n",
       "      <td>1037.665896</td>\n",
       "      <td>2.205149e+06</td>\n",
       "      <td>1484.974283</td>\n",
       "    </tr>\n",
       "  </tbody>\n",
       "</table>\n",
       "</div>"
      ],
      "text/plain": [
       "          Models          MAE           MSE         RMSE\n",
       "0  Decision Tree  1037.665896  2.205149e+06  1484.974283"
      ]
     },
     "execution_count": 50,
     "metadata": {},
     "output_type": "execute_result"
    }
   ],
   "source": [
    "results = pd.DataFrame([['Decision Tree', mae, mse,rmse]],\n",
    "                            columns = ['Models','MAE','MSE','RMSE'])\n",
    "results"
   ]
  },
  {
   "cell_type": "markdown",
   "metadata": {},
   "source": [
    "## 4.2 Random Forest"
   ]
  },
  {
   "cell_type": "code",
   "execution_count": 51,
   "metadata": {},
   "outputs": [],
   "source": [
    "from sklearn.ensemble import RandomForestRegressor\n",
    "# initialise the Random forest regressor\n",
    "rf = RandomForestRegressor()"
   ]
  },
  {
   "cell_type": "code",
   "execution_count": 52,
   "metadata": {},
   "outputs": [
    {
     "data": {
      "text/plain": [
       "RandomForestRegressor()"
      ]
     },
     "execution_count": 52,
     "metadata": {},
     "output_type": "execute_result"
    }
   ],
   "source": [
    "# train & fit the model \n",
    "rf.fit(X_train,y_train)"
   ]
  },
  {
   "cell_type": "code",
   "execution_count": 53,
   "metadata": {},
   "outputs": [],
   "source": [
    "# generate predictions on validation  subset\n",
    "pred_rf = rf.predict(X_test)"
   ]
  },
  {
   "cell_type": "code",
   "execution_count": 54,
   "metadata": {},
   "outputs": [
    {
     "data": {
      "text/plain": [
       "Text(0, 0.5, 'Predicted Values')"
      ]
     },
     "execution_count": 54,
     "metadata": {},
     "output_type": "execute_result"
    },
    {
     "data": {
      "image/png": "[encoded data removed]",
      "text/plain": [
       "<Figure size 432x288 with 1 Axes>"
      ]
     },
     "metadata": {},
     "output_type": "display_data"
    }
   ],
   "source": [
    "# visualizing - predicted v/s true values.\n",
    "plt.scatter(y_test, pred_rf)\n",
    "plt.xlabel('y_test(True Values)') \n",
    "plt.ylabel('Predicted Values')"
   ]
  },
  {
   "cell_type": "code",
   "execution_count": 55,
   "metadata": {},
   "outputs": [
    {
     "data": {
      "text/plain": [
       "<matplotlib.axes._subplots.AxesSubplot at 0x1f39e47d438>"
      ]
     },
     "execution_count": 55,
     "metadata": {},
     "output_type": "execute_result"
    },
    {
     "data": {
      "image/png": "[encoded data removed]",
      "text/plain": [
       "<Figure size 432x288 with 1 Axes>"
      ]
     },
     "metadata": {},
     "output_type": "display_data"
    }
   ],
   "source": [
    "# checking distribution of results\n",
    "sns.distplot(y_test - pred_rf)"
   ]
  },
  {
   "cell_type": "markdown",
   "metadata": {},
   "source": [
    "# Feature_importance"
   ]
  },
  {
   "cell_type": "code",
   "execution_count": 56,
   "metadata": {},
   "outputs": [
    {
     "data": {
      "image/png": "[encoded data removed]",
      "text/plain": [
       "<Figure size 432x288 with 1 Axes>"
      ]
     },
     "metadata": {},
     "output_type": "display_data"
    }
   ],
   "source": [
    "# sorting variables on the basis of feature importance\n",
    "features = X.columns\n",
    "importances = rf.feature_importances_\n",
    "indices = np.argsort(importances)[-9:]  # top 10 features\n",
    "plt.title('Feature Importances', size = 20)\n",
    "plt.barh(range(len(indices)), importances[indices], color='b', align='center')\n",
    "plt.yticks(range(len(indices)), [features[i] for i in indices])\n",
    "plt.xlabel('Relative Importance')\n",
    "plt.show()"
   ]
  },
  {
   "cell_type": "code",
   "execution_count": 57,
   "metadata": {},
   "outputs": [],
   "source": [
    "# evaluating model performance\n",
    "mae = mean_absolute_error(y_test, pred_rf)\n",
    "mse = mean_squared_error(y_test, pred_rf)\n",
    "rmse= np.sqrt(mean_squared_error(y_test, pred_rf))"
   ]
  },
  {
   "cell_type": "code",
   "execution_count": 58,
   "metadata": {},
   "outputs": [
    {
     "data": {
      "text/html": [
       "<div>\n",
       "<style scoped>\n",
       "    .dataframe tbody tr th:only-of-type {\n",
       "        vertical-align: middle;\n",
       "    }\n",
       "\n",
       "    .dataframe tbody tr th {\n",
       "        vertical-align: top;\n",
       "    }\n",
       "\n",
       "    .dataframe thead th {\n",
       "        text-align: right;\n",
       "    }\n",
       "</style>\n",
       "<table border=\"1\" class=\"dataframe\">\n",
       "  <thead>\n",
       "    <tr style=\"text-align: right;\">\n",
       "      <th></th>\n",
       "      <th>Models</th>\n",
       "      <th>MAE</th>\n",
       "      <th>MSE</th>\n",
       "      <th>RMSE</th>\n",
       "    </tr>\n",
       "  </thead>\n",
       "  <tbody>\n",
       "    <tr>\n",
       "      <th>0</th>\n",
       "      <td>Decision Tree</td>\n",
       "      <td>1037.665896</td>\n",
       "      <td>2.205149e+06</td>\n",
       "      <td>1484.974283</td>\n",
       "    </tr>\n",
       "    <tr>\n",
       "      <th>1</th>\n",
       "      <td>Random Forest</td>\n",
       "      <td>764.529827</td>\n",
       "      <td>1.199487e+06</td>\n",
       "      <td>1095.211150</td>\n",
       "    </tr>\n",
       "  </tbody>\n",
       "</table>\n",
       "</div>"
      ],
      "text/plain": [
       "          Models          MAE           MSE         RMSE\n",
       "0  Decision Tree  1037.665896  2.205149e+06  1484.974283\n",
       "1  Random Forest   764.529827  1.199487e+06  1095.211150"
      ]
     },
     "execution_count": 58,
     "metadata": {},
     "output_type": "execute_result"
    }
   ],
   "source": [
    "rf_results = pd.DataFrame([['Random Forest', mae, mse,rmse]],\n",
    "                            columns = ['Models','MAE','MSE','RMSE'])\n",
    "\n",
    "results = results.append(rf_results, ignore_index = True )\n",
    "results"
   ]
  },
  {
   "cell_type": "markdown",
   "metadata": {},
   "source": [
    "## 4.3 XGBoost"
   ]
  },
  {
   "cell_type": "code",
   "execution_count": 59,
   "metadata": {},
   "outputs": [],
   "source": [
    "from xgboost.sklearn import XGBRegressor as xgb\n",
    "# initialize  the model \n",
    "xg_reg = xgb()"
   ]
  },
  {
   "cell_type": "code",
   "execution_count": 60,
   "metadata": {},
   "outputs": [
    {
     "name": "stdout",
     "output_type": "stream",
     "text": [
      "[18:54:13] WARNING: src/objective/regression_obj.cu:152: reg:linear is now deprecated in favor of reg:squarederror.\n"
     ]
    },
    {
     "data": {
      "text/plain": [
       "XGBRegressor()"
      ]
     },
     "execution_count": 60,
     "metadata": {},
     "output_type": "execute_result"
    }
   ],
   "source": [
    "# train & fit  the model\n",
    "xg_reg.fit(X_train, y_train)"
   ]
  },
  {
   "cell_type": "code",
   "execution_count": 61,
   "metadata": {},
   "outputs": [],
   "source": [
    "# make prediction on validation set\n",
    "pred_xgb = xg_reg.predict(X_test)"
   ]
  },
  {
   "cell_type": "code",
   "execution_count": 62,
   "metadata": {},
   "outputs": [
    {
     "data": {
      "text/plain": [
       "Text(0, 0.5, 'Predicted Values')"
      ]
     },
     "execution_count": 62,
     "metadata": {},
     "output_type": "execute_result"
    },
    {
     "data": {
      "image/png": "[encoded data removed]",
      "text/plain": [
       "<Figure size 432x288 with 1 Axes>"
      ]
     },
     "metadata": {},
     "output_type": "display_data"
    }
   ],
   "source": [
    "# visualizing - predicted v/s true values\n",
    "plt.scatter(y_test, pred_xgb)\n",
    "plt.xlabel('y_test(True Values)') \n",
    "plt.ylabel('Predicted Values')"
   ]
  },
  {
   "cell_type": "code",
   "execution_count": 63,
   "metadata": {},
   "outputs": [
    {
     "data": {
      "text/plain": [
       "<matplotlib.axes._subplots.AxesSubplot at 0x1f39e5e8a58>"
      ]
     },
     "execution_count": 63,
     "metadata": {},
     "output_type": "execute_result"
    },
    {
     "data": {
      "image/png": "[encoded data removed]",
      "text/plain": [
       "<Figure size 432x288 with 1 Axes>"
      ]
     },
     "metadata": {},
     "output_type": "display_data"
    }
   ],
   "source": [
    "# distribution of results\n",
    "sns.distplot(y_test - pred_xgb)"
   ]
  },
  {
   "cell_type": "code",
   "execution_count": 64,
   "metadata": {},
   "outputs": [],
   "source": [
    "# evaluating the performance of model\n",
    "mae = mean_absolute_error(y_test, pred_xgb)\n",
    "mse = mean_squared_error(y_test, pred_xgb)\n",
    "rmse= np.sqrt(mean_squared_error(y_test, pred_xgb))"
   ]
  },
  {
   "cell_type": "code",
   "execution_count": 65,
   "metadata": {},
   "outputs": [
    {
     "data": {
      "text/html": [
       "<div>\n",
       "<style scoped>\n",
       "    .dataframe tbody tr th:only-of-type {\n",
       "        vertical-align: middle;\n",
       "    }\n",
       "\n",
       "    .dataframe tbody tr th {\n",
       "        vertical-align: top;\n",
       "    }\n",
       "\n",
       "    .dataframe thead th {\n",
       "        text-align: right;\n",
       "    }\n",
       "</style>\n",
       "<table border=\"1\" class=\"dataframe\">\n",
       "  <thead>\n",
       "    <tr style=\"text-align: right;\">\n",
       "      <th></th>\n",
       "      <th>Models</th>\n",
       "      <th>MAE</th>\n",
       "      <th>MSE</th>\n",
       "      <th>RMSE</th>\n",
       "    </tr>\n",
       "  </thead>\n",
       "  <tbody>\n",
       "    <tr>\n",
       "      <th>0</th>\n",
       "      <td>Decision Tree</td>\n",
       "      <td>1037.665896</td>\n",
       "      <td>2.205149e+06</td>\n",
       "      <td>1484.974283</td>\n",
       "    </tr>\n",
       "    <tr>\n",
       "      <th>1</th>\n",
       "      <td>Random Forest</td>\n",
       "      <td>764.529827</td>\n",
       "      <td>1.199487e+06</td>\n",
       "      <td>1095.211150</td>\n",
       "    </tr>\n",
       "    <tr>\n",
       "      <th>2</th>\n",
       "      <td>XG-Boost</td>\n",
       "      <td>733.312702</td>\n",
       "      <td>1.088126e+06</td>\n",
       "      <td>1043.133009</td>\n",
       "    </tr>\n",
       "  </tbody>\n",
       "</table>\n",
       "</div>"
      ],
      "text/plain": [
       "          Models          MAE           MSE         RMSE\n",
       "0  Decision Tree  1037.665896  2.205149e+06  1484.974283\n",
       "1  Random Forest   764.529827  1.199487e+06  1095.211150\n",
       "2       XG-Boost   733.312702  1.088126e+06  1043.133009"
      ]
     },
     "execution_count": 65,
     "metadata": {},
     "output_type": "execute_result"
    }
   ],
   "source": [
    "# creating dataframe with model performance results\n",
    "xgb_results = pd.DataFrame([['XG-Boost', mae, mse,rmse]],\n",
    "                            columns = ['Models','MAE','MSE','RMSE'])\n",
    "\n",
    "results = results.append(xgb_results, ignore_index = True )\n",
    "results"
   ]
  },
  {
   "cell_type": "markdown",
   "metadata": {},
   "source": [
    "## Obseravations:\n",
    "\n",
    "* XGBoost proves to be the best model amongst all, as it has the lowest MAE, MSE & RMSE."
   ]
  },
  {
   "cell_type": "markdown",
   "metadata": {},
   "source": [
    "## Hyper-parameter Tuning"
   ]
  },
  {
   "cell_type": "code",
   "execution_count": 66,
   "metadata": {},
   "outputs": [],
   "source": [
    "# set the parameters\n",
    "xgb_params = {\"n_estimators\": [25, 50, 100, 150, 200],\n",
    "             \"gamma\": [0, 2, 5, 8, 10],\n",
    "             \"max_depth\": [2, 3, 4, 5, 6, 7, 8],\n",
    "             \"min_child_weight\": [0.5, 2, 5, 7, 10]\n",
    "             }"
   ]
  },
  {
   "cell_type": "code",
   "execution_count": 67,
   "metadata": {},
   "outputs": [],
   "source": [
    "# initiate the xgboost regressor\n",
    "xgb1 = xgb()"
   ]
  },
  {
   "cell_type": "code",
   "execution_count": 69,
   "metadata": {},
   "outputs": [],
   "source": [
    "from sklearn.model_selection import RandomizedSearchCV\n",
    "# Randomised search cv \n",
    "random_search = RandomizedSearchCV(xgb1,\n",
    "                                   param_distributions = xgb_params,\n",
    "                                   n_iter = 20,\n",
    "                                   cv = 5,\n",
    "                                   scoring = \"neg_mean_absolute_error\",\n",
    "                                   n_jobs = -1,\n",
    "                                   verbose = False\n",
    ")"
   ]
  },
  {
   "cell_type": "code",
   "execution_count": 70,
   "metadata": {},
   "outputs": [
    {
     "name": "stdout",
     "output_type": "stream",
     "text": [
      "[19:06:53] WARNING: src/objective/regression_obj.cu:152: reg:linear is now deprecated in favor of reg:squarederror.\n"
     ]
    }
   ],
   "source": [
    "# Fit randomized search\n",
    "best_model = random_search.fit(X_train, y_train)"
   ]
  },
  {
   "cell_type": "code",
   "execution_count": 71,
   "metadata": {},
   "outputs": [
    {
     "data": {
      "text/plain": [
       "XGBRegressor(gamma=2, max_depth=4, min_child_weight=2, n_estimators=25)"
      ]
     },
     "execution_count": 71,
     "metadata": {},
     "output_type": "execute_result"
    }
   ],
   "source": [
    "# # View best hyperparameters\n",
    "random_search.best_estimator_"
   ]
  },
  {
   "cell_type": "code",
   "execution_count": 72,
   "metadata": {},
   "outputs": [
    {
     "data": {
      "text/plain": [
       "array([2648.6345, 2992.4744,  779.6165, ..., 1639.5531, 1639.5531,\n",
       "       3885.9275], dtype=float32)"
      ]
     },
     "execution_count": 72,
     "metadata": {},
     "output_type": "execute_result"
    }
   ],
   "source": [
    "# generate predictions on validation set\n",
    "final_preds = best_model.predict(X_test)\n",
    "final_preds"
   ]
  },
  {
   "cell_type": "code",
   "execution_count": 73,
   "metadata": {},
   "outputs": [],
   "source": [
    "# evaluating the performance of model\n",
    "mae = mean_absolute_error(y_test, final_preds)\n",
    "mse = mean_squared_error(y_test,final_preds)\n",
    "rmse= np.sqrt(mean_squared_error(y_test, final_preds))"
   ]
  },
  {
   "cell_type": "code",
   "execution_count": 74,
   "metadata": {},
   "outputs": [
    {
     "data": {
      "text/html": [
       "<div>\n",
       "<style scoped>\n",
       "    .dataframe tbody tr th:only-of-type {\n",
       "        vertical-align: middle;\n",
       "    }\n",
       "\n",
       "    .dataframe tbody tr th {\n",
       "        vertical-align: top;\n",
       "    }\n",
       "\n",
       "    .dataframe thead th {\n",
       "        text-align: right;\n",
       "    }\n",
       "</style>\n",
       "<table border=\"1\" class=\"dataframe\">\n",
       "  <thead>\n",
       "    <tr style=\"text-align: right;\">\n",
       "      <th></th>\n",
       "      <th>Models</th>\n",
       "      <th>MAE</th>\n",
       "      <th>MSE</th>\n",
       "      <th>RMSE</th>\n",
       "    </tr>\n",
       "  </thead>\n",
       "  <tbody>\n",
       "    <tr>\n",
       "      <th>0</th>\n",
       "      <td>Decision Tree</td>\n",
       "      <td>1037.665896</td>\n",
       "      <td>2.205149e+06</td>\n",
       "      <td>1484.974283</td>\n",
       "    </tr>\n",
       "    <tr>\n",
       "      <th>1</th>\n",
       "      <td>Random Forest</td>\n",
       "      <td>764.529827</td>\n",
       "      <td>1.199487e+06</td>\n",
       "      <td>1095.211150</td>\n",
       "    </tr>\n",
       "    <tr>\n",
       "      <th>2</th>\n",
       "      <td>XG-Boost</td>\n",
       "      <td>733.312702</td>\n",
       "      <td>1.088126e+06</td>\n",
       "      <td>1043.133009</td>\n",
       "    </tr>\n",
       "    <tr>\n",
       "      <th>3</th>\n",
       "      <td>XG-Boost(with HyperParams)</td>\n",
       "      <td>726.304669</td>\n",
       "      <td>1.084418e+06</td>\n",
       "      <td>1041.353747</td>\n",
       "    </tr>\n",
       "  </tbody>\n",
       "</table>\n",
       "</div>"
      ],
      "text/plain": [
       "                       Models          MAE           MSE         RMSE\n",
       "0               Decision Tree  1037.665896  2.205149e+06  1484.974283\n",
       "1               Random Forest   764.529827  1.199487e+06  1095.211150\n",
       "2                    XG-Boost   733.312702  1.088126e+06  1043.133009\n",
       "3  XG-Boost(with HyperParams)   726.304669  1.084418e+06  1041.353747"
      ]
     },
     "execution_count": 74,
     "metadata": {},
     "output_type": "execute_result"
    }
   ],
   "source": [
    "# creating dataframe with model performance results\n",
    "xgb1_results = pd.DataFrame([['XG-Boost(with HyperParams)', mae, mse,rmse]],\n",
    "                            columns = ['Models','MAE','MSE','RMSE'])\n",
    "\n",
    "results = results.append(xgb1_results, ignore_index = True )\n",
    "results"
   ]
  },
  {
   "cell_type": "markdown",
   "metadata": {},
   "source": [
    "# 5. Model Building  on entire Train data & predict on Test set"
   ]
  },
  {
   "cell_type": "code",
   "execution_count": 75,
   "metadata": {},
   "outputs": [],
   "source": [
    "X_new = cf_train.drop(['Counterfeit_Sales'],axis = 1)\n",
    "y_new = cf_train['Counterfeit_Sales']"
   ]
  },
  {
   "cell_type": "code",
   "execution_count": 76,
   "metadata": {},
   "outputs": [],
   "source": [
    "# instantiate the model with best parameters\n",
    "xgb_final = xgb(gamma=2, max_depth=4, min_child_weight=2, n_estimators=25)"
   ]
  },
  {
   "cell_type": "code",
   "execution_count": 77,
   "metadata": {},
   "outputs": [
    {
     "name": "stdout",
     "output_type": "stream",
     "text": [
      "[19:14:49] WARNING: src/objective/regression_obj.cu:152: reg:linear is now deprecated in favor of reg:squarederror.\n"
     ]
    },
    {
     "data": {
      "text/plain": [
       "XGBRegressor(gamma=2, max_depth=4, min_child_weight=2, n_estimators=25)"
      ]
     },
     "execution_count": 77,
     "metadata": {},
     "output_type": "execute_result"
    }
   ],
   "source": [
    "# train & fit the model \n",
    "xgb_final.fit(X_new,y_new)"
   ]
  },
  {
   "cell_type": "code",
   "execution_count": 78,
   "metadata": {},
   "outputs": [],
   "source": [
    "# prediction on test data \n",
    "test_pred = xgb_final.predict(cf_test) "
   ]
  },
  {
   "cell_type": "code",
   "execution_count": 79,
   "metadata": {},
   "outputs": [
    {
     "data": {
      "text/html": [
       "<div>\n",
       "<style scoped>\n",
       "    .dataframe tbody tr th:only-of-type {\n",
       "        vertical-align: middle;\n",
       "    }\n",
       "\n",
       "    .dataframe tbody tr th {\n",
       "        vertical-align: top;\n",
       "    }\n",
       "\n",
       "    .dataframe thead th {\n",
       "        text-align: right;\n",
       "    }\n",
       "</style>\n",
       "<table border=\"1\" class=\"dataframe\">\n",
       "  <thead>\n",
       "    <tr style=\"text-align: right;\">\n",
       "      <th></th>\n",
       "      <th>Medicine_ID</th>\n",
       "      <th>Counterfeit_Sales</th>\n",
       "    </tr>\n",
       "  </thead>\n",
       "  <tbody>\n",
       "    <tr>\n",
       "      <th>0</th>\n",
       "      <td>HLZ81</td>\n",
       "      <td>2132.546143</td>\n",
       "    </tr>\n",
       "    <tr>\n",
       "      <th>1</th>\n",
       "      <td>ECE94</td>\n",
       "      <td>3785.938721</td>\n",
       "    </tr>\n",
       "    <tr>\n",
       "      <th>2</th>\n",
       "      <td>SAD14</td>\n",
       "      <td>1390.097656</td>\n",
       "    </tr>\n",
       "    <tr>\n",
       "      <th>3</th>\n",
       "      <td>EQV63</td>\n",
       "      <td>373.023102</td>\n",
       "    </tr>\n",
       "    <tr>\n",
       "      <th>4</th>\n",
       "      <td>AIR10</td>\n",
       "      <td>343.495697</td>\n",
       "    </tr>\n",
       "    <tr>\n",
       "      <th>...</th>\n",
       "      <td>...</td>\n",
       "      <td>...</td>\n",
       "    </tr>\n",
       "    <tr>\n",
       "      <th>1700</th>\n",
       "      <td>KXW10</td>\n",
       "      <td>3060.960693</td>\n",
       "    </tr>\n",
       "    <tr>\n",
       "      <th>1701</th>\n",
       "      <td>CKE54</td>\n",
       "      <td>801.045898</td>\n",
       "    </tr>\n",
       "    <tr>\n",
       "      <th>1702</th>\n",
       "      <td>HAY13</td>\n",
       "      <td>2809.726074</td>\n",
       "    </tr>\n",
       "    <tr>\n",
       "      <th>1703</th>\n",
       "      <td>ZEE32</td>\n",
       "      <td>3498.959717</td>\n",
       "    </tr>\n",
       "    <tr>\n",
       "      <th>1704</th>\n",
       "      <td>NDL93</td>\n",
       "      <td>3758.016602</td>\n",
       "    </tr>\n",
       "  </tbody>\n",
       "</table>\n",
       "<p>1705 rows × 2 columns</p>\n",
       "</div>"
      ],
      "text/plain": [
       "     Medicine_ID  Counterfeit_Sales\n",
       "0          HLZ81        2132.546143\n",
       "1          ECE94        3785.938721\n",
       "2          SAD14        1390.097656\n",
       "3          EQV63         373.023102\n",
       "4          AIR10         343.495697\n",
       "...          ...                ...\n",
       "1700       KXW10        3060.960693\n",
       "1701       CKE54         801.045898\n",
       "1702       HAY13        2809.726074\n",
       "1703       ZEE32        3498.959717\n",
       "1704       NDL93        3758.016602\n",
       "\n",
       "[1705 rows x 2 columns]"
      ]
     },
     "execution_count": 79,
     "metadata": {},
     "output_type": "execute_result"
    }
   ],
   "source": [
    "## submission dataframe with Medicine_ID & Sales Price\n",
    "xgb_preds = pd.DataFrame()\n",
    "xgb_preds['Medicine_ID'] = med_id\n",
    "xgb_preds[\"Counterfeit_Sales\"] = test_pred\n",
    "xgb_preds"
   ]
  },
  {
   "cell_type": "code",
   "execution_count": 80,
   "metadata": {},
   "outputs": [],
   "source": [
    "# Export prediction data & submit.\n",
    "xgb_preds.to_csv(\"Counterfeit_Medicines_Sales_Prediction.csv\", index=False)"
   ]
  },
  {
   "cell_type": "markdown",
   "metadata": {},
   "source": [
    "# --------------------End of  the project----------------------------"
   ]
  }
 ],
 "metadata": {
  "kernelspec": {
   "display_name": "Python 3",
   "language": "python",
   "name": "python3"
  },
  "language_info": {
   "codemirror_mode": {
    "name": "ipython",
    "version": 3
   },
   "file_extension": ".py",
   "mimetype": "text/x-python",
   "name": "python",
   "nbconvert_exporter": "python",
   "pygments_lexer": "ipython3",
   "version": "3.6.4"
  }
 },
 "nbformat": 4,
 "nbformat_minor": 2
}
